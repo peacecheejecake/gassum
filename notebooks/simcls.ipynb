{
 "cells": [
  {
   "cell_type": "code",
   "execution_count": 2,
   "metadata": {},
   "outputs": [],
   "source": [
    "from transformers import BartForConditionalGeneration, AutoTokenizer\n",
    "bart = BartForConditionalGeneration.from_pretrained('hyunwoongko/kobart')\n",
    "tokenizer = AutoTokenizer.from_pretrained('hyunwoongko/kobart')"
   ]
  },
  {
   "cell_type": "code",
   "execution_count": 3,
   "metadata": {},
   "outputs": [
    {
     "data": {
      "text/plain": [
       "tensor([[19261, 14301,  1700, 10021, 10277,  9747],\n",
       "        [11699,  9592, 15230, 11734,     3,     3]])"
      ]
     },
     "execution_count": 3,
     "metadata": {},
     "output_type": "execute_result"
    }
   ],
   "source": [
    "texts = ['최근 들어 딥러닝', '안녕 친구야']\n",
    "sample_ids = tokenizer(texts, padding=True, return_tensors='pt')['input_ids']\n",
    "sample_ids"
   ]
  },
  {
   "cell_type": "code",
   "execution_count": 4,
   "metadata": {},
   "outputs": [],
   "source": [
    "outs = bart.generate(\n",
    "    sample_ids,\n",
    "    max_length=50,\n",
    "    num_beams=5,\n",
    "    no_repeat_ngram_size=2,\n",
    "    num_return_sequences=1,\n",
    "    early_stopping=True,\n",
    ")"
   ]
  },
  {
   "cell_type": "code",
   "execution_count": 31,
   "metadata": {},
   "outputs": [],
   "source": [
    "import torch\n",
    "import torch.nn.functional as F\n",
    "\n",
    "def rerank(matrix, repeat_time, margin=0.):\n",
    "    upper = matrix.unsqueeze(-1).repeat_interleave(repeat_time, dim=-1)\n",
    "    lower = matrix.unsqueeze(1).repeat_interleave(repeat_time, dim=1)\n",
    "    return F.relu((lower - upper + margin).triu(1))"
   ]
  },
  {
   "cell_type": "code",
   "execution_count": 32,
   "metadata": {},
   "outputs": [
    {
     "data": {
      "text/plain": [
       "tensor([[[ 0.,  1.,  2.,  ..., 13., 14., 15.],\n",
       "         [ 0.,  0.,  1.,  ..., 12., 13., 14.],\n",
       "         [ 0.,  0.,  0.,  ..., 11., 12., 13.],\n",
       "         ...,\n",
       "         [ 0.,  0.,  0.,  ...,  0.,  1.,  2.],\n",
       "         [ 0.,  0.,  0.,  ...,  0.,  0.,  1.],\n",
       "         [ 0.,  0.,  0.,  ...,  0.,  0.,  0.]],\n",
       "\n",
       "        [[ 0.,  1.,  2.,  ..., 13., 14., 15.],\n",
       "         [ 0.,  0.,  1.,  ..., 12., 13., 14.],\n",
       "         [ 0.,  0.,  0.,  ..., 11., 12., 13.],\n",
       "         ...,\n",
       "         [ 0.,  0.,  0.,  ...,  0.,  1.,  2.],\n",
       "         [ 0.,  0.,  0.,  ...,  0.,  0.,  1.],\n",
       "         [ 0.,  0.,  0.,  ...,  0.,  0.,  0.]],\n",
       "\n",
       "        [[ 0.,  1.,  2.,  ..., 13., 14., 15.],\n",
       "         [ 0.,  0.,  1.,  ..., 12., 13., 14.],\n",
       "         [ 0.,  0.,  0.,  ..., 11., 12., 13.],\n",
       "         ...,\n",
       "         [ 0.,  0.,  0.,  ...,  0.,  1.,  2.],\n",
       "         [ 0.,  0.,  0.,  ...,  0.,  0.,  1.],\n",
       "         [ 0.,  0.,  0.,  ...,  0.,  0.,  0.]],\n",
       "\n",
       "        ...,\n",
       "\n",
       "        [[ 0.,  1.,  2.,  ..., 13., 14., 15.],\n",
       "         [ 0.,  0.,  1.,  ..., 12., 13., 14.],\n",
       "         [ 0.,  0.,  0.,  ..., 11., 12., 13.],\n",
       "         ...,\n",
       "         [ 0.,  0.,  0.,  ...,  0.,  1.,  2.],\n",
       "         [ 0.,  0.,  0.,  ...,  0.,  0.,  1.],\n",
       "         [ 0.,  0.,  0.,  ...,  0.,  0.,  0.]],\n",
       "\n",
       "        [[ 0.,  1.,  2.,  ..., 13., 14., 15.],\n",
       "         [ 0.,  0.,  1.,  ..., 12., 13., 14.],\n",
       "         [ 0.,  0.,  0.,  ..., 11., 12., 13.],\n",
       "         ...,\n",
       "         [ 0.,  0.,  0.,  ...,  0.,  1.,  2.],\n",
       "         [ 0.,  0.,  0.,  ...,  0.,  0.,  1.],\n",
       "         [ 0.,  0.,  0.,  ...,  0.,  0.,  0.]],\n",
       "\n",
       "        [[ 0.,  1.,  2.,  ..., 13., 14., 15.],\n",
       "         [ 0.,  0.,  1.,  ..., 12., 13., 14.],\n",
       "         [ 0.,  0.,  0.,  ..., 11., 12., 13.],\n",
       "         ...,\n",
       "         [ 0.,  0.,  0.,  ...,  0.,  1.,  2.],\n",
       "         [ 0.,  0.,  0.,  ...,  0.,  0.,  1.],\n",
       "         [ 0.,  0.,  0.,  ...,  0.,  0.,  0.]]])"
      ]
     },
     "execution_count": 32,
     "metadata": {},
     "output_type": "execute_result"
    }
   ],
   "source": [
    "batch_size = 8\n",
    "num_cands = 16\n",
    "# # embed_size = docs['input_ids'].size(-1)\n",
    "# assert num_cands == cands['input_ids'].size(0) // batch_size\n",
    "\n",
    "# doc_embeddings = self.encoder(**docs)[0][:, 0, :]\n",
    "# gold_embeddings = self.encoder(**golds)[0][:, 0, :]\n",
    "# sims_doc_gold = torch.cosine_similarity(doc_embeddings, gold_embeddings, dim=-1)\n",
    "\n",
    "# cand_embeddings = self.encoder(**cands)[0][:, 0, :].view(batch_size, num_cands, -1)\n",
    "# doc_embeddings = doc_embeddings.unsqueeze(1).repeat_interleave(num_cands, dim=1)\n",
    "# sims_doc_cand = torch.cosine_similarity(doc_embeddings, cand_embeddings, dim=-1)\n",
    "\n",
    "# scores_gold = sims_doc_cand - sims_doc_gold.unsqueeze(1).repeat_interleave(num_cands, dim=1)\n",
    "# scores_gold = F.relu(scores_gold).sum(1)\n",
    "\n",
    "ranks = (\n",
    "    torch.arange(num_cands)\n",
    "    .unsqueeze(0)\n",
    "    .repeat_interleave(batch_size, dim=0)\n",
    ")\n",
    "rerank(ranks, num_cands)"
   ]
  },
  {
   "cell_type": "code",
   "execution_count": 33,
   "metadata": {},
   "outputs": [
    {
     "data": {
      "text/html": [
       "<div>\n",
       "<style scoped>\n",
       "    .dataframe tbody tr th:only-of-type {\n",
       "        vertical-align: middle;\n",
       "    }\n",
       "\n",
       "    .dataframe tbody tr th {\n",
       "        vertical-align: top;\n",
       "    }\n",
       "\n",
       "    .dataframe thead th {\n",
       "        text-align: right;\n",
       "    }\n",
       "</style>\n",
       "<table border=\"1\" class=\"dataframe\">\n",
       "  <thead>\n",
       "    <tr style=\"text-align: right;\">\n",
       "      <th></th>\n",
       "      <th>ab</th>\n",
       "    </tr>\n",
       "  </thead>\n",
       "  <tbody>\n",
       "    <tr>\n",
       "      <th>0</th>\n",
       "      <td>[1, 2, 3]</td>\n",
       "    </tr>\n",
       "    <tr>\n",
       "      <th>1</th>\n",
       "      <td>[1, 2, 3]</td>\n",
       "    </tr>\n",
       "  </tbody>\n",
       "</table>\n",
       "</div>"
      ],
      "text/plain": [
       "          ab\n",
       "0  [1, 2, 3]\n",
       "1  [1, 2, 3]"
      ]
     },
     "execution_count": 33,
     "metadata": {},
     "output_type": "execute_result"
    }
   ],
   "source": [
    "import pandas as pd\n",
    "pd.DataFrame({'ab': [[1,2,3],[1,2,3]]})"
   ]
  },
  {
   "cell_type": "code",
   "execution_count": 34,
   "metadata": {},
   "outputs": [
    {
     "name": "stderr",
     "output_type": "stream",
     "text": [
      "<frozen importlib._bootstrap>:219: RuntimeWarning: numpy.ufunc size changed, may indicate binary incompatibility. Expected 192 from C header, got 216 from PyObject\n",
      "<frozen importlib._bootstrap>:219: RuntimeWarning: numpy.ufunc size changed, may indicate binary incompatibility. Expected 192 from C header, got 216 from PyObject\n"
     ]
    }
   ],
   "source": [
    "from datasets import load_metric\n",
    "rouge = load_metric('rouge')"
   ]
  },
  {
   "cell_type": "code",
   "execution_count": 47,
   "metadata": {},
   "outputs": [],
   "source": [
    "predictions = ['abc ccc', 'edf']\n",
    "references = ['abc ccc', 'edf']\n",
    "# ['최근 들어 딥러닝은 음성, 시각, 자연어, 로봇, 게임 등 인공지능 여러 분야의', '환경을 근본적으로 변화시키고 있다.']\n",
    "# references = ['최근 들어 딥러닝은 음성, 시각, 자연어, 로봇, 게임 등 인공지능 여러 분야의', '환경을 근본적으로 변화시키고 있다.']\n",
    "scores = rouge.compute(predictions=predictions, references=references[::-1])"
   ]
  },
  {
   "cell_type": "code",
   "execution_count": 48,
   "metadata": {},
   "outputs": [
    {
     "data": {
      "text/plain": [
       "0.0"
      ]
     },
     "execution_count": 48,
     "metadata": {},
     "output_type": "execute_result"
    }
   ],
   "source": [
    "scores['rouge1'].mid.fmeasure"
   ]
  },
  {
   "cell_type": "code",
   "execution_count": null,
   "metadata": {},
   "outputs": [],
   "source": []
  },
  {
   "cell_type": "code",
   "execution_count": 1,
   "metadata": {},
   "outputs": [],
   "source": [
    "valid_path = '/Volumes/GoogleDrive/My Drive/gassum/data/valid_w_cands.csv'"
   ]
  },
  {
   "cell_type": "code",
   "execution_count": 2,
   "metadata": {},
   "outputs": [],
   "source": [
    "import pandas as pd"
   ]
  },
  {
   "cell_type": "code",
   "execution_count": 3,
   "metadata": {},
   "outputs": [],
   "source": [
    "valid = pd.read_csv(valid_path)"
   ]
  },
  {
   "cell_type": "code",
   "execution_count": 5,
   "metadata": {},
   "outputs": [],
   "source": [
    "valid = valid.iloc[:, 2:]"
   ]
  },
  {
   "cell_type": "code",
   "execution_count": 15,
   "metadata": {},
   "outputs": [
    {
     "data": {
      "text/plain": [
       "['바른미래당이 8일 연 최고위원 회의에는 7명의 최고위원 중 손학규 대표와 김관영 원내대표만 참석하였고 바른정당계 하태경·이준석·권은희 최고위원은 지도부 총사퇴를 요구하며 회의를 보이콧하는 등 당 지도부 퇴진을 놓고 바른미래당 내홍이 격화되고 있다.',\n",
       " '바른미래당이 8일 연 최고위원 회의에는 7명의 최고위원 중 손학규 대표와 김관영 원내대표만 참석하였고 바른정당계 하태경·이준석·권은희 최고위원은 지도부 총사퇴를 요구하며 회의를 보이콧하는 등 당 지도부 퇴진을 놓고 바른미래당 내홍이 격화되고 있는 것으로 알려졌다.',\n",
       " '바른미래당이 8일 연 최고위원 회의에는 7명의 최고위원 중 손학규 대표와 김관영 원내대표만 참석하였고 바른정당계 하태경·이준석·권은희 최고위원은 지도부 총사퇴를 요구하며 회의를 보이콧하여 당 지도부 퇴진을 놓고 바른미래당 내홍이 격화되고 있다.',\n",
       " '바른미래당이 8일 연 최고위원 회의에는 7명의 최고위원 중 손학규 대표와 김관영 원내대표만 참석하였고 바른정당계 하태경·이준석·권은희 최고위원은 지도부 총사퇴를 요구하며 회의를 보이콧하는 등, 당 지도부 퇴진을 놓고 바른미래당 내홍이 격화되고 있다.']"
      ]
     },
     "execution_count": 15,
     "metadata": {},
     "output_type": "execute_result"
    }
   ],
   "source": [
    "eval(valid['candidates'][1])"
   ]
  },
  {
   "cell_type": "code",
   "execution_count": 16,
   "metadata": {},
   "outputs": [],
   "source": [
    "train_path = '/Volumes/GoogleDrive/My Drive/gassum/data/train_w_cands.csv'"
   ]
  },
  {
   "cell_type": "code",
   "execution_count": 17,
   "metadata": {},
   "outputs": [],
   "source": [
    "train = pd.read_csv(train_path)"
   ]
  },
  {
   "cell_type": "code",
   "execution_count": 18,
   "metadata": {},
   "outputs": [
    {
     "data": {
      "text/plain": [
       "271093"
      ]
     },
     "execution_count": 18,
     "metadata": {},
     "output_type": "execute_result"
    }
   ],
   "source": [
    "len(train)"
   ]
  },
  {
   "cell_type": "code",
   "execution_count": 21,
   "metadata": {},
   "outputs": [
    {
     "data": {
      "text/html": [
       "<div>\n",
       "<style scoped>\n",
       "    .dataframe tbody tr th:only-of-type {\n",
       "        vertical-align: middle;\n",
       "    }\n",
       "\n",
       "    .dataframe tbody tr th {\n",
       "        vertical-align: top;\n",
       "    }\n",
       "\n",
       "    .dataframe thead th {\n",
       "        text-align: right;\n",
       "    }\n",
       "</style>\n",
       "<table border=\"1\" class=\"dataframe\">\n",
       "  <thead>\n",
       "    <tr style=\"text-align: right;\">\n",
       "      <th></th>\n",
       "      <th>id</th>\n",
       "      <th>title</th>\n",
       "      <th>text</th>\n",
       "      <th>summary</th>\n",
       "      <th>publish_date</th>\n",
       "      <th>size</th>\n",
       "      <th>char_count</th>\n",
       "      <th>category</th>\n",
       "      <th>media_type</th>\n",
       "      <th>media_sub_type</th>\n",
       "      <th>media_name</th>\n",
       "      <th>candidates</th>\n",
       "    </tr>\n",
       "  </thead>\n",
       "  <tbody>\n",
       "    <tr>\n",
       "      <th>0</th>\n",
       "      <td>290741778</td>\n",
       "      <td>논 타작물 재배, 2월 말까지 신청하세요</td>\n",
       "      <td>ha당 조사료 400만원…작물별 차등 지원 이성훈 sinawi@hanmail.net...</td>\n",
       "      <td>전라남도가 쌀 과잉문제를 근본적으로 해결하기 위해 올해부터 벼를 심었던 논에 벼 대...</td>\n",
       "      <td>2018-01-05 18:54:55</td>\n",
       "      <td>small</td>\n",
       "      <td>927</td>\n",
       "      <td>종합</td>\n",
       "      <td>online</td>\n",
       "      <td>지역지</td>\n",
       "      <td>광양신문</td>\n",
       "      <td>['전라남도가 쌀 과잉문제를 근본적으로 해결하기 위해 올해부터 시행하는 쌀 생산조정...</td>\n",
       "    </tr>\n",
       "    <tr>\n",
       "      <th>1</th>\n",
       "      <td>290741792</td>\n",
       "      <td>여수시, 컬러빌리지 마무리...‘색채와 빛’도시 완성</td>\n",
       "      <td>8억 투입, 고소천사벽화·자산마을에 색채 입혀 이성훈 sinawi@hanmail.n...</td>\n",
       "      <td>여수시는 컬러빌리지 사업에 8억원을 투입하여 ‘색채와 빛’ 도시를 완성하여 고소천사...</td>\n",
       "      <td>2018-01-05 18:53:20</td>\n",
       "      <td>small</td>\n",
       "      <td>764</td>\n",
       "      <td>종합</td>\n",
       "      <td>online</td>\n",
       "      <td>지역지</td>\n",
       "      <td>광양신문</td>\n",
       "      <td>[\"여수시는'낮에는 색채, 밤에는 빛'을 주제로 지난해 초 착공에 들어간 컬러빌리지...</td>\n",
       "    </tr>\n",
       "    <tr>\n",
       "      <th>2</th>\n",
       "      <td>290741793</td>\n",
       "      <td>“새해 정기 받고 올해는 반드시 일내자!”</td>\n",
       "      <td>전남드래곤즈 해맞이 다짐…선수 영입 활발 이성훈 sinawi@hanmail.net ...</td>\n",
       "      <td>전남드래곤즈 임직원과 선수단이 4일 구봉산 정상에 올라 일출을 보며 2018년 구단...</td>\n",
       "      <td>2018-01-05 18:52:15</td>\n",
       "      <td>medium</td>\n",
       "      <td>1066</td>\n",
       "      <td>스포츠</td>\n",
       "      <td>online</td>\n",
       "      <td>지역지</td>\n",
       "      <td>광양신문</td>\n",
       "      <td>['전남드래곤즈 구성원 모두가 한마음 한 뜻으로 구단 목표 달성을 위해 정진하자는 ...</td>\n",
       "    </tr>\n",
       "    <tr>\n",
       "      <th>3</th>\n",
       "      <td>290741794</td>\n",
       "      <td>농업인 역량 강화, 새해 실용교육 실시</td>\n",
       "      <td>11~24일, 매실·감·참다래 등 지역특화작목 이성훈 sinawi@hanmail.n...</td>\n",
       "      <td>광양시는 농업인들의 경쟁력을 높이고, 소득안정을 위해 매실·감·참다래 등 지역특화작...</td>\n",
       "      <td>2018-01-05 18:50:17</td>\n",
       "      <td>small</td>\n",
       "      <td>746</td>\n",
       "      <td>정치</td>\n",
       "      <td>online</td>\n",
       "      <td>지역지</td>\n",
       "      <td>광양신문</td>\n",
       "      <td>['광양시는 오는 11일부터 24일까지 농업인교육관과 읍면동 회의실에서 농업인 10...</td>\n",
       "    </tr>\n",
       "    <tr>\n",
       "      <th>4</th>\n",
       "      <td>290741797</td>\n",
       "      <td>타이완 크루즈관광객 4천여명‘전남’온다</td>\n",
       "      <td>홍콩 크루즈선사‘아쿠아리우스’ 4, 6월 여수항 입항 이성훈 sinawi@hanma...</td>\n",
       "      <td>올해 4월과 6월 두 차례에 걸쳐 타이완의 크루즈 관광객 4000여명이 여수에 입항...</td>\n",
       "      <td>2018-01-05 18:52:36</td>\n",
       "      <td>small</td>\n",
       "      <td>978</td>\n",
       "      <td>종합</td>\n",
       "      <td>online</td>\n",
       "      <td>지역지</td>\n",
       "      <td>광양신문</td>\n",
       "      <td>[\"전라남도는 올해 4월과 6월 홍콩 크루즈선사 스타크루즈의 5만톤급'아쿠아리우스'...</td>\n",
       "    </tr>\n",
       "    <tr>\n",
       "      <th>...</th>\n",
       "      <td>...</td>\n",
       "      <td>...</td>\n",
       "      <td>...</td>\n",
       "      <td>...</td>\n",
       "      <td>...</td>\n",
       "      <td>...</td>\n",
       "      <td>...</td>\n",
       "      <td>...</td>\n",
       "      <td>...</td>\n",
       "      <td>...</td>\n",
       "      <td>...</td>\n",
       "      <td>...</td>\n",
       "    </tr>\n",
       "    <tr>\n",
       "      <th>271088</th>\n",
       "      <td>340626140</td>\n",
       "      <td>미국서 날아온 비보...조기 걸린 대한항공</td>\n",
       "      <td>[ 노유정 기자 ] 조양호 한진그룹 회장의 갑작스런 타계 소식이 전해진 8일 오전,...</td>\n",
       "      <td>8일 미국에서 들려온 조양호 한진그룹 회장의 사망 소식에 서울 공항동 대한항공 본사...</td>\n",
       "      <td>2019-04-08 17:41:00</td>\n",
       "      <td>medium</td>\n",
       "      <td>1143</td>\n",
       "      <td>경제</td>\n",
       "      <td>online</td>\n",
       "      <td>경제지</td>\n",
       "      <td>한국경제</td>\n",
       "      <td>['조양호 한진그룹 회장의 갑작스런 타계 소식이 전해진 8일 오전, 서울 공항동 대...</td>\n",
       "    </tr>\n",
       "    <tr>\n",
       "      <th>271089</th>\n",
       "      <td>340626209</td>\n",
       "      <td>\"항공·물류산업 세계적 반열 올려놓은 분\"</td>\n",
       "      <td>] 조양호 한진그룹 회장이 타계하자 재계는 일제히 추모성명을 냈다. 전국경제인연합회...</td>\n",
       "      <td>조양호 한진그룹 회장이 타계하고 8일 전국경제인연합회는 논평을 통해 한국 항공과 물...</td>\n",
       "      <td>2019-04-08 17:42:00</td>\n",
       "      <td>small</td>\n",
       "      <td>849</td>\n",
       "      <td>경제</td>\n",
       "      <td>online</td>\n",
       "      <td>경제지</td>\n",
       "      <td>한국경제</td>\n",
       "      <td>['조양호 한진그룹 회장이 타계하자 전국경제인연합회는 8일 논평에서\"한국 항공·물류...</td>\n",
       "    </tr>\n",
       "    <tr>\n",
       "      <th>271090</th>\n",
       "      <td>340626213</td>\n",
       "      <td>趙회장 지분 3500억대...할증세율까지 적용하면 상속세 2000억 웃돌듯</td>\n",
       "      <td>[ 김익환 기자 ] 조양호 한진그룹 회장이 타계하면서 그의 재산을 물려받을 장남 조...</td>\n",
       "      <td>고 조 회장의 한진칼, 한진 등 상장회사의 주식가격 총합은 약 3560억 정도 되며...</td>\n",
       "      <td>2019-04-08 17:42:00</td>\n",
       "      <td>medium</td>\n",
       "      <td>1145</td>\n",
       "      <td>경제</td>\n",
       "      <td>online</td>\n",
       "      <td>경제지</td>\n",
       "      <td>한국경제</td>\n",
       "      <td>['8일 한국거래소에 따르면 조양호 한진그룹 회장이 타계하면서 그의 재산을 물려받을...</td>\n",
       "    </tr>\n",
       "    <tr>\n",
       "      <th>271091</th>\n",
       "      <td>340626365</td>\n",
       "      <td>한진그룹, 사장단 중심 비상경영체제로...조원태 '3세 경영' 본격화</td>\n",
       "      <td>[ 김보형 기자 ] 조양호 한진그룹 회장이 8일 타계하면서 그의 장남인 조원태 대한...</td>\n",
       "      <td>지난 8일 조양호 한진그룹 회장이 별세하면서 한진그룹은 비상경영체제에 돌입했고, 그...</td>\n",
       "      <td>2019-04-08 17:42:00</td>\n",
       "      <td>large</td>\n",
       "      <td>1899</td>\n",
       "      <td>경제</td>\n",
       "      <td>online</td>\n",
       "      <td>경제지</td>\n",
       "      <td>한국경제</td>\n",
       "      <td>[\"조양호 한진그룹 회장이 8일 타계하면서 그의 장남인 조원태 대한항공 사장(44)...</td>\n",
       "    </tr>\n",
       "    <tr>\n",
       "      <th>271092</th>\n",
       "      <td>340626537</td>\n",
       "      <td>육군총장 서욱·공군총장 원인철...'작전통' 전면배치</td>\n",
       "      <td>[ 박동휘 기자 ] 국방부가 8일 상반기 군 장성 인사를 단행했다. 한국군 주도의 ...</td>\n",
       "      <td>국방부는 8일 신임 육군참모총장에 '서욱' 합동참모본부 작전본부장, 신임 공군참모총...</td>\n",
       "      <td>2019-04-08 17:45:00</td>\n",
       "      <td>large</td>\n",
       "      <td>1529</td>\n",
       "      <td>정치</td>\n",
       "      <td>online</td>\n",
       "      <td>경제지</td>\n",
       "      <td>한국경제</td>\n",
       "      <td>[\"국방부가 8일 상반기 군 장성 인사를 단행했는데, 신임 육군참모총장에는 서욱 합...</td>\n",
       "    </tr>\n",
       "  </tbody>\n",
       "</table>\n",
       "<p>271093 rows × 12 columns</p>\n",
       "</div>"
      ],
      "text/plain": [
       "               id                                      title  \\\n",
       "0       290741778                     논 타작물 재배, 2월 말까지 신청하세요   \n",
       "1       290741792              여수시, 컬러빌리지 마무리...‘색채와 빛’도시 완성   \n",
       "2       290741793                    “새해 정기 받고 올해는 반드시 일내자!”   \n",
       "3       290741794                      농업인 역량 강화, 새해 실용교육 실시   \n",
       "4       290741797                      타이완 크루즈관광객 4천여명‘전남’온다   \n",
       "...           ...                                        ...   \n",
       "271088  340626140                    미국서 날아온 비보...조기 걸린 대한항공   \n",
       "271089  340626209                    \"항공·물류산업 세계적 반열 올려놓은 분\"   \n",
       "271090  340626213  趙회장 지분 3500억대...할증세율까지 적용하면 상속세 2000억 웃돌듯   \n",
       "271091  340626365     한진그룹, 사장단 중심 비상경영체제로...조원태 '3세 경영' 본격화   \n",
       "271092  340626537              육군총장 서욱·공군총장 원인철...'작전통' 전면배치   \n",
       "\n",
       "                                                     text  \\\n",
       "0       ha당 조사료 400만원…작물별 차등 지원 이성훈 sinawi@hanmail.net...   \n",
       "1       8억 투입, 고소천사벽화·자산마을에 색채 입혀 이성훈 sinawi@hanmail.n...   \n",
       "2       전남드래곤즈 해맞이 다짐…선수 영입 활발 이성훈 sinawi@hanmail.net ...   \n",
       "3       11~24일, 매실·감·참다래 등 지역특화작목 이성훈 sinawi@hanmail.n...   \n",
       "4       홍콩 크루즈선사‘아쿠아리우스’ 4, 6월 여수항 입항 이성훈 sinawi@hanma...   \n",
       "...                                                   ...   \n",
       "271088  [ 노유정 기자 ] 조양호 한진그룹 회장의 갑작스런 타계 소식이 전해진 8일 오전,...   \n",
       "271089  ] 조양호 한진그룹 회장이 타계하자 재계는 일제히 추모성명을 냈다. 전국경제인연합회...   \n",
       "271090  [ 김익환 기자 ] 조양호 한진그룹 회장이 타계하면서 그의 재산을 물려받을 장남 조...   \n",
       "271091  [ 김보형 기자 ] 조양호 한진그룹 회장이 8일 타계하면서 그의 장남인 조원태 대한...   \n",
       "271092  [ 박동휘 기자 ] 국방부가 8일 상반기 군 장성 인사를 단행했다. 한국군 주도의 ...   \n",
       "\n",
       "                                                  summary  \\\n",
       "0       전라남도가 쌀 과잉문제를 근본적으로 해결하기 위해 올해부터 벼를 심었던 논에 벼 대...   \n",
       "1       여수시는 컬러빌리지 사업에 8억원을 투입하여 ‘색채와 빛’ 도시를 완성하여 고소천사...   \n",
       "2       전남드래곤즈 임직원과 선수단이 4일 구봉산 정상에 올라 일출을 보며 2018년 구단...   \n",
       "3       광양시는 농업인들의 경쟁력을 높이고, 소득안정을 위해 매실·감·참다래 등 지역특화작...   \n",
       "4       올해 4월과 6월 두 차례에 걸쳐 타이완의 크루즈 관광객 4000여명이 여수에 입항...   \n",
       "...                                                   ...   \n",
       "271088  8일 미국에서 들려온 조양호 한진그룹 회장의 사망 소식에 서울 공항동 대한항공 본사...   \n",
       "271089  조양호 한진그룹 회장이 타계하고 8일 전국경제인연합회는 논평을 통해 한국 항공과 물...   \n",
       "271090  고 조 회장의 한진칼, 한진 등 상장회사의 주식가격 총합은 약 3560억 정도 되며...   \n",
       "271091  지난 8일 조양호 한진그룹 회장이 별세하면서 한진그룹은 비상경영체제에 돌입했고, 그...   \n",
       "271092  국방부는 8일 신임 육군참모총장에 '서욱' 합동참모본부 작전본부장, 신임 공군참모총...   \n",
       "\n",
       "               publish_date    size  char_count category media_type  \\\n",
       "0       2018-01-05 18:54:55   small         927       종합     online   \n",
       "1       2018-01-05 18:53:20   small         764       종합     online   \n",
       "2       2018-01-05 18:52:15  medium        1066      스포츠     online   \n",
       "3       2018-01-05 18:50:17   small         746       정치     online   \n",
       "4       2018-01-05 18:52:36   small         978       종합     online   \n",
       "...                     ...     ...         ...      ...        ...   \n",
       "271088  2019-04-08 17:41:00  medium        1143       경제     online   \n",
       "271089  2019-04-08 17:42:00   small         849       경제     online   \n",
       "271090  2019-04-08 17:42:00  medium        1145       경제     online   \n",
       "271091  2019-04-08 17:42:00   large        1899       경제     online   \n",
       "271092  2019-04-08 17:45:00   large        1529       정치     online   \n",
       "\n",
       "       media_sub_type media_name  \\\n",
       "0                 지역지       광양신문   \n",
       "1                 지역지       광양신문   \n",
       "2                 지역지       광양신문   \n",
       "3                 지역지       광양신문   \n",
       "4                 지역지       광양신문   \n",
       "...               ...        ...   \n",
       "271088            경제지       한국경제   \n",
       "271089            경제지       한국경제   \n",
       "271090            경제지       한국경제   \n",
       "271091            경제지       한국경제   \n",
       "271092            경제지       한국경제   \n",
       "\n",
       "                                               candidates  \n",
       "0       ['전라남도가 쌀 과잉문제를 근본적으로 해결하기 위해 올해부터 시행하는 쌀 생산조정...  \n",
       "1       [\"여수시는'낮에는 색채, 밤에는 빛'을 주제로 지난해 초 착공에 들어간 컬러빌리지...  \n",
       "2       ['전남드래곤즈 구성원 모두가 한마음 한 뜻으로 구단 목표 달성을 위해 정진하자는 ...  \n",
       "3       ['광양시는 오는 11일부터 24일까지 농업인교육관과 읍면동 회의실에서 농업인 10...  \n",
       "4       [\"전라남도는 올해 4월과 6월 홍콩 크루즈선사 스타크루즈의 5만톤급'아쿠아리우스'...  \n",
       "...                                                   ...  \n",
       "271088  ['조양호 한진그룹 회장의 갑작스런 타계 소식이 전해진 8일 오전, 서울 공항동 대...  \n",
       "271089  ['조양호 한진그룹 회장이 타계하자 전국경제인연합회는 8일 논평에서\"한국 항공·물류...  \n",
       "271090  ['8일 한국거래소에 따르면 조양호 한진그룹 회장이 타계하면서 그의 재산을 물려받을...  \n",
       "271091  [\"조양호 한진그룹 회장이 8일 타계하면서 그의 장남인 조원태 대한항공 사장(44)...  \n",
       "271092  [\"국방부가 8일 상반기 군 장성 인사를 단행했는데, 신임 육군참모총장에는 서욱 합...  \n",
       "\n",
       "[271093 rows x 12 columns]"
      ]
     },
     "execution_count": 21,
     "metadata": {},
     "output_type": "execute_result"
    }
   ],
   "source": [
    "train"
   ]
  },
  {
   "cell_type": "code",
   "execution_count": 20,
   "metadata": {},
   "outputs": [],
   "source": [
    "train = train.iloc[:, 2:]"
   ]
  },
  {
   "cell_type": "code",
   "execution_count": 40,
   "metadata": {},
   "outputs": [],
   "source": [
    "train.to_csv(train_path, index=False)"
   ]
  },
  {
   "cell_type": "code",
   "execution_count": 36,
   "metadata": {},
   "outputs": [],
   "source": [
    "train = train.loc[train['summary'].map(lambda x: isinstance(x, str))]"
   ]
  },
  {
   "cell_type": "code",
   "execution_count": 39,
   "metadata": {},
   "outputs": [
    {
     "data": {
      "text/html": [
       "<div>\n",
       "<style scoped>\n",
       "    .dataframe tbody tr th:only-of-type {\n",
       "        vertical-align: middle;\n",
       "    }\n",
       "\n",
       "    .dataframe tbody tr th {\n",
       "        vertical-align: top;\n",
       "    }\n",
       "\n",
       "    .dataframe thead th {\n",
       "        text-align: right;\n",
       "    }\n",
       "</style>\n",
       "<table border=\"1\" class=\"dataframe\">\n",
       "  <thead>\n",
       "    <tr style=\"text-align: right;\">\n",
       "      <th></th>\n",
       "      <th>id</th>\n",
       "      <th>title</th>\n",
       "      <th>text</th>\n",
       "      <th>summary</th>\n",
       "      <th>publish_date</th>\n",
       "      <th>size</th>\n",
       "      <th>char_count</th>\n",
       "      <th>category</th>\n",
       "      <th>media_type</th>\n",
       "      <th>media_sub_type</th>\n",
       "      <th>media_name</th>\n",
       "      <th>candidates</th>\n",
       "    </tr>\n",
       "  </thead>\n",
       "  <tbody>\n",
       "  </tbody>\n",
       "</table>\n",
       "</div>"
      ],
      "text/plain": [
       "Empty DataFrame\n",
       "Columns: [id, title, text, summary, publish_date, size, char_count, category, media_type, media_sub_type, media_name, candidates]\n",
       "Index: []"
      ]
     },
     "execution_count": 39,
     "metadata": {},
     "output_type": "execute_result"
    }
   ],
   "source": [
    "valid.loc[~valid['summary'].map(lambda x: isinstance(x, str))]"
   ]
  },
  {
   "cell_type": "code",
   "execution_count": null,
   "metadata": {},
   "outputs": [],
   "source": []
  }
 ],
 "metadata": {
  "interpreter": {
   "hash": "118dda7dd5b4f9ba402e4c816bdd6144d8c137eae9fb0dd2c8b169e7ca3dde8e"
  },
  "kernelspec": {
   "display_name": "Python 3.8.8 64-bit ('base': conda)",
   "language": "python",
   "name": "python3"
  },
  "language_info": {
   "codemirror_mode": {
    "name": "ipython",
    "version": 3
   },
   "file_extension": ".py",
   "mimetype": "text/x-python",
   "name": "python",
   "nbconvert_exporter": "python",
   "pygments_lexer": "ipython3",
   "version": "3.8.8"
  },
  "orig_nbformat": 4
 },
 "nbformat": 4,
 "nbformat_minor": 2
}
