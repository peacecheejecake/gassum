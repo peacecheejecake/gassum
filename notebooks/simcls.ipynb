{
 "cells": [
  {
   "cell_type": "code",
   "execution_count": 2,
   "metadata": {},
   "outputs": [],
   "source": [
    "from transformers import BartForConditionalGeneration, AutoTokenizer\n",
    "bart = BartForConditionalGeneration.from_pretrained('hyunwoongko/kobart')\n",
    "tokenizer = AutoTokenizer.from_pretrained('hyunwoongko/kobart')"
   ]
  },
  {
   "cell_type": "code",
   "execution_count": 3,
   "metadata": {},
   "outputs": [
    {
     "data": {
      "text/plain": [
       "tensor([[19261, 14301,  1700, 10021, 10277,  9747],\n",
       "        [11699,  9592, 15230, 11734,     3,     3]])"
      ]
     },
     "execution_count": 3,
     "metadata": {},
     "output_type": "execute_result"
    }
   ],
   "source": [
    "texts = ['최근 들어 딥러닝', '안녕 친구야']\n",
    "sample_ids = tokenizer(texts, padding=True, return_tensors='pt')['input_ids']\n",
    "sample_ids"
   ]
  },
  {
   "cell_type": "code",
   "execution_count": 4,
   "metadata": {},
   "outputs": [],
   "source": [
    "outs = bart.generate(\n",
    "    sample_ids,\n",
    "    max_length=50,\n",
    "    num_beams=5,\n",
    "    no_repeat_ngram_size=2,\n",
    "    num_return_sequences=1,\n",
    "    early_stopping=True,\n",
    ")"
   ]
  },
  {
   "cell_type": "code",
   "execution_count": 31,
   "metadata": {},
   "outputs": [],
   "source": [
    "import torch\n",
    "import torch.nn.functional as F\n",
    "\n",
    "def rerank(matrix, repeat_time, margin=0.):\n",
    "    upper = matrix.unsqueeze(-1).repeat_interleave(repeat_time, dim=-1)\n",
    "    lower = matrix.unsqueeze(1).repeat_interleave(repeat_time, dim=1)\n",
    "    return F.relu((lower - upper + margin).triu(1))"
   ]
  },
  {
   "cell_type": "code",
   "execution_count": 32,
   "metadata": {},
   "outputs": [
    {
     "data": {
      "text/plain": [
       "tensor([[[ 0.,  1.,  2.,  ..., 13., 14., 15.],\n",
       "         [ 0.,  0.,  1.,  ..., 12., 13., 14.],\n",
       "         [ 0.,  0.,  0.,  ..., 11., 12., 13.],\n",
       "         ...,\n",
       "         [ 0.,  0.,  0.,  ...,  0.,  1.,  2.],\n",
       "         [ 0.,  0.,  0.,  ...,  0.,  0.,  1.],\n",
       "         [ 0.,  0.,  0.,  ...,  0.,  0.,  0.]],\n",
       "\n",
       "        [[ 0.,  1.,  2.,  ..., 13., 14., 15.],\n",
       "         [ 0.,  0.,  1.,  ..., 12., 13., 14.],\n",
       "         [ 0.,  0.,  0.,  ..., 11., 12., 13.],\n",
       "         ...,\n",
       "         [ 0.,  0.,  0.,  ...,  0.,  1.,  2.],\n",
       "         [ 0.,  0.,  0.,  ...,  0.,  0.,  1.],\n",
       "         [ 0.,  0.,  0.,  ...,  0.,  0.,  0.]],\n",
       "\n",
       "        [[ 0.,  1.,  2.,  ..., 13., 14., 15.],\n",
       "         [ 0.,  0.,  1.,  ..., 12., 13., 14.],\n",
       "         [ 0.,  0.,  0.,  ..., 11., 12., 13.],\n",
       "         ...,\n",
       "         [ 0.,  0.,  0.,  ...,  0.,  1.,  2.],\n",
       "         [ 0.,  0.,  0.,  ...,  0.,  0.,  1.],\n",
       "         [ 0.,  0.,  0.,  ...,  0.,  0.,  0.]],\n",
       "\n",
       "        ...,\n",
       "\n",
       "        [[ 0.,  1.,  2.,  ..., 13., 14., 15.],\n",
       "         [ 0.,  0.,  1.,  ..., 12., 13., 14.],\n",
       "         [ 0.,  0.,  0.,  ..., 11., 12., 13.],\n",
       "         ...,\n",
       "         [ 0.,  0.,  0.,  ...,  0.,  1.,  2.],\n",
       "         [ 0.,  0.,  0.,  ...,  0.,  0.,  1.],\n",
       "         [ 0.,  0.,  0.,  ...,  0.,  0.,  0.]],\n",
       "\n",
       "        [[ 0.,  1.,  2.,  ..., 13., 14., 15.],\n",
       "         [ 0.,  0.,  1.,  ..., 12., 13., 14.],\n",
       "         [ 0.,  0.,  0.,  ..., 11., 12., 13.],\n",
       "         ...,\n",
       "         [ 0.,  0.,  0.,  ...,  0.,  1.,  2.],\n",
       "         [ 0.,  0.,  0.,  ...,  0.,  0.,  1.],\n",
       "         [ 0.,  0.,  0.,  ...,  0.,  0.,  0.]],\n",
       "\n",
       "        [[ 0.,  1.,  2.,  ..., 13., 14., 15.],\n",
       "         [ 0.,  0.,  1.,  ..., 12., 13., 14.],\n",
       "         [ 0.,  0.,  0.,  ..., 11., 12., 13.],\n",
       "         ...,\n",
       "         [ 0.,  0.,  0.,  ...,  0.,  1.,  2.],\n",
       "         [ 0.,  0.,  0.,  ...,  0.,  0.,  1.],\n",
       "         [ 0.,  0.,  0.,  ...,  0.,  0.,  0.]]])"
      ]
     },
     "execution_count": 32,
     "metadata": {},
     "output_type": "execute_result"
    }
   ],
   "source": [
    "batch_size = 8\n",
    "num_cands = 16\n",
    "# # embed_size = docs['input_ids'].size(-1)\n",
    "# assert num_cands == cands['input_ids'].size(0) // batch_size\n",
    "\n",
    "# doc_embeddings = self.encoder(**docs)[0][:, 0, :]\n",
    "# gold_embeddings = self.encoder(**golds)[0][:, 0, :]\n",
    "# sims_doc_gold = torch.cosine_similarity(doc_embeddings, gold_embeddings, dim=-1)\n",
    "\n",
    "# cand_embeddings = self.encoder(**cands)[0][:, 0, :].view(batch_size, num_cands, -1)\n",
    "# doc_embeddings = doc_embeddings.unsqueeze(1).repeat_interleave(num_cands, dim=1)\n",
    "# sims_doc_cand = torch.cosine_similarity(doc_embeddings, cand_embeddings, dim=-1)\n",
    "\n",
    "# scores_gold = sims_doc_cand - sims_doc_gold.unsqueeze(1).repeat_interleave(num_cands, dim=1)\n",
    "# scores_gold = F.relu(scores_gold).sum(1)\n",
    "\n",
    "ranks = (\n",
    "    torch.arange(num_cands)\n",
    "    .unsqueeze(0)\n",
    "    .repeat_interleave(batch_size, dim=0)\n",
    ")\n",
    "rerank(ranks, num_cands)"
   ]
  },
  {
   "cell_type": "code",
   "execution_count": 33,
   "metadata": {},
   "outputs": [
    {
     "data": {
      "text/html": [
       "<div>\n",
       "<style scoped>\n",
       "    .dataframe tbody tr th:only-of-type {\n",
       "        vertical-align: middle;\n",
       "    }\n",
       "\n",
       "    .dataframe tbody tr th {\n",
       "        vertical-align: top;\n",
       "    }\n",
       "\n",
       "    .dataframe thead th {\n",
       "        text-align: right;\n",
       "    }\n",
       "</style>\n",
       "<table border=\"1\" class=\"dataframe\">\n",
       "  <thead>\n",
       "    <tr style=\"text-align: right;\">\n",
       "      <th></th>\n",
       "      <th>ab</th>\n",
       "    </tr>\n",
       "  </thead>\n",
       "  <tbody>\n",
       "    <tr>\n",
       "      <th>0</th>\n",
       "      <td>[1, 2, 3]</td>\n",
       "    </tr>\n",
       "    <tr>\n",
       "      <th>1</th>\n",
       "      <td>[1, 2, 3]</td>\n",
       "    </tr>\n",
       "  </tbody>\n",
       "</table>\n",
       "</div>"
      ],
      "text/plain": [
       "          ab\n",
       "0  [1, 2, 3]\n",
       "1  [1, 2, 3]"
      ]
     },
     "execution_count": 33,
     "metadata": {},
     "output_type": "execute_result"
    }
   ],
   "source": [
    "import pandas as pd\n",
    "pd.DataFrame({'ab': [[1,2,3],[1,2,3]]})"
   ]
  },
  {
   "cell_type": "code",
   "execution_count": 34,
   "metadata": {},
   "outputs": [
    {
     "name": "stderr",
     "output_type": "stream",
     "text": [
      "<frozen importlib._bootstrap>:219: RuntimeWarning: numpy.ufunc size changed, may indicate binary incompatibility. Expected 192 from C header, got 216 from PyObject\n",
      "<frozen importlib._bootstrap>:219: RuntimeWarning: numpy.ufunc size changed, may indicate binary incompatibility. Expected 192 from C header, got 216 from PyObject\n"
     ]
    }
   ],
   "source": [
    "from datasets import load_metric\n",
    "rouge = load_metric('rouge')"
   ]
  },
  {
   "cell_type": "code",
   "execution_count": 47,
   "metadata": {},
   "outputs": [],
   "source": [
    "predictions = ['abc ccc', 'edf']\n",
    "references = ['abc ccc', 'edf']\n",
    "# ['최근 들어 딥러닝은 음성, 시각, 자연어, 로봇, 게임 등 인공지능 여러 분야의', '환경을 근본적으로 변화시키고 있다.']\n",
    "# references = ['최근 들어 딥러닝은 음성, 시각, 자연어, 로봇, 게임 등 인공지능 여러 분야의', '환경을 근본적으로 변화시키고 있다.']\n",
    "scores = rouge.compute(predictions=predictions, references=references[::-1])"
   ]
  },
  {
   "cell_type": "code",
   "execution_count": 48,
   "metadata": {},
   "outputs": [
    {
     "data": {
      "text/plain": [
       "0.0"
      ]
     },
     "execution_count": 48,
     "metadata": {},
     "output_type": "execute_result"
    }
   ],
   "source": [
    "scores['rouge1'].mid.fmeasure"
   ]
  },
  {
   "cell_type": "code",
   "execution_count": null,
   "metadata": {},
   "outputs": [],
   "source": []
  },
  {
   "cell_type": "code",
   "execution_count": 1,
   "metadata": {},
   "outputs": [],
   "source": [
    "valid_path = '/Volumes/GoogleDrive/My Drive/gassum/data/valid_w_cands.csv'"
   ]
  },
  {
   "cell_type": "code",
   "execution_count": 2,
   "metadata": {},
   "outputs": [],
   "source": [
    "import pandas as pd"
   ]
  },
  {
   "cell_type": "code",
   "execution_count": 3,
   "metadata": {},
   "outputs": [],
   "source": [
    "valid = pd.read_csv(valid_path)"
   ]
  },
  {
   "cell_type": "code",
   "execution_count": 5,
   "metadata": {},
   "outputs": [],
   "source": [
    "valid = valid.iloc[:, 2:]"
   ]
  },
  {
   "cell_type": "code",
   "execution_count": 15,
   "metadata": {},
   "outputs": [
    {
     "data": {
      "text/plain": [
       "['바른미래당이 8일 연 최고위원 회의에는 7명의 최고위원 중 손학규 대표와 김관영 원내대표만 참석하였고 바른정당계 하태경·이준석·권은희 최고위원은 지도부 총사퇴를 요구하며 회의를 보이콧하는 등 당 지도부 퇴진을 놓고 바른미래당 내홍이 격화되고 있다.',\n",
       " '바른미래당이 8일 연 최고위원 회의에는 7명의 최고위원 중 손학규 대표와 김관영 원내대표만 참석하였고 바른정당계 하태경·이준석·권은희 최고위원은 지도부 총사퇴를 요구하며 회의를 보이콧하는 등 당 지도부 퇴진을 놓고 바른미래당 내홍이 격화되고 있는 것으로 알려졌다.',\n",
       " '바른미래당이 8일 연 최고위원 회의에는 7명의 최고위원 중 손학규 대표와 김관영 원내대표만 참석하였고 바른정당계 하태경·이준석·권은희 최고위원은 지도부 총사퇴를 요구하며 회의를 보이콧하여 당 지도부 퇴진을 놓고 바른미래당 내홍이 격화되고 있다.',\n",
       " '바른미래당이 8일 연 최고위원 회의에는 7명의 최고위원 중 손학규 대표와 김관영 원내대표만 참석하였고 바른정당계 하태경·이준석·권은희 최고위원은 지도부 총사퇴를 요구하며 회의를 보이콧하는 등, 당 지도부 퇴진을 놓고 바른미래당 내홍이 격화되고 있다.']"
      ]
     },
     "execution_count": 15,
     "metadata": {},
     "output_type": "execute_result"
    }
   ],
   "source": [
    "eval(valid['candidates'][1])"
   ]
  },
  {
   "cell_type": "code",
   "execution_count": 16,
   "metadata": {},
   "outputs": [],
   "source": [
    "train_path = '/Volumes/GoogleDrive/My Drive/gassum/data/train_w_cands.csv'"
   ]
  },
  {
   "cell_type": "code",
   "execution_count": 17,
   "metadata": {},
   "outputs": [],
   "source": [
    "train = pd.read_csv(train_path)"
   ]
  },
  {
   "cell_type": "code",
   "execution_count": 18,
   "metadata": {},
   "outputs": [
    {
     "data": {
      "text/plain": [
       "271093"
      ]
     },
     "execution_count": 18,
     "metadata": {},
     "output_type": "execute_result"
    }
   ],
   "source": [
    "len(train)"
   ]
  },
  {
   "cell_type": "code",
   "execution_count": null,
   "metadata": {},
   "outputs": [],
   "source": [
    "train = train.iloc[:, 2:]"
   ]
  },
  {
   "cell_type": "code",
   "execution_count": null,
   "metadata": {},
   "outputs": [],
   "source": [
    "train.to_csv(train_path, index=False)"
   ]
  }
 ],
 "metadata": {
  "interpreter": {
   "hash": "118dda7dd5b4f9ba402e4c816bdd6144d8c137eae9fb0dd2c8b169e7ca3dde8e"
  },
  "kernelspec": {
   "display_name": "Python 3.8.8 64-bit ('base': conda)",
   "language": "python",
   "name": "python3"
  },
  "language_info": {
   "codemirror_mode": {
    "name": "ipython",
    "version": 3
   },
   "file_extension": ".py",
   "mimetype": "text/x-python",
   "name": "python",
   "nbconvert_exporter": "python",
   "pygments_lexer": "ipython3",
   "version": "3.8.8"
  },
  "orig_nbformat": 4
 },
 "nbformat": 4,
 "nbformat_minor": 2
}
