{
 "cells": [
  {
   "cell_type": "code",
   "execution_count": 1,
   "metadata": {},
   "outputs": [],
   "source": [
    "import jsonlines\n",
    "import pandas as pd"
   ]
  },
  {
   "cell_type": "code",
   "execution_count": 14,
   "metadata": {},
   "outputs": [],
   "source": [
    "train_path = '/Volumes/GoogleDrive/My Drive/gassum/data/train_original.json'\n",
    "valid_path = '/Volumes/GoogleDrive/My Drive/gassum/data/valid_original.json'\n",
    "test_path = '/Volumes/GoogleDrive/My Drive/gassum/data/new_test.jsonl'\n",
    "out_sample_path = '/Volumes/GoogleDrive/My Drive/gassum/data/new_sample_submission.csv'"
   ]
  },
  {
   "cell_type": "code",
   "execution_count": 3,
   "metadata": {},
   "outputs": [],
   "source": [
    "table = {'id': [], 'article': [], 'media': []}\n",
    "with open(test_path) as f:\n",
    "    with jsonlines.Reader(f) as reader:\n",
    "        for obj in reader.iter():\n",
    "            table['id'].append(obj['id'])\n",
    "            table['article'].append(' '.join(obj['article_original']))\n",
    "            table['media'].append(obj['media'])\n",
    "table = pd.DataFrame(data=table)"
   ]
  },
  {
   "cell_type": "code",
   "execution_count": 4,
   "metadata": {},
   "outputs": [
    {
     "data": {
      "text/plain": [
       "\"본선에서 트럼프에 패할 수 있다는 우려 때문이다. 지지율 3위: 엘리자베스 워런 ◈강점◈ 워런은 지난해 하반기 최고 관심 후보였다. 지난해 10월 아이오와주와 뉴햄프셔주에서 여론조사 선두를 달렸다. 몇몇 전국 단위 여론조사에서는 바이든을 누르고 1위에 오르기도 했다. 같은 진보 노선을 걷는 샌더스가 심근경색으로 쓰러져 치료를 받은 영향이 컸다. 지난해 돌풍의 요인은 트럼프의 대척점에 선 정치적 입장과 정치인으로서 신선한 이미지였다. 트럼프식 정치에 지친 유권자들은 워런이 새로운 대안이 될 수 있을지 관심을 갖기 시작했다. 특히 고학력 백인의 지지가 컸다. 아이오와주에서 지지층이 두껍고 지지율도 높다. 여세를 몰아 뉴햄프셔주에서 좋은 성적을 거둔 뒤 '슈퍼 화요일' 경선 주이자 고향인 매사추세츠주에도 깃발을 꽂으면 대선을 향한 길이 활짝 열릴 수 있다. 화제성에서 2위를 달리고 있다. ◈약점◈ 일련의 정책 공약을 발표하면서 지나치게 왼쪽으로 치우쳤다는 평가를 받는다. 전 국민 의료보험 공약은 재원 마련 방법에 대한 비판이 쏟아지자 대통령 임기 3년 차 이전에는 추진하지 않겠다고 한발 물러서야 했다. 이 과정에서 일부 지지층이 부티지지 쪽으로 옮겨갔다는 분석이 있다. 부티지지와 고학력 백인 유권자를 놓고 경쟁하는 구도다. 샌더스와는 급진 좌파 성향 유권자를 놓고 다투고 있다. 지난해 7월 RCP 조사 1위에서 올해 3위로 내려앉았다. 두각을 나타내자 그에 대한 검증이 본격화했기 때문이다. 경쟁자의 공격도 거세졌다. 지지율 4위: 피트 부티지지 ◈강점◈좀처럼 흥행이 안 되는 이번 대선에서 '신선함'을 담당한 후보다. 올해 38세로 혁신적 이미지 구축에 성공했다. 미 중서부 인디애나주의 작은 도시인 사우스밴드 시장에서 일약 민주당 후보 빅4로 발돋움했다. 떠오르는 혜성이다. 언론을 통해 다방면의 깊은 조예와 풍부한 학식을 보여주며 고학력 백인 유권자의 지지를 확보했다. 하버드대와 옥스퍼드대를 졸업한 뒤 맥킨지에서 경영 컨설턴트로 일했다. 정치적 입장과 성향은 중도를 지향한다. 한마디로 '젊고 에너지 넘치는 바이든'이다. 29세에 사우스밴드 시장에 당선돼 33세에 재선됐다. 바이든의 약점인 '고령'은 극복했지만, 강점인 '경험'은 부족한 것으로 평가받는다. 미국 주요 정당 대선 후보 가운데 처음으로 커밍아웃한 후보다.\""
      ]
     },
     "execution_count": 4,
     "metadata": {},
     "output_type": "execute_result"
    }
   ],
   "source": [
    "table.iloc[1, 1].replace('/', '').replace('  ', ' ')"
   ]
  },
  {
   "cell_type": "code",
   "execution_count": 8,
   "metadata": {},
   "outputs": [
    {
     "data": {
      "text/html": [
       "<div>\n",
       "<style scoped>\n",
       "    .dataframe tbody tr th:only-of-type {\n",
       "        vertical-align: middle;\n",
       "    }\n",
       "\n",
       "    .dataframe tbody tr th {\n",
       "        vertical-align: top;\n",
       "    }\n",
       "\n",
       "    .dataframe thead th {\n",
       "        text-align: right;\n",
       "    }\n",
       "</style>\n",
       "<table border=\"1\" class=\"dataframe\">\n",
       "  <thead>\n",
       "    <tr style=\"text-align: right;\">\n",
       "      <th></th>\n",
       "      <th>id</th>\n",
       "      <th>article</th>\n",
       "      <th>media</th>\n",
       "    </tr>\n",
       "  </thead>\n",
       "  <tbody>\n",
       "    <tr>\n",
       "      <th>0</th>\n",
       "      <td>472779091</td>\n",
       "      <td>일본 사법당국의 출국금지 명령이 내려져 있던 카를로스 곤(65) 전 르노닛산 회장이...</td>\n",
       "      <td>중앙일보</td>\n",
       "    </tr>\n",
       "    <tr>\n",
       "      <th>1</th>\n",
       "      <td>472779092</td>\n",
       "      <td>본선에서 트럼프에 패할 수 있다는 우려 때문이다. 지지율 3위: 엘리자베스 워런 ◈...</td>\n",
       "      <td>중앙일보</td>\n",
       "    </tr>\n",
       "    <tr>\n",
       "      <th>2</th>\n",
       "      <td>472779093</td>\n",
       "      <td>1월 1일 새해 김정은 북한 국무위원장은 모습을 드러내지 않았다. 2012년 집권 ...</td>\n",
       "      <td>중앙일보</td>\n",
       "    </tr>\n",
       "    <tr>\n",
       "      <th>3</th>\n",
       "      <td>472779094</td>\n",
       "      <td>국내 이동통신 3사(KT·SK텔레콤·LG유플러스)는 산토끼(신규 고객)를 잡느라 집...</td>\n",
       "      <td>중앙일보</td>\n",
       "    </tr>\n",
       "    <tr>\n",
       "      <th>4</th>\n",
       "      <td>472779095</td>\n",
       "      <td>카를로스 곤(66)닛산자동차 전 회장의 ‘보석기간 중 탈출극’으로 인한 일본내 충격...</td>\n",
       "      <td>중앙일보</td>\n",
       "    </tr>\n",
       "    <tr>\n",
       "      <th>...</th>\n",
       "      <td>...</td>\n",
       "      <td>...</td>\n",
       "      <td>...</td>\n",
       "    </tr>\n",
       "    <tr>\n",
       "      <th>6591</th>\n",
       "      <td>472785682</td>\n",
       "      <td>제1조(목적)\" \"이 고시는 「온실가스 배출권의 할당 및 거래에 관한 법률」(이하 ...</td>\n",
       "      <td>환경부</td>\n",
       "    </tr>\n",
       "    <tr>\n",
       "      <th>6592</th>\n",
       "      <td>472785683</td>\n",
       "      <td>산업통상자원부와 한국가스안전공사는 겨울철 불법 가스용품 유통에 따른 가스사고 예방을...</td>\n",
       "      <td>헤럴드경제</td>\n",
       "    </tr>\n",
       "    <tr>\n",
       "      <th>6593</th>\n",
       "      <td>472785684</td>\n",
       "      <td>정부가 올해 안에 2050 탄소중립 시나리오와 2030년 국가 온실가스감축목표(ND...</td>\n",
       "      <td>머니투데이</td>\n",
       "    </tr>\n",
       "    <tr>\n",
       "      <th>6594</th>\n",
       "      <td>472785685</td>\n",
       "      <td>정부가 수소차 보급 활성화를 위해 수소 제조용 천연가스 요금을 한시적으로 낮춘다.\"...</td>\n",
       "      <td>경향신문</td>\n",
       "    </tr>\n",
       "    <tr>\n",
       "      <th>6595</th>\n",
       "      <td>472785686</td>\n",
       "      <td>한정애 환경부 장관이 3일(현지시간) 영국 글래스고에서 열린 제26차 유엔기후변화협...</td>\n",
       "      <td>세계일보</td>\n",
       "    </tr>\n",
       "  </tbody>\n",
       "</table>\n",
       "<p>6596 rows × 3 columns</p>\n",
       "</div>"
      ],
      "text/plain": [
       "             id                                            article  media\n",
       "0     472779091  일본 사법당국의 출국금지 명령이 내려져 있던 카를로스 곤(65) 전 르노닛산 회장이...   중앙일보\n",
       "1     472779092  본선에서 트럼프에 패할 수 있다는 우려 때문이다. 지지율 3위: 엘리자베스 워런 ◈...   중앙일보\n",
       "2     472779093  1월 1일 새해 김정은 북한 국무위원장은 모습을 드러내지 않았다. 2012년 집권 ...   중앙일보\n",
       "3     472779094  국내 이동통신 3사(KT·SK텔레콤·LG유플러스)는 산토끼(신규 고객)를 잡느라 집...   중앙일보\n",
       "4     472779095  카를로스 곤(66)닛산자동차 전 회장의 ‘보석기간 중 탈출극’으로 인한 일본내 충격...   중앙일보\n",
       "...         ...                                                ...    ...\n",
       "6591  472785682  제1조(목적)\" \"이 고시는 「온실가스 배출권의 할당 및 거래에 관한 법률」(이하 ...    환경부\n",
       "6592  472785683  산업통상자원부와 한국가스안전공사는 겨울철 불법 가스용품 유통에 따른 가스사고 예방을...  헤럴드경제\n",
       "6593  472785684  정부가 올해 안에 2050 탄소중립 시나리오와 2030년 국가 온실가스감축목표(ND...  머니투데이\n",
       "6594  472785685  정부가 수소차 보급 활성화를 위해 수소 제조용 천연가스 요금을 한시적으로 낮춘다.\"...   경향신문\n",
       "6595  472785686  한정애 환경부 장관이 3일(현지시간) 영국 글래스고에서 열린 제26차 유엔기후변화협...   세계일보\n",
       "\n",
       "[6596 rows x 3 columns]"
      ]
     },
     "execution_count": 8,
     "metadata": {},
     "output_type": "execute_result"
    }
   ],
   "source": [
    "table"
   ]
  },
  {
   "cell_type": "code",
   "execution_count": 7,
   "metadata": {},
   "outputs": [
    {
     "data": {
      "text/html": [
       "<div>\n",
       "<style scoped>\n",
       "    .dataframe tbody tr th:only-of-type {\n",
       "        vertical-align: middle;\n",
       "    }\n",
       "\n",
       "    .dataframe tbody tr th {\n",
       "        vertical-align: top;\n",
       "    }\n",
       "\n",
       "    .dataframe thead th {\n",
       "        text-align: right;\n",
       "    }\n",
       "</style>\n",
       "<table border=\"1\" class=\"dataframe\">\n",
       "  <thead>\n",
       "    <tr style=\"text-align: right;\">\n",
       "      <th></th>\n",
       "      <th>id</th>\n",
       "      <th>summary</th>\n",
       "    </tr>\n",
       "  </thead>\n",
       "  <tbody>\n",
       "    <tr>\n",
       "      <th>0</th>\n",
       "      <td>472779091</td>\n",
       "      <td>요약문</td>\n",
       "    </tr>\n",
       "    <tr>\n",
       "      <th>1</th>\n",
       "      <td>472779092</td>\n",
       "      <td>요약문</td>\n",
       "    </tr>\n",
       "    <tr>\n",
       "      <th>2</th>\n",
       "      <td>472779093</td>\n",
       "      <td>요약문</td>\n",
       "    </tr>\n",
       "    <tr>\n",
       "      <th>3</th>\n",
       "      <td>472779094</td>\n",
       "      <td>요약문</td>\n",
       "    </tr>\n",
       "    <tr>\n",
       "      <th>4</th>\n",
       "      <td>472779095</td>\n",
       "      <td>요약문</td>\n",
       "    </tr>\n",
       "    <tr>\n",
       "      <th>...</th>\n",
       "      <td>...</td>\n",
       "      <td>...</td>\n",
       "    </tr>\n",
       "    <tr>\n",
       "      <th>6591</th>\n",
       "      <td>472785682</td>\n",
       "      <td>요약문</td>\n",
       "    </tr>\n",
       "    <tr>\n",
       "      <th>6592</th>\n",
       "      <td>472785683</td>\n",
       "      <td>요약문</td>\n",
       "    </tr>\n",
       "    <tr>\n",
       "      <th>6593</th>\n",
       "      <td>472785684</td>\n",
       "      <td>요약문</td>\n",
       "    </tr>\n",
       "    <tr>\n",
       "      <th>6594</th>\n",
       "      <td>472785685</td>\n",
       "      <td>요약문</td>\n",
       "    </tr>\n",
       "    <tr>\n",
       "      <th>6595</th>\n",
       "      <td>472785686</td>\n",
       "      <td>요약문</td>\n",
       "    </tr>\n",
       "  </tbody>\n",
       "</table>\n",
       "<p>6596 rows × 2 columns</p>\n",
       "</div>"
      ],
      "text/plain": [
       "             id summary\n",
       "0     472779091     요약문\n",
       "1     472779092     요약문\n",
       "2     472779093     요약문\n",
       "3     472779094     요약문\n",
       "4     472779095     요약문\n",
       "...         ...     ...\n",
       "6591  472785682     요약문\n",
       "6592  472785683     요약문\n",
       "6593  472785684     요약문\n",
       "6594  472785685     요약문\n",
       "6595  472785686     요약문\n",
       "\n",
       "[6596 rows x 2 columns]"
      ]
     },
     "execution_count": 7,
     "metadata": {},
     "output_type": "execute_result"
    }
   ],
   "source": [
    "pd.read_csv(out_sample_path)"
   ]
  },
  {
   "cell_type": "code",
   "execution_count": 11,
   "metadata": {},
   "outputs": [],
   "source": [
    "import json\n",
    "with open('/Volumes/GoogleDrive/My Drive/gassum/data/valid_original.json') as f:\n",
    "    valid_raw = json.load(f)['documents']"
   ]
  },
  {
   "cell_type": "code",
   "execution_count": 12,
   "metadata": {},
   "outputs": [
    {
     "data": {
      "text/plain": [
       "{'id': '340626877',\n",
       " 'category': '정치',\n",
       " 'media_type': 'online',\n",
       " 'media_sub_type': '경제지',\n",
       " 'media_name': '한국경제',\n",
       " 'size': 'medium',\n",
       " 'char_count': '1111',\n",
       " 'publish_date': '2019-04-08 17:43:00',\n",
       " 'title': '文대통령 \"5G는 4차산업혁명 시대의 고속도로\"',\n",
       " 'text': [[{'index': 0,\n",
       "    'sentence': '[ 박재원 기자 ] \\'대한민국 5G 홍보대사\\'를 자처한 문재인 대통령은 \"넓고, 체증 없는 \\'통신 고속도로\\'가 5G\"라며 \"대한민국의 대전환이 이제 막 시작됐다\"고 기대감을 높였다.',\n",
       "    'highlight_indices': '80,82'}],\n",
       "  [{'index': 1,\n",
       "    'sentence': '문 대통령은 8일 서울 올림픽공원에서 열린 5G플러스 전략발표에 참석해 \"5G 시대는 우리가 생각하고, 만들면 그것이 세계 표준이 되는 시대\"라며 \"5G는 대한민국 혁신성장의 인프라\"라고 강조했다.',\n",
       "    'highlight_indices': ''},\n",
       "   {'index': 2,\n",
       "    'sentence': \"산업화 시대에 고속도로가 우리 경제의 '대동맥' 역할을 했듯, 5G가 4차 산업혁명 시대의 고속도로가 돼 새로운 기회를 열어 줄 것이란 설명이다.\",\n",
       "    'highlight_indices': ''}],\n",
       "  [{'index': 3,\n",
       "    'sentence': '문 대통령은 \"5G가 각 분야에 융합되면, 정보통신산업을 넘어 자동차, 드론(무인항공기), 로봇, 지능형 폐쇄회로TV(CCTV)를 비롯한 제조업과 벤처에 이르기까지 우리 산업 전체의 혁신을 통한 동반성장이 가능하다\"고 밝혔다.',\n",
       "    'highlight_indices': '12,13'},\n",
       "   {'index': 4,\n",
       "    'sentence': '세계 최초 상용화에 성공한 5G가 반도체를 이을 우리 경제의 새 먹거리가 될 것이란 관측이다.',\n",
       "    'highlight_indices': '34,35'},\n",
       "   {'index': 5,\n",
       "    'sentence': '정부는 2026년 세계 5G 시장 규모가 1161조원에 달할 것으로 보고 있다.',\n",
       "    'highlight_indices': ''},\n",
       "   {'index': 6,\n",
       "    'sentence': '작년 반도체 시장 규모가 529조원인 점을 고려하면 2배 이상 큰 미래 시장이 창출되는 셈이다.',\n",
       "    'highlight_indices': ''}],\n",
       "  [{'index': 7,\n",
       "    'sentence': '문 대통령은 아직은 국민에게 다소 낯선 5G 시대의 미래상을 친절히 설명해 눈길을 끌기도 했다.',\n",
       "    'highlight_indices': '7,9;16,18;34,37'},\n",
       "   {'index': 8,\n",
       "    'sentence': '문 대통령은 \"\\'지금 스마트폰으로 충분한데, 5G가 왜 필요하지?\\'라고 생각할 수 있다\"며 \"4세대 이동통신은 \\'아직은\\' 빠르지만 가까운 미래에는 결코 빠르지 않다\"고 했다.',\n",
       "    'highlight_indices': '9,11;29,30;63,65;82,84'},\n",
       "   {'index': 9,\n",
       "    'sentence': '그러면서 \"자동차가 많아질수록 더 넓은 길이 필요한 것처럼 사물과 사물을 연결하고, 데이터를 주고받는 이동통신망도 더 넓고 빠른 길이 필요하다\"고 덧붙였다.',\n",
       "    'highlight_indices': '17,18;64,65'}],\n",
       "  [{'index': 10,\n",
       "    'sentence': '문 대통령은 세계 최초 상용화에 성공한 우리 5G 기술을 널리 알리는 홍보대사를 자처하기도 했다.',\n",
       "    'highlight_indices': '32,34'},\n",
       "   {'index': 11,\n",
       "    'sentence': '5G 시장을 선점하기 위한 각국의 경쟁이 뜨겁게 달아오른 만큼 정부 차원에서 적극 지원하겠다는 방침이다.',\n",
       "    'highlight_indices': ''},\n",
       "   {'index': 12,\n",
       "    'sentence': '문 대통령은 \"평창동계올림픽 360도 중계, 작년 4·27 남북한 정상회담 때 프레스센터에서 사용된 스마트월처럼 기회가 생기면 대통령부터 나서서 우리의 앞선 기술을 홍보하겠다\"고 말했다.',\n",
       "    'highlight_indices': ''}]],\n",
       " 'annotator_id': 4209,\n",
       " 'document_quality_scores': {'readable': 5,\n",
       "  'accurate': 5,\n",
       "  'informative': 5,\n",
       "  'trustworthy': 5},\n",
       " 'extractive': [0, 1, 3],\n",
       " 'abstractive': ['8일 서울에서 열린 5G플러스 전략발표에 참석한 문재인 대통령은 5G는 대한민국 혁신성장의 인프라이자 \"넓고, 체증 없는 \\'통신 고속도로\\'\"라고 강조하며 5G가 각 분양에 융합되면 정보통신산업을 넘어 제조업과 벤처에 이르러 우리 산업 전체의 혁신을 통한 동반성장이 가능하다고 언급했다.']}"
      ]
     },
     "execution_count": 12,
     "metadata": {},
     "output_type": "execute_result"
    }
   ],
   "source": [
    "valid_raw[0]"
   ]
  },
  {
   "cell_type": "code",
   "execution_count": 19,
   "metadata": {},
   "outputs": [],
   "source": [
    "def load_data_from_json(file_path):\n",
    "    with open(file_path) as f:\n",
    "        json_raw = json.load(f)['documents']\n",
    "    keys = [\n",
    "        'id', 'title', 'text', 'summary', 'publish_date',\n",
    "        'size', 'char_count',\n",
    "        'category', 'media_type', 'media_sub_type', 'media_name',\n",
    "    ]\n",
    "    table = {key: [] for key in keys}\n",
    "    for sample in json_raw:\n",
    "        for key in keys:\n",
    "            if key == 'text':\n",
    "                chunks = []\n",
    "                for chunk in sample['text']:\n",
    "                    chunks.extend(s['sentence'] for s in chunk)\n",
    "                table[key].append(' '.join(chunks))\n",
    "            elif key == 'summary':\n",
    "                table[key].append(' '.join(sample['abstractive']))\n",
    "            else:\n",
    "                table[key].append(sample[key])\n",
    "    return pd.DataFrame(table, index=table['id'])"
   ]
  },
  {
   "cell_type": "code",
   "execution_count": 21,
   "metadata": {},
   "outputs": [],
   "source": [
    "train = load_data_from_json(train_path)"
   ]
  },
  {
   "cell_type": "code",
   "execution_count": 20,
   "metadata": {},
   "outputs": [],
   "source": [
    "valid = load_data_from_json(valid_path)"
   ]
  },
  {
   "cell_type": "code",
   "execution_count": 24,
   "metadata": {},
   "outputs": [
    {
     "data": {
      "text/plain": [
       "'8일 서울에서 열린 5G플러스 전략발표에 참석한 문재인 대통령은 5G는 대한민국 혁신성장의 인프라이자 \"넓고, 체증 없는 \\'통신 고속도로\\'\"라고 강조하며 5G가 각 분양에 융합되면 정보통신산업을 넘어 제조업과 벤처에 이르러 우리 산업 전체의 혁신을 통한 동반성장이 가능하다고 언급했다.'"
      ]
     },
     "execution_count": 24,
     "metadata": {},
     "output_type": "execute_result"
    }
   ],
   "source": [
    "valid.iloc[0, 3]"
   ]
  },
  {
   "cell_type": "code",
   "execution_count": null,
   "metadata": {},
   "outputs": [],
   "source": []
  }
 ],
 "metadata": {
  "interpreter": {
   "hash": "118dda7dd5b4f9ba402e4c816bdd6144d8c137eae9fb0dd2c8b169e7ca3dde8e"
  },
  "kernelspec": {
   "display_name": "Python 3.8.5 64-bit ('base': conda)",
   "language": "python",
   "name": "python3"
  },
  "language_info": {
   "codemirror_mode": {
    "name": "ipython",
    "version": 3
   },
   "file_extension": ".py",
   "mimetype": "text/x-python",
   "name": "python",
   "nbconvert_exporter": "python",
   "pygments_lexer": "ipython3",
   "version": "3.8.8"
  },
  "orig_nbformat": 4
 },
 "nbformat": 4,
 "nbformat_minor": 2
}
