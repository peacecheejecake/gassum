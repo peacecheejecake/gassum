{
 "cells": [
  {
   "cell_type": "code",
   "execution_count": 9,
   "metadata": {},
   "outputs": [],
   "source": [
    "import pandas as pd\n",
    "import json\n",
    "import random"
   ]
  },
  {
   "cell_type": "code",
   "execution_count": 10,
   "metadata": {},
   "outputs": [],
   "source": [
    "train_report_path = '/Volumes/GoogleDrive/My Drive/wisenet-text-sum-comp/data/train_summary.json'\n",
    "train_broadcast_path = '/Volumes/GoogleDrive/My Drive/wisenet-text-sum-comp/data/train_summary_broadcast.json'\n",
    "test_path = '/Volumes/GoogleDrive/My Drive/wisenet-text-sum-comp/data/test_summary.json'"
   ]
  },
  {
   "cell_type": "code",
   "execution_count": 13,
   "metadata": {},
   "outputs": [],
   "source": [
    "train_report = pd.read_json(train_report_path)\n",
    "train_broadcast = pd.read_json(train_broadcast_path)"
   ]
  },
  {
   "cell_type": "code",
   "execution_count": 29,
   "metadata": {},
   "outputs": [
    {
     "data": {
      "text/html": [
       "<div>\n",
       "<style scoped>\n",
       "    .dataframe tbody tr th:only-of-type {\n",
       "        vertical-align: middle;\n",
       "    }\n",
       "\n",
       "    .dataframe tbody tr th {\n",
       "        vertical-align: top;\n",
       "    }\n",
       "\n",
       "    .dataframe thead th {\n",
       "        text-align: right;\n",
       "    }\n",
       "</style>\n",
       "<table border=\"1\" class=\"dataframe\">\n",
       "  <thead>\n",
       "    <tr style=\"text-align: right;\">\n",
       "      <th></th>\n",
       "      <th>original</th>\n",
       "      <th>summary</th>\n",
       "      <th>passage_id</th>\n",
       "      <th>doc_name</th>\n",
       "      <th>category</th>\n",
       "      <th>author</th>\n",
       "      <th>publisher</th>\n",
       "      <th>publisher_year</th>\n",
       "      <th>doc_origin</th>\n",
       "    </tr>\n",
       "  </thead>\n",
       "  <tbody>\n",
       "    <tr>\n",
       "      <th>0</th>\n",
       "      <td>공주시 무령왕릉에서 발견된 청동거울로 청동신수경, 의자손수대경, 수대경 3점이다. ...</td>\n",
       "      <td></td>\n",
       "      <td>REPORT-cultural_assets-00164-01180</td>\n",
       "      <td>무령왕릉 청동거울 일괄 (武寧王陵 銅鏡 一括)</td>\n",
       "      <td>cul_ass</td>\n",
       "      <td>None</td>\n",
       "      <td>None</td>\n",
       "      <td>None</td>\n",
       "      <td>문화재청</td>\n",
       "    </tr>\n",
       "    <tr>\n",
       "      <th>1</th>\n",
       "      <td>높이 47cm의 대형 백자 병으로 목이 유난히 길어 속칭 거위병이라고도 부른다. 병...</td>\n",
       "      <td></td>\n",
       "      <td>REPORT-cultural_assets-07027-00492</td>\n",
       "      <td>백자 대병 (白磁 大甁)</td>\n",
       "      <td>cul_ass</td>\n",
       "      <td>None</td>\n",
       "      <td>None</td>\n",
       "      <td>None</td>\n",
       "      <td>문화재청</td>\n",
       "    </tr>\n",
       "    <tr>\n",
       "      <th>2</th>\n",
       "      <td>공주시 무령왕릉에서 출토된 백제 때 귀고리 2쌍으로 길이는 11.8㎝, 8.8㎝이다...</td>\n",
       "      <td></td>\n",
       "      <td>REPORT-cultural_assets-00169-00647</td>\n",
       "      <td>무령왕비 금귀걸이 (武寧王妃 金製耳飾)</td>\n",
       "      <td>cul_ass</td>\n",
       "      <td>None</td>\n",
       "      <td>None</td>\n",
       "      <td>None</td>\n",
       "      <td>문화재청</td>\n",
       "    </tr>\n",
       "    <tr>\n",
       "      <th>3</th>\n",
       "      <td>해우소(解憂所)는 ‘근심을 해결하는 장소’ 라는 뜻의 사찰에서 화장실을 이르는 말이...</td>\n",
       "      <td></td>\n",
       "      <td>REPORT-cultural_assets-11866-01193</td>\n",
       "      <td>영월보덕사해우소 (寧越報德寺解憂所)</td>\n",
       "      <td>cul_ass</td>\n",
       "      <td>None</td>\n",
       "      <td>None</td>\n",
       "      <td>None</td>\n",
       "      <td>문화재청</td>\n",
       "    </tr>\n",
       "    <tr>\n",
       "      <th>4</th>\n",
       "      <td>완도군 완도읍 군내리 신흥사에 모셔진 약사여래좌상이다. 이 불상은 원래 해남 대흥사...</td>\n",
       "      <td></td>\n",
       "      <td>REPORT-cultural_assets-12296-00290</td>\n",
       "      <td>완도신흥사목조약사여래좌상 (莞島新興寺木造藥師如來坐像)</td>\n",
       "      <td>cul_ass</td>\n",
       "      <td>None</td>\n",
       "      <td>None</td>\n",
       "      <td>None</td>\n",
       "      <td>문화재청</td>\n",
       "    </tr>\n",
       "  </tbody>\n",
       "</table>\n",
       "</div>"
      ],
      "text/plain": [
       "                                            original summary  \\\n",
       "0  공주시 무령왕릉에서 발견된 청동거울로 청동신수경, 의자손수대경, 수대경 3점이다. ...           \n",
       "1  높이 47cm의 대형 백자 병으로 목이 유난히 길어 속칭 거위병이라고도 부른다. 병...           \n",
       "2  공주시 무령왕릉에서 출토된 백제 때 귀고리 2쌍으로 길이는 11.8㎝, 8.8㎝이다...           \n",
       "3  해우소(解憂所)는 ‘근심을 해결하는 장소’ 라는 뜻의 사찰에서 화장실을 이르는 말이...           \n",
       "4  완도군 완도읍 군내리 신흥사에 모셔진 약사여래좌상이다. 이 불상은 원래 해남 대흥사...           \n",
       "\n",
       "                           passage_id                       doc_name category  \\\n",
       "0  REPORT-cultural_assets-00164-01180      무령왕릉 청동거울 일괄 (武寧王陵 銅鏡 一括)  cul_ass   \n",
       "1  REPORT-cultural_assets-07027-00492                  백자 대병 (白磁 大甁)  cul_ass   \n",
       "2  REPORT-cultural_assets-00169-00647          무령왕비 금귀걸이 (武寧王妃 金製耳飾)  cul_ass   \n",
       "3  REPORT-cultural_assets-11866-01193            영월보덕사해우소 (寧越報德寺解憂所)  cul_ass   \n",
       "4  REPORT-cultural_assets-12296-00290  완도신흥사목조약사여래좌상 (莞島新興寺木造藥師如來坐像)  cul_ass   \n",
       "\n",
       "  author publisher publisher_year doc_origin  \n",
       "0   None      None           None       문화재청  \n",
       "1   None      None           None       문화재청  \n",
       "2   None      None           None       문화재청  \n",
       "3   None      None           None       문화재청  \n",
       "4   None      None           None       문화재청  "
      ]
     },
     "execution_count": 29,
     "metadata": {},
     "output_type": "execute_result"
    }
   ],
   "source": [
    "with open(test_path) as f:\n",
    "    test_json = json.load(f)\n",
    "\n",
    "df_keys = [\n",
    "    'original', 'summary', 'passage_id', 'doc_name', 'category', 'author', 'publisher', 'publisher_year', 'doc_origin'\n",
    "]\n",
    "test_dict = {key: [] for key in df_keys}\n",
    "for sample in test_json:\n",
    "    for key in df_keys[:2]:\n",
    "        test_dict[key].append(sample[key])\n",
    "    for key in df_keys[2:]:\n",
    "        test_dict[key].append(sample['Meta'][key])\n",
    "test_df = pd.DataFrame(data=test_dict)\n",
    "test_df.head()"
   ]
  },
  {
   "cell_type": "code",
   "execution_count": 38,
   "metadata": {},
   "outputs": [
    {
     "data": {
      "text/plain": [
       "{'passage_id': 'REPORT-briefing-64435-00002',\n",
       " 'doc_name': '200625(조간)전국 172곳 68022호 공공주택 입주자를 모집합니다(공공주택총괄과).hwp',\n",
       " 'category': 'briefing',\n",
       " 'author': None,\n",
       " 'publisher': None,\n",
       " 'publisher_year': None,\n",
       " 'doc_origin': '공공누리포털'}"
      ]
     },
     "execution_count": 38,
     "metadata": {},
     "output_type": "execute_result"
    }
   ],
   "source": [
    "test_json[-1]['Meta']"
   ]
  },
  {
   "cell_type": "code",
   "execution_count": 7,
   "metadata": {},
   "outputs": [
    {
     "name": "stdout",
     "output_type": "stream",
     "text": [
      "영국 런던에서 연수 중이던 2017년 늦은 봄, 세계 주요 오페라 극장 중 하나인 로열 오페라하우스에서 우편물이 하나 날아왔다.\n",
      "  ‘내 인생에 이때 아니면 이렇게 수준 높은 공연을 이 가격에 다시 볼 기회는 없다’며 온갖 공연을 찾아봤던 터라 뒤늦게 도착한 공연 표려니 했다.\n",
      "  열어 보니 ‘당신만의 좌석을 갖게 되는 특별한 경험’이란 문구를 앞세운 ‘좌석 기부(Name a seat)’ 안내문이 동봉돼 있었다.\n",
      "  좌석 기부는 개인 맞춤형 ‘메세나 프로그램’의 일환으로 공연장 내 좌석 위쪽 황동 명판에 자신이나 혹은 기억하고 싶은 사람의 이름을 새기는 것이다.\n",
      "  좌석의 위치에 따라 가격은 1000파운드(약 151만원)~1만 파운드(약 1511만원)로 다양하다(당시 가격은 좀 더 쌌던 듯하다).\n",
      "  언감생심이지만 3초쯤 ‘괜찮네’라고 생각했다.\n",
      "  물론 얇은 지갑을 여는 데는 실패했지만, ‘문화적 허영심’을 제대로 저격한 기부 마케팅은 놀라웠다.\n",
      "  선의와 호의를 겨냥한 맹공에 백기를 든 적도 있다.\n",
      "  2000년대 초반 해외 아동 후원 단체와 함께 간 캄보디아 취재에서 열 살도 안 된 여자아이들이 매춘하는 모습에 충격을 받고 후원자의 길에 들어섰다.\n",
      "  또 다른 후원 단체의 출장에 동행한 뒤엔 작은 후원금이 누군가의 인생을 바꿀 수도 있다는 다소 순진한 믿음으로 결연했다.\n",
      "  기부의 대표적인 연관 검색어는 ‘연말정산 소득공제’일 가능성이 크다.\n",
      "  하지만 기부가 그런 것만은 아니다.\n",
      "  기꺼이 지갑과 주머니를 여는 선의와 호의를 베풀게 하는 동기가 있게 마련이다.\n",
      "  독일 경제학자 하노 벡은 ‘기부의 즐거움’과 ‘감정의 면죄부’를 주요 동인으로 꼽았다.\n",
      "  감사와 칭찬, 좋은 일을 했다는 뿌듯한 감정이 즐거움에 맞닿아 있다면, 자신보다 불행한 사람을 보면 양심의 가책을 느끼고 행복을 기꺼이 나눌 마음을 먹는 것은 ‘감정의 면죄부용’ 기부인 셈이다.\n",
      "  사람들이 백기를 드는 지점이다.\n",
      "  이에 더해 다소 속물적이지만 내가 3초간 고민했던 ‘과시용 기부’도 있을 터다.\n",
      "  어떤 의미에서 기부는 독특한 행위다.\n",
      "  사실 누군가의 주머니에 있는 돈을 또 다른 누군가의 주머니로 옮기는 일은 쉽지 않다.\n",
      "  대가를 치르거나 상당한 마찰을 겪어야 한다.\n",
      "  노동을 제공해 돈을 옮겨 오면 밥벌이가 된다.\n",
      "  밥벌이의 고단함은 따로 말할 필요가 없다.\n",
      "  속이거나 몰래, 혹은 완력을 써서 남의 것을 가져가거나 남의 것을 빼돌려 내 것으로 만들면 사기나 절도·강도·횡령죄 등 각종 재산죄를 저지른 것이 돼 법적 처벌을 받게 된다.\n",
      "  \n",
      "\n",
      " 기부의 대표적인 연관 검색어는 ‘연말정산 소득공제’일 가능성이 크다.  기꺼이 지갑과 주머니를 여는 선의와 호의를 베풀게 하는 동기가 있게 마련이다.  하지만 기부가 그런 것만은 아니다.\n",
      "\n",
      "해설]복도, 거소 안 (밤)\n",
      "검이가 들어서고 있다. 무거운 발걸음으로 복도를 지나는 검이...\n",
      "거소 안으로  들어서는데 이해고가 혼자 앉아있다. 조촐한 술상이 봐져 있고..\n",
      "이해고](취기어린) 늦었구나.\n",
      "검이]...\n",
      "이해고]이리 와서 한잔하거라.\n",
      "검이]... (다가와 앉는다)\n",
      "해설]이해고, 잔을 건네고 술을 따르는데 한잔이 채, 채워지지 않는다.\n",
      "이해고]널 기다리는 동안, 이 술 한 병을 다 마셔버렸구나.\n",
      "검이]...\n",
      "이해고]날 원망하느냐?\n",
      "검이]...\n",
      "이해고]자식 이기는 부모가 없다고 했다. 허나... 이번만큼은 내가 양보할 일이 아니다.\n",
      "검이]..\n",
      "이해고]검이 너는.. 내 아들이야... 거란의 자식이란 말이다. 헌데, 고구려를 두둔하다니.. 대조영의 편에 들려 하다니?\n",
      "검이].. (눈물 고인다)\n",
      "이해고]아니 될 말이다.. 절대 용납할 수가 없다... 그러니.. 이번만큼은 날 이기려 들지 마라. 절대 내 뜻을 꺾을 수가 없다...\n",
      "검이]잘못했사옵니다, 아버님...\n",
      "이해고].. (본다)\n",
      "검이](눈물 주루룩) 소자가 잘못했사옵니다. 다시는... 다시는 아버님의 뜻을 거역하지 않겠사옵니다... 이 못난 소자를 용서하십시오, 아버님.. (운다)\n",
      "이해고]... (검이의 손을 잡는다) 울지 마라.. 아들의 눈물이... 이 애비의 마음을 너무도 아프게 하는구나..\n",
      "검이]아버님.. (우는데)\n",
      " \n",
      "\n",
      " 검이가 거소 안에 들어서는데 이해고가 조촐한 술상 앞에 앉아 있다. 이해고 이미 술 한 병을 다 마신 상태로, 검이는 거란의 자식인데 고구려 대조영의 편에 들려 하냐며 절대 용납할 수 없다고 한다. 검이는 눈물을 흘리며 못난 아들을 용서해달라고 이해고에게 말한다.\n"
     ]
    }
   ],
   "source": [
    "idx = random.randint(0, min(len(train_report), len(train_broadcast)) - 1)\n",
    "print(train_report.iloc[idx, 0], '\\n\\n', train_report.iloc[idx, 1], end='\\n\\n')\n",
    "print(train_broadcast.iloc[idx, 0], '\\n\\n', train_broadcast.iloc[idx, 1])"
   ]
  },
  {
   "cell_type": "code",
   "execution_count": 8,
   "metadata": {},
   "outputs": [
    {
     "data": {
      "text/plain": [
       "{'passage_id': 'REPORT-news_r-13260-00001',\n",
       " 'doc_name': '[하현옥의 시시각각] 나의 호의가 당신의 권리가 될 때',\n",
       " 'category': 'news_r',\n",
       " 'author': '김선영',\n",
       " 'publisher': '중앙일보',\n",
       " 'publisher_year': '2020',\n",
       " 'doc_origin': '중앙일보'}"
      ]
     },
     "execution_count": 8,
     "metadata": {},
     "output_type": "execute_result"
    }
   ],
   "source": [
    "train_report.iloc[idx, 2]"
   ]
  },
  {
   "cell_type": "code",
   "execution_count": 3,
   "metadata": {},
   "outputs": [
    {
     "ename": "ValueError",
     "evalue": "Expected object or value",
     "output_type": "error",
     "traceback": [
      "\u001b[0;31m---------------------------------------------------------------------------\u001b[0m",
      "\u001b[0;31mValueError\u001b[0m                                Traceback (most recent call last)",
      "\u001b[0;32m<ipython-input-3-6b2767b4bd93>\u001b[0m in \u001b[0;36m<module>\u001b[0;34m\u001b[0m\n\u001b[0;32m----> 1\u001b[0;31m \u001b[0mtrain_df\u001b[0m \u001b[0;34m=\u001b[0m \u001b[0mpd\u001b[0m\u001b[0;34m.\u001b[0m\u001b[0mread_json\u001b[0m\u001b[0;34m(\u001b[0m\u001b[0mtrain_path\u001b[0m\u001b[0;34m)\u001b[0m\u001b[0;34m\u001b[0m\u001b[0;34m\u001b[0m\u001b[0m\n\u001b[0m",
      "\u001b[0;32m~/anaconda3/lib/python3.8/site-packages/pandas/util/_decorators.py\u001b[0m in \u001b[0;36mwrapper\u001b[0;34m(*args, **kwargs)\u001b[0m\n\u001b[1;32m    197\u001b[0m                 \u001b[0;32melse\u001b[0m\u001b[0;34m:\u001b[0m\u001b[0;34m\u001b[0m\u001b[0;34m\u001b[0m\u001b[0m\n\u001b[1;32m    198\u001b[0m                     \u001b[0mkwargs\u001b[0m\u001b[0;34m[\u001b[0m\u001b[0mnew_arg_name\u001b[0m\u001b[0;34m]\u001b[0m \u001b[0;34m=\u001b[0m \u001b[0mnew_arg_value\u001b[0m\u001b[0;34m\u001b[0m\u001b[0;34m\u001b[0m\u001b[0m\n\u001b[0;32m--> 199\u001b[0;31m             \u001b[0;32mreturn\u001b[0m \u001b[0mfunc\u001b[0m\u001b[0;34m(\u001b[0m\u001b[0;34m*\u001b[0m\u001b[0margs\u001b[0m\u001b[0;34m,\u001b[0m \u001b[0;34m**\u001b[0m\u001b[0mkwargs\u001b[0m\u001b[0;34m)\u001b[0m\u001b[0;34m\u001b[0m\u001b[0;34m\u001b[0m\u001b[0m\n\u001b[0m\u001b[1;32m    200\u001b[0m \u001b[0;34m\u001b[0m\u001b[0m\n\u001b[1;32m    201\u001b[0m         \u001b[0;32mreturn\u001b[0m \u001b[0mcast\u001b[0m\u001b[0;34m(\u001b[0m\u001b[0mF\u001b[0m\u001b[0;34m,\u001b[0m \u001b[0mwrapper\u001b[0m\u001b[0;34m)\u001b[0m\u001b[0;34m\u001b[0m\u001b[0;34m\u001b[0m\u001b[0m\n",
      "\u001b[0;32m~/anaconda3/lib/python3.8/site-packages/pandas/util/_decorators.py\u001b[0m in \u001b[0;36mwrapper\u001b[0;34m(*args, **kwargs)\u001b[0m\n\u001b[1;32m    294\u001b[0m                 )\n\u001b[1;32m    295\u001b[0m                 \u001b[0mwarnings\u001b[0m\u001b[0;34m.\u001b[0m\u001b[0mwarn\u001b[0m\u001b[0;34m(\u001b[0m\u001b[0mmsg\u001b[0m\u001b[0;34m,\u001b[0m \u001b[0mFutureWarning\u001b[0m\u001b[0;34m,\u001b[0m \u001b[0mstacklevel\u001b[0m\u001b[0;34m=\u001b[0m\u001b[0mstacklevel\u001b[0m\u001b[0;34m)\u001b[0m\u001b[0;34m\u001b[0m\u001b[0;34m\u001b[0m\u001b[0m\n\u001b[0;32m--> 296\u001b[0;31m             \u001b[0;32mreturn\u001b[0m \u001b[0mfunc\u001b[0m\u001b[0;34m(\u001b[0m\u001b[0;34m*\u001b[0m\u001b[0margs\u001b[0m\u001b[0;34m,\u001b[0m \u001b[0;34m**\u001b[0m\u001b[0mkwargs\u001b[0m\u001b[0;34m)\u001b[0m\u001b[0;34m\u001b[0m\u001b[0;34m\u001b[0m\u001b[0m\n\u001b[0m\u001b[1;32m    297\u001b[0m \u001b[0;34m\u001b[0m\u001b[0m\n\u001b[1;32m    298\u001b[0m         \u001b[0;32mreturn\u001b[0m \u001b[0mwrapper\u001b[0m\u001b[0;34m\u001b[0m\u001b[0;34m\u001b[0m\u001b[0m\n",
      "\u001b[0;32m~/anaconda3/lib/python3.8/site-packages/pandas/io/json/_json.py\u001b[0m in \u001b[0;36mread_json\u001b[0;34m(path_or_buf, orient, typ, dtype, convert_axes, convert_dates, keep_default_dates, numpy, precise_float, date_unit, encoding, lines, chunksize, compression, nrows)\u001b[0m\n\u001b[1;32m    616\u001b[0m         \u001b[0;32mreturn\u001b[0m \u001b[0mjson_reader\u001b[0m\u001b[0;34m\u001b[0m\u001b[0;34m\u001b[0m\u001b[0m\n\u001b[1;32m    617\u001b[0m \u001b[0;34m\u001b[0m\u001b[0m\n\u001b[0;32m--> 618\u001b[0;31m     \u001b[0mresult\u001b[0m \u001b[0;34m=\u001b[0m \u001b[0mjson_reader\u001b[0m\u001b[0;34m.\u001b[0m\u001b[0mread\u001b[0m\u001b[0;34m(\u001b[0m\u001b[0;34m)\u001b[0m\u001b[0;34m\u001b[0m\u001b[0;34m\u001b[0m\u001b[0m\n\u001b[0m\u001b[1;32m    619\u001b[0m     \u001b[0;32mif\u001b[0m \u001b[0mshould_close\u001b[0m\u001b[0;34m:\u001b[0m\u001b[0;34m\u001b[0m\u001b[0;34m\u001b[0m\u001b[0m\n\u001b[1;32m    620\u001b[0m         \u001b[0mfilepath_or_buffer\u001b[0m\u001b[0;34m.\u001b[0m\u001b[0mclose\u001b[0m\u001b[0;34m(\u001b[0m\u001b[0;34m)\u001b[0m\u001b[0;34m\u001b[0m\u001b[0;34m\u001b[0m\u001b[0m\n",
      "\u001b[0;32m~/anaconda3/lib/python3.8/site-packages/pandas/io/json/_json.py\u001b[0m in \u001b[0;36mread\u001b[0;34m(self)\u001b[0m\n\u001b[1;32m    753\u001b[0m                 \u001b[0mobj\u001b[0m \u001b[0;34m=\u001b[0m \u001b[0mself\u001b[0m\u001b[0;34m.\u001b[0m\u001b[0m_get_object_parser\u001b[0m\u001b[0;34m(\u001b[0m\u001b[0mself\u001b[0m\u001b[0;34m.\u001b[0m\u001b[0m_combine_lines\u001b[0m\u001b[0;34m(\u001b[0m\u001b[0mdata\u001b[0m\u001b[0;34m)\u001b[0m\u001b[0;34m)\u001b[0m\u001b[0;34m\u001b[0m\u001b[0;34m\u001b[0m\u001b[0m\n\u001b[1;32m    754\u001b[0m         \u001b[0;32melse\u001b[0m\u001b[0;34m:\u001b[0m\u001b[0;34m\u001b[0m\u001b[0;34m\u001b[0m\u001b[0m\n\u001b[0;32m--> 755\u001b[0;31m             \u001b[0mobj\u001b[0m \u001b[0;34m=\u001b[0m \u001b[0mself\u001b[0m\u001b[0;34m.\u001b[0m\u001b[0m_get_object_parser\u001b[0m\u001b[0;34m(\u001b[0m\u001b[0mself\u001b[0m\u001b[0;34m.\u001b[0m\u001b[0mdata\u001b[0m\u001b[0;34m)\u001b[0m\u001b[0;34m\u001b[0m\u001b[0;34m\u001b[0m\u001b[0m\n\u001b[0m\u001b[1;32m    756\u001b[0m         \u001b[0mself\u001b[0m\u001b[0;34m.\u001b[0m\u001b[0mclose\u001b[0m\u001b[0;34m(\u001b[0m\u001b[0;34m)\u001b[0m\u001b[0;34m\u001b[0m\u001b[0;34m\u001b[0m\u001b[0m\n\u001b[1;32m    757\u001b[0m         \u001b[0;32mreturn\u001b[0m \u001b[0mobj\u001b[0m\u001b[0;34m\u001b[0m\u001b[0;34m\u001b[0m\u001b[0m\n",
      "\u001b[0;32m~/anaconda3/lib/python3.8/site-packages/pandas/io/json/_json.py\u001b[0m in \u001b[0;36m_get_object_parser\u001b[0;34m(self, json)\u001b[0m\n\u001b[1;32m    775\u001b[0m         \u001b[0mobj\u001b[0m \u001b[0;34m=\u001b[0m \u001b[0;32mNone\u001b[0m\u001b[0;34m\u001b[0m\u001b[0;34m\u001b[0m\u001b[0m\n\u001b[1;32m    776\u001b[0m         \u001b[0;32mif\u001b[0m \u001b[0mtyp\u001b[0m \u001b[0;34m==\u001b[0m \u001b[0;34m\"frame\"\u001b[0m\u001b[0;34m:\u001b[0m\u001b[0;34m\u001b[0m\u001b[0;34m\u001b[0m\u001b[0m\n\u001b[0;32m--> 777\u001b[0;31m             \u001b[0mobj\u001b[0m \u001b[0;34m=\u001b[0m \u001b[0mFrameParser\u001b[0m\u001b[0;34m(\u001b[0m\u001b[0mjson\u001b[0m\u001b[0;34m,\u001b[0m \u001b[0;34m**\u001b[0m\u001b[0mkwargs\u001b[0m\u001b[0;34m)\u001b[0m\u001b[0;34m.\u001b[0m\u001b[0mparse\u001b[0m\u001b[0;34m(\u001b[0m\u001b[0;34m)\u001b[0m\u001b[0;34m\u001b[0m\u001b[0;34m\u001b[0m\u001b[0m\n\u001b[0m\u001b[1;32m    778\u001b[0m \u001b[0;34m\u001b[0m\u001b[0m\n\u001b[1;32m    779\u001b[0m         \u001b[0;32mif\u001b[0m \u001b[0mtyp\u001b[0m \u001b[0;34m==\u001b[0m \u001b[0;34m\"series\"\u001b[0m \u001b[0;32mor\u001b[0m \u001b[0mobj\u001b[0m \u001b[0;32mis\u001b[0m \u001b[0;32mNone\u001b[0m\u001b[0;34m:\u001b[0m\u001b[0;34m\u001b[0m\u001b[0;34m\u001b[0m\u001b[0m\n",
      "\u001b[0;32m~/anaconda3/lib/python3.8/site-packages/pandas/io/json/_json.py\u001b[0m in \u001b[0;36mparse\u001b[0;34m(self)\u001b[0m\n\u001b[1;32m    884\u001b[0m \u001b[0;34m\u001b[0m\u001b[0m\n\u001b[1;32m    885\u001b[0m         \u001b[0;32melse\u001b[0m\u001b[0;34m:\u001b[0m\u001b[0;34m\u001b[0m\u001b[0;34m\u001b[0m\u001b[0m\n\u001b[0;32m--> 886\u001b[0;31m             \u001b[0mself\u001b[0m\u001b[0;34m.\u001b[0m\u001b[0m_parse_no_numpy\u001b[0m\u001b[0;34m(\u001b[0m\u001b[0;34m)\u001b[0m\u001b[0;34m\u001b[0m\u001b[0;34m\u001b[0m\u001b[0m\n\u001b[0m\u001b[1;32m    887\u001b[0m \u001b[0;34m\u001b[0m\u001b[0m\n\u001b[1;32m    888\u001b[0m         \u001b[0;32mif\u001b[0m \u001b[0mself\u001b[0m\u001b[0;34m.\u001b[0m\u001b[0mobj\u001b[0m \u001b[0;32mis\u001b[0m \u001b[0;32mNone\u001b[0m\u001b[0;34m:\u001b[0m\u001b[0;34m\u001b[0m\u001b[0;34m\u001b[0m\u001b[0m\n",
      "\u001b[0;32m~/anaconda3/lib/python3.8/site-packages/pandas/io/json/_json.py\u001b[0m in \u001b[0;36m_parse_no_numpy\u001b[0;34m(self)\u001b[0m\n\u001b[1;32m   1117\u001b[0m         \u001b[0;32mif\u001b[0m \u001b[0morient\u001b[0m \u001b[0;34m==\u001b[0m \u001b[0;34m\"columns\"\u001b[0m\u001b[0;34m:\u001b[0m\u001b[0;34m\u001b[0m\u001b[0;34m\u001b[0m\u001b[0m\n\u001b[1;32m   1118\u001b[0m             self.obj = DataFrame(\n\u001b[0;32m-> 1119\u001b[0;31m                 \u001b[0mloads\u001b[0m\u001b[0;34m(\u001b[0m\u001b[0mjson\u001b[0m\u001b[0;34m,\u001b[0m \u001b[0mprecise_float\u001b[0m\u001b[0;34m=\u001b[0m\u001b[0mself\u001b[0m\u001b[0;34m.\u001b[0m\u001b[0mprecise_float\u001b[0m\u001b[0;34m)\u001b[0m\u001b[0;34m,\u001b[0m \u001b[0mdtype\u001b[0m\u001b[0;34m=\u001b[0m\u001b[0;32mNone\u001b[0m\u001b[0;34m\u001b[0m\u001b[0;34m\u001b[0m\u001b[0m\n\u001b[0m\u001b[1;32m   1120\u001b[0m             )\n\u001b[1;32m   1121\u001b[0m         \u001b[0;32melif\u001b[0m \u001b[0morient\u001b[0m \u001b[0;34m==\u001b[0m \u001b[0;34m\"split\"\u001b[0m\u001b[0;34m:\u001b[0m\u001b[0;34m\u001b[0m\u001b[0;34m\u001b[0m\u001b[0m\n",
      "\u001b[0;31mValueError\u001b[0m: Expected object or value"
     ]
    }
   ],
   "source": [
    "train_df = pd.read_json(train_path)"
   ]
  },
  {
   "cell_type": "code",
   "execution_count": null,
   "metadata": {},
   "outputs": [
    {
     "data": {
      "text/html": [
       "<div>\n",
       "<style scoped>\n",
       "    .dataframe tbody tr th:only-of-type {\n",
       "        vertical-align: middle;\n",
       "    }\n",
       "\n",
       "    .dataframe tbody tr th {\n",
       "        vertical-align: top;\n",
       "    }\n",
       "\n",
       "    .dataframe thead th {\n",
       "        text-align: right;\n",
       "    }\n",
       "</style>\n",
       "<table border=\"1\" class=\"dataframe\">\n",
       "  <thead>\n",
       "    <tr style=\"text-align: right;\">\n",
       "      <th></th>\n",
       "      <th>original</th>\n",
       "      <th>summary</th>\n",
       "      <th>Meta</th>\n",
       "    </tr>\n",
       "  </thead>\n",
       "  <tbody>\n",
       "    <tr>\n",
       "      <th>0</th>\n",
       "      <td>만정헌은 약 500여년전 현감벼슬을 지냈던 김자간이 경주에서 울산 명촌리에 들어와 ...</td>\n",
       "      <td>만정헌은 약 500여년전 현감벼슬을 지냈던 김자간이 경주에서 울산 명촌리에 들어와 ...</td>\n",
       "      <td>{'passage_id': 'REPORT-cultural_assets-10670-0...</td>\n",
       "    </tr>\n",
       "    <tr>\n",
       "      <th>1</th>\n",
       "      <td>부여 관북리유적은 1983년 9월 충청남도 기념물 제43호 전백제왕궁지(傳百濟王宮址...</td>\n",
       "      <td>부여 관북리유적은 1983년 9월 충청남도 기념물 제43호 전백제왕궁지(傳百濟王宮址...</td>\n",
       "      <td>{'passage_id': 'REPORT-cultural_assets-03009-0...</td>\n",
       "    </tr>\n",
       "    <tr>\n",
       "      <th>2</th>\n",
       "      <td>『문정공 김상헌 진적』은 청음 김상헌 친필로 일부는 그의 손자인 곡운 김수증이 보필...</td>\n",
       "      <td>내용의 대부분이『청음집』에 수록 되어있으나, 본 자료에는 붉은색으로 교정을 가한 표...</td>\n",
       "      <td>{'passage_id': 'REPORT-cultural_assets-04844-0...</td>\n",
       "    </tr>\n",
       "    <tr>\n",
       "      <th>3</th>\n",
       "      <td>조선 후기 안동김씨 세도기 후반의 중심인물이었던 하옥 김좌근의 아들인 김병기(金炳冀...</td>\n",
       "      <td>조선 후기 안동김씨 세도기 후반의 중심인물이었던 하옥 김좌근의 아들인 김병기(金炳冀...</td>\n",
       "      <td>{'passage_id': 'REPORT-cultural_assets-10368-0...</td>\n",
       "    </tr>\n",
       "    <tr>\n",
       "      <th>4</th>\n",
       "      <td>외토리 마을에 있는 한 채의 비각 안에 나란히 서 있는 2기의 비이다. 앞에서 보아...</td>\n",
       "      <td>외토리 마을에 있는 한 채의 비각 안에 나란히 서 있는 2기의 비이다.  앞에서 보...</td>\n",
       "      <td>{'passage_id': 'REPORT-cultural_assets-06668-0...</td>\n",
       "    </tr>\n",
       "  </tbody>\n",
       "</table>\n",
       "</div>"
      ],
      "text/plain": [
       "                                            original  \\\n",
       "0  만정헌은 약 500여년전 현감벼슬을 지냈던 김자간이 경주에서 울산 명촌리에 들어와 ...   \n",
       "1  부여 관북리유적은 1983년 9월 충청남도 기념물 제43호 전백제왕궁지(傳百濟王宮址...   \n",
       "2  『문정공 김상헌 진적』은 청음 김상헌 친필로 일부는 그의 손자인 곡운 김수증이 보필...   \n",
       "3  조선 후기 안동김씨 세도기 후반의 중심인물이었던 하옥 김좌근의 아들인 김병기(金炳冀...   \n",
       "4  외토리 마을에 있는 한 채의 비각 안에 나란히 서 있는 2기의 비이다. 앞에서 보아...   \n",
       "\n",
       "                                             summary  \\\n",
       "0  만정헌은 약 500여년전 현감벼슬을 지냈던 김자간이 경주에서 울산 명촌리에 들어와 ...   \n",
       "1  부여 관북리유적은 1983년 9월 충청남도 기념물 제43호 전백제왕궁지(傳百濟王宮址...   \n",
       "2  내용의 대부분이『청음집』에 수록 되어있으나, 본 자료에는 붉은색으로 교정을 가한 표...   \n",
       "3  조선 후기 안동김씨 세도기 후반의 중심인물이었던 하옥 김좌근의 아들인 김병기(金炳冀...   \n",
       "4  외토리 마을에 있는 한 채의 비각 안에 나란히 서 있는 2기의 비이다.  앞에서 보...   \n",
       "\n",
       "                                                Meta  \n",
       "0  {'passage_id': 'REPORT-cultural_assets-10670-0...  \n",
       "1  {'passage_id': 'REPORT-cultural_assets-03009-0...  \n",
       "2  {'passage_id': 'REPORT-cultural_assets-04844-0...  \n",
       "3  {'passage_id': 'REPORT-cultural_assets-10368-0...  \n",
       "4  {'passage_id': 'REPORT-cultural_assets-06668-0...  "
      ]
     },
     "execution_count": 5,
     "metadata": {},
     "output_type": "execute_result"
    }
   ],
   "source": [
    "train_df.head()"
   ]
  },
  {
   "cell_type": "code",
   "execution_count": null,
   "metadata": {},
   "outputs": [],
   "source": []
  },
  {
   "cell_type": "code",
   "execution_count": 6,
   "metadata": {},
   "outputs": [
    {
     "data": {
      "text/plain": [
       "18548"
      ]
     },
     "execution_count": 6,
     "metadata": {},
     "output_type": "execute_result"
    }
   ],
   "source": [
    "len(train_df)"
   ]
  },
  {
   "cell_type": "code",
   "execution_count": null,
   "metadata": {},
   "outputs": [],
   "source": []
  }
 ],
 "metadata": {
  "interpreter": {
   "hash": "118dda7dd5b4f9ba402e4c816bdd6144d8c137eae9fb0dd2c8b169e7ca3dde8e"
  },
  "kernelspec": {
   "display_name": "Python 3.8.8 64-bit ('base': conda)",
   "language": "python",
   "name": "python3"
  },
  "language_info": {
   "codemirror_mode": {
    "name": "ipython",
    "version": 3
   },
   "file_extension": ".py",
   "mimetype": "text/x-python",
   "name": "python",
   "nbconvert_exporter": "python",
   "pygments_lexer": "ipython3",
   "version": "3.8.8"
  },
  "orig_nbformat": 4
 },
 "nbformat": 4,
 "nbformat_minor": 2
}
