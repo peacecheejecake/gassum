{
 "cells": [
  {
   "cell_type": "code",
   "execution_count": 4,
   "metadata": {},
   "outputs": [],
   "source": [
    "import pandas as pd\n",
    "import json"
   ]
  },
  {
   "cell_type": "code",
   "execution_count": 11,
   "metadata": {},
   "outputs": [],
   "source": [
    "train_report_path = '/Volumes/GoogleDrive/My Drive/wisenet-text-sum-comp/data/train_summary.json'\n",
    "train_broadcast_path = '/Volumes/GoogleDrive/My Drive/wisenet-text-sum-comp/data/train_broadcast_summary.json'\n",
    "test_path = '/Volumes/GoogleDrive/My Drive/wisenet-text-sum-comp/data/test_summary.json'"
   ]
  },
  {
   "cell_type": "code",
   "execution_count": 15,
   "metadata": {},
   "outputs": [],
   "source": [
    "with open(train_report_path) as f:\n",
    "    temp = json.load(f)"
   ]
  },
  {
   "cell_type": "code",
   "execution_count": 18,
   "metadata": {},
   "outputs": [
    {
     "data": {
      "text/html": [
       "<div>\n",
       "<style scoped>\n",
       "    .dataframe tbody tr th:only-of-type {\n",
       "        vertical-align: middle;\n",
       "    }\n",
       "\n",
       "    .dataframe tbody tr th {\n",
       "        vertical-align: top;\n",
       "    }\n",
       "\n",
       "    .dataframe thead th {\n",
       "        text-align: right;\n",
       "    }\n",
       "</style>\n",
       "<table border=\"1\" class=\"dataframe\">\n",
       "  <thead>\n",
       "    <tr style=\"text-align: right;\">\n",
       "      <th></th>\n",
       "      <th>original</th>\n",
       "      <th>summary</th>\n",
       "      <th>Meta</th>\n",
       "    </tr>\n",
       "  </thead>\n",
       "  <tbody>\n",
       "    <tr>\n",
       "      <th>0</th>\n",
       "      <td>만정헌은 약 500여년전 현감벼슬을 지냈던 김자간이 경주에서 울산 명촌리에 들어와 ...</td>\n",
       "      <td>만정헌은 약 500여년전 현감벼슬을 지냈던 김자간이 경주에서 울산 명촌리에 들어와 ...</td>\n",
       "      <td>{'passage_id': 'REPORT-cultural_assets-10670-0...</td>\n",
       "    </tr>\n",
       "    <tr>\n",
       "      <th>1</th>\n",
       "      <td>부여 관북리유적은 1983년 9월 충청남도 기념물 제43호 전백제왕궁지(傳百濟王宮址...</td>\n",
       "      <td>부여 관북리유적은 1983년 9월 충청남도 기념물 제43호 전백제왕궁지(傳百濟王宮址...</td>\n",
       "      <td>{'passage_id': 'REPORT-cultural_assets-03009-0...</td>\n",
       "    </tr>\n",
       "    <tr>\n",
       "      <th>2</th>\n",
       "      <td>『문정공 김상헌 진적』은 청음 김상헌 친필로 일부는 그의 손자인 곡운 김수증이 보필...</td>\n",
       "      <td>내용의 대부분이『청음집』에 수록 되어있으나, 본 자료에는 붉은색으로 교정을 가한 표...</td>\n",
       "      <td>{'passage_id': 'REPORT-cultural_assets-04844-0...</td>\n",
       "    </tr>\n",
       "    <tr>\n",
       "      <th>3</th>\n",
       "      <td>조선 후기 안동김씨 세도기 후반의 중심인물이었던 하옥 김좌근의 아들인 김병기(金炳冀...</td>\n",
       "      <td>조선 후기 안동김씨 세도기 후반의 중심인물이었던 하옥 김좌근의 아들인 김병기(金炳冀...</td>\n",
       "      <td>{'passage_id': 'REPORT-cultural_assets-10368-0...</td>\n",
       "    </tr>\n",
       "    <tr>\n",
       "      <th>4</th>\n",
       "      <td>외토리 마을에 있는 한 채의 비각 안에 나란히 서 있는 2기의 비이다. 앞에서 보아...</td>\n",
       "      <td>외토리 마을에 있는 한 채의 비각 안에 나란히 서 있는 2기의 비이다.  앞에서 보...</td>\n",
       "      <td>{'passage_id': 'REPORT-cultural_assets-06668-0...</td>\n",
       "    </tr>\n",
       "    <tr>\n",
       "      <th>...</th>\n",
       "      <td>...</td>\n",
       "      <td>...</td>\n",
       "      <td>...</td>\n",
       "    </tr>\n",
       "    <tr>\n",
       "      <th>18543</th>\n",
       "      <td>이어서 소셜벤처를 위한 보증프로그램인 임팩트보증을 담당하고 있는 기술보증기금의 정윤...</td>\n",
       "      <td>특히 이날 간담회의 모든 내용은 소셜벤처인 소리를보는통로의 인공지능(AI) 기반 실...</td>\n",
       "      <td>{'passage_id': 'REPORT-briefing-62016-00003', ...</td>\n",
       "    </tr>\n",
       "    <tr>\n",
       "      <th>18544</th>\n",
       "      <td>아라온호, 유빙수역에 갇힌 원양어선 구조에 나섰다\\n 해양수산부(장관 문성혁)는 2...</td>\n",
       "      <td>해양수산부(장관 문성혁)는 2020. 1. 14.(화) 08시경(한국시간)부터 아라...</td>\n",
       "      <td>{'passage_id': 'REPORT-briefing-57558-00001', ...</td>\n",
       "    </tr>\n",
       "    <tr>\n",
       "      <th>18545</th>\n",
       "      <td>항만법‧항만 재개발법, 새단장 후 7월 30일 시행\\n항만법하위법령 전부개정안,항만...</td>\n",
       "      <td>해양수산부(장관 문성혁)는 7월 21일(화) 국무회의에서 항만법 하위법령 전부개정안...</td>\n",
       "      <td>{'passage_id': 'REPORT-briefing-65717-00001', ...</td>\n",
       "    </tr>\n",
       "    <tr>\n",
       "      <th>18546</th>\n",
       "      <td>또한, 인공지능 활용능력 보유인재 양성 및 인재인공지능 간 지적협업 환경 조성 등...</td>\n",
       "      <td>정부는 장기적으로 미래의 도전과제를 제시하고 고위험 대형연구에 집중투자하며, 기업이...</td>\n",
       "      <td>{'passage_id': 'REPORT-briefing-67224-00007', ...</td>\n",
       "    </tr>\n",
       "    <tr>\n",
       "      <th>18547</th>\n",
       "      <td>현재 종이, 유리, 철에만 적용되던 재생원료 의무사용제도를 내년부터 단계적으로 플...</td>\n",
       "      <td>현재 종이, 유리, 철에만 적용되던 재생원료 의무사용제도를 내년부터 단계적으로 플라...</td>\n",
       "      <td>{'passage_id': 'REPORT-briefing-87475-00004', ...</td>\n",
       "    </tr>\n",
       "  </tbody>\n",
       "</table>\n",
       "<p>18548 rows × 3 columns</p>\n",
       "</div>"
      ],
      "text/plain": [
       "                                                original  \\\n",
       "0      만정헌은 약 500여년전 현감벼슬을 지냈던 김자간이 경주에서 울산 명촌리에 들어와 ...   \n",
       "1      부여 관북리유적은 1983년 9월 충청남도 기념물 제43호 전백제왕궁지(傳百濟王宮址...   \n",
       "2      『문정공 김상헌 진적』은 청음 김상헌 친필로 일부는 그의 손자인 곡운 김수증이 보필...   \n",
       "3      조선 후기 안동김씨 세도기 후반의 중심인물이었던 하옥 김좌근의 아들인 김병기(金炳冀...   \n",
       "4      외토리 마을에 있는 한 채의 비각 안에 나란히 서 있는 2기의 비이다. 앞에서 보아...   \n",
       "...                                                  ...   \n",
       "18543  이어서 소셜벤처를 위한 보증프로그램인 임팩트보증을 담당하고 있는 기술보증기금의 정윤...   \n",
       "18544  아라온호, 유빙수역에 갇힌 원양어선 구조에 나섰다\\n 해양수산부(장관 문성혁)는 2...   \n",
       "18545  항만법‧항만 재개발법, 새단장 후 7월 30일 시행\\n항만법하위법령 전부개정안,항만...   \n",
       "18546   또한, 인공지능 활용능력 보유인재 양성 및 인재인공지능 간 지적협업 환경 조성 등...   \n",
       "18547   현재 종이, 유리, 철에만 적용되던 재생원료 의무사용제도를 내년부터 단계적으로 플...   \n",
       "\n",
       "                                                 summary  \\\n",
       "0      만정헌은 약 500여년전 현감벼슬을 지냈던 김자간이 경주에서 울산 명촌리에 들어와 ...   \n",
       "1      부여 관북리유적은 1983년 9월 충청남도 기념물 제43호 전백제왕궁지(傳百濟王宮址...   \n",
       "2      내용의 대부분이『청음집』에 수록 되어있으나, 본 자료에는 붉은색으로 교정을 가한 표...   \n",
       "3      조선 후기 안동김씨 세도기 후반의 중심인물이었던 하옥 김좌근의 아들인 김병기(金炳冀...   \n",
       "4      외토리 마을에 있는 한 채의 비각 안에 나란히 서 있는 2기의 비이다.  앞에서 보...   \n",
       "...                                                  ...   \n",
       "18543  특히 이날 간담회의 모든 내용은 소셜벤처인 소리를보는통로의 인공지능(AI) 기반 실...   \n",
       "18544  해양수산부(장관 문성혁)는 2020. 1. 14.(화) 08시경(한국시간)부터 아라...   \n",
       "18545  해양수산부(장관 문성혁)는 7월 21일(화) 국무회의에서 항만법 하위법령 전부개정안...   \n",
       "18546  정부는 장기적으로 미래의 도전과제를 제시하고 고위험 대형연구에 집중투자하며, 기업이...   \n",
       "18547  현재 종이, 유리, 철에만 적용되던 재생원료 의무사용제도를 내년부터 단계적으로 플라...   \n",
       "\n",
       "                                                    Meta  \n",
       "0      {'passage_id': 'REPORT-cultural_assets-10670-0...  \n",
       "1      {'passage_id': 'REPORT-cultural_assets-03009-0...  \n",
       "2      {'passage_id': 'REPORT-cultural_assets-04844-0...  \n",
       "3      {'passage_id': 'REPORT-cultural_assets-10368-0...  \n",
       "4      {'passage_id': 'REPORT-cultural_assets-06668-0...  \n",
       "...                                                  ...  \n",
       "18543  {'passage_id': 'REPORT-briefing-62016-00003', ...  \n",
       "18544  {'passage_id': 'REPORT-briefing-57558-00001', ...  \n",
       "18545  {'passage_id': 'REPORT-briefing-65717-00001', ...  \n",
       "18546  {'passage_id': 'REPORT-briefing-67224-00007', ...  \n",
       "18547  {'passage_id': 'REPORT-briefing-87475-00004', ...  \n",
       "\n",
       "[18548 rows x 3 columns]"
      ]
     },
     "execution_count": 18,
     "metadata": {},
     "output_type": "execute_result"
    }
   ],
   "source": [
    "pd.read_json(train_report_path)"
   ]
  },
  {
   "cell_type": "code",
   "execution_count": 17,
   "metadata": {},
   "outputs": [],
   "source": [
    "for sample in temp:\n",
    "    if not sample['summary']:\n",
    "        print('!')"
   ]
  },
  {
   "cell_type": "code",
   "execution_count": 3,
   "metadata": {},
   "outputs": [
    {
     "ename": "ValueError",
     "evalue": "Expected object or value",
     "output_type": "error",
     "traceback": [
      "\u001b[0;31m---------------------------------------------------------------------------\u001b[0m",
      "\u001b[0;31mValueError\u001b[0m                                Traceback (most recent call last)",
      "\u001b[0;32m<ipython-input-3-6b2767b4bd93>\u001b[0m in \u001b[0;36m<module>\u001b[0;34m\u001b[0m\n\u001b[0;32m----> 1\u001b[0;31m \u001b[0mtrain_df\u001b[0m \u001b[0;34m=\u001b[0m \u001b[0mpd\u001b[0m\u001b[0;34m.\u001b[0m\u001b[0mread_json\u001b[0m\u001b[0;34m(\u001b[0m\u001b[0mtrain_path\u001b[0m\u001b[0;34m)\u001b[0m\u001b[0;34m\u001b[0m\u001b[0;34m\u001b[0m\u001b[0m\n\u001b[0m",
      "\u001b[0;32m~/anaconda3/lib/python3.8/site-packages/pandas/util/_decorators.py\u001b[0m in \u001b[0;36mwrapper\u001b[0;34m(*args, **kwargs)\u001b[0m\n\u001b[1;32m    197\u001b[0m                 \u001b[0;32melse\u001b[0m\u001b[0;34m:\u001b[0m\u001b[0;34m\u001b[0m\u001b[0;34m\u001b[0m\u001b[0m\n\u001b[1;32m    198\u001b[0m                     \u001b[0mkwargs\u001b[0m\u001b[0;34m[\u001b[0m\u001b[0mnew_arg_name\u001b[0m\u001b[0;34m]\u001b[0m \u001b[0;34m=\u001b[0m \u001b[0mnew_arg_value\u001b[0m\u001b[0;34m\u001b[0m\u001b[0;34m\u001b[0m\u001b[0m\n\u001b[0;32m--> 199\u001b[0;31m             \u001b[0;32mreturn\u001b[0m \u001b[0mfunc\u001b[0m\u001b[0;34m(\u001b[0m\u001b[0;34m*\u001b[0m\u001b[0margs\u001b[0m\u001b[0;34m,\u001b[0m \u001b[0;34m**\u001b[0m\u001b[0mkwargs\u001b[0m\u001b[0;34m)\u001b[0m\u001b[0;34m\u001b[0m\u001b[0;34m\u001b[0m\u001b[0m\n\u001b[0m\u001b[1;32m    200\u001b[0m \u001b[0;34m\u001b[0m\u001b[0m\n\u001b[1;32m    201\u001b[0m         \u001b[0;32mreturn\u001b[0m \u001b[0mcast\u001b[0m\u001b[0;34m(\u001b[0m\u001b[0mF\u001b[0m\u001b[0;34m,\u001b[0m \u001b[0mwrapper\u001b[0m\u001b[0;34m)\u001b[0m\u001b[0;34m\u001b[0m\u001b[0;34m\u001b[0m\u001b[0m\n",
      "\u001b[0;32m~/anaconda3/lib/python3.8/site-packages/pandas/util/_decorators.py\u001b[0m in \u001b[0;36mwrapper\u001b[0;34m(*args, **kwargs)\u001b[0m\n\u001b[1;32m    294\u001b[0m                 )\n\u001b[1;32m    295\u001b[0m                 \u001b[0mwarnings\u001b[0m\u001b[0;34m.\u001b[0m\u001b[0mwarn\u001b[0m\u001b[0;34m(\u001b[0m\u001b[0mmsg\u001b[0m\u001b[0;34m,\u001b[0m \u001b[0mFutureWarning\u001b[0m\u001b[0;34m,\u001b[0m \u001b[0mstacklevel\u001b[0m\u001b[0;34m=\u001b[0m\u001b[0mstacklevel\u001b[0m\u001b[0;34m)\u001b[0m\u001b[0;34m\u001b[0m\u001b[0;34m\u001b[0m\u001b[0m\n\u001b[0;32m--> 296\u001b[0;31m             \u001b[0;32mreturn\u001b[0m \u001b[0mfunc\u001b[0m\u001b[0;34m(\u001b[0m\u001b[0;34m*\u001b[0m\u001b[0margs\u001b[0m\u001b[0;34m,\u001b[0m \u001b[0;34m**\u001b[0m\u001b[0mkwargs\u001b[0m\u001b[0;34m)\u001b[0m\u001b[0;34m\u001b[0m\u001b[0;34m\u001b[0m\u001b[0m\n\u001b[0m\u001b[1;32m    297\u001b[0m \u001b[0;34m\u001b[0m\u001b[0m\n\u001b[1;32m    298\u001b[0m         \u001b[0;32mreturn\u001b[0m \u001b[0mwrapper\u001b[0m\u001b[0;34m\u001b[0m\u001b[0;34m\u001b[0m\u001b[0m\n",
      "\u001b[0;32m~/anaconda3/lib/python3.8/site-packages/pandas/io/json/_json.py\u001b[0m in \u001b[0;36mread_json\u001b[0;34m(path_or_buf, orient, typ, dtype, convert_axes, convert_dates, keep_default_dates, numpy, precise_float, date_unit, encoding, lines, chunksize, compression, nrows)\u001b[0m\n\u001b[1;32m    616\u001b[0m         \u001b[0;32mreturn\u001b[0m \u001b[0mjson_reader\u001b[0m\u001b[0;34m\u001b[0m\u001b[0;34m\u001b[0m\u001b[0m\n\u001b[1;32m    617\u001b[0m \u001b[0;34m\u001b[0m\u001b[0m\n\u001b[0;32m--> 618\u001b[0;31m     \u001b[0mresult\u001b[0m \u001b[0;34m=\u001b[0m \u001b[0mjson_reader\u001b[0m\u001b[0;34m.\u001b[0m\u001b[0mread\u001b[0m\u001b[0;34m(\u001b[0m\u001b[0;34m)\u001b[0m\u001b[0;34m\u001b[0m\u001b[0;34m\u001b[0m\u001b[0m\n\u001b[0m\u001b[1;32m    619\u001b[0m     \u001b[0;32mif\u001b[0m \u001b[0mshould_close\u001b[0m\u001b[0;34m:\u001b[0m\u001b[0;34m\u001b[0m\u001b[0;34m\u001b[0m\u001b[0m\n\u001b[1;32m    620\u001b[0m         \u001b[0mfilepath_or_buffer\u001b[0m\u001b[0;34m.\u001b[0m\u001b[0mclose\u001b[0m\u001b[0;34m(\u001b[0m\u001b[0;34m)\u001b[0m\u001b[0;34m\u001b[0m\u001b[0;34m\u001b[0m\u001b[0m\n",
      "\u001b[0;32m~/anaconda3/lib/python3.8/site-packages/pandas/io/json/_json.py\u001b[0m in \u001b[0;36mread\u001b[0;34m(self)\u001b[0m\n\u001b[1;32m    753\u001b[0m                 \u001b[0mobj\u001b[0m \u001b[0;34m=\u001b[0m \u001b[0mself\u001b[0m\u001b[0;34m.\u001b[0m\u001b[0m_get_object_parser\u001b[0m\u001b[0;34m(\u001b[0m\u001b[0mself\u001b[0m\u001b[0;34m.\u001b[0m\u001b[0m_combine_lines\u001b[0m\u001b[0;34m(\u001b[0m\u001b[0mdata\u001b[0m\u001b[0;34m)\u001b[0m\u001b[0;34m)\u001b[0m\u001b[0;34m\u001b[0m\u001b[0;34m\u001b[0m\u001b[0m\n\u001b[1;32m    754\u001b[0m         \u001b[0;32melse\u001b[0m\u001b[0;34m:\u001b[0m\u001b[0;34m\u001b[0m\u001b[0;34m\u001b[0m\u001b[0m\n\u001b[0;32m--> 755\u001b[0;31m             \u001b[0mobj\u001b[0m \u001b[0;34m=\u001b[0m \u001b[0mself\u001b[0m\u001b[0;34m.\u001b[0m\u001b[0m_get_object_parser\u001b[0m\u001b[0;34m(\u001b[0m\u001b[0mself\u001b[0m\u001b[0;34m.\u001b[0m\u001b[0mdata\u001b[0m\u001b[0;34m)\u001b[0m\u001b[0;34m\u001b[0m\u001b[0;34m\u001b[0m\u001b[0m\n\u001b[0m\u001b[1;32m    756\u001b[0m         \u001b[0mself\u001b[0m\u001b[0;34m.\u001b[0m\u001b[0mclose\u001b[0m\u001b[0;34m(\u001b[0m\u001b[0;34m)\u001b[0m\u001b[0;34m\u001b[0m\u001b[0;34m\u001b[0m\u001b[0m\n\u001b[1;32m    757\u001b[0m         \u001b[0;32mreturn\u001b[0m \u001b[0mobj\u001b[0m\u001b[0;34m\u001b[0m\u001b[0;34m\u001b[0m\u001b[0m\n",
      "\u001b[0;32m~/anaconda3/lib/python3.8/site-packages/pandas/io/json/_json.py\u001b[0m in \u001b[0;36m_get_object_parser\u001b[0;34m(self, json)\u001b[0m\n\u001b[1;32m    775\u001b[0m         \u001b[0mobj\u001b[0m \u001b[0;34m=\u001b[0m \u001b[0;32mNone\u001b[0m\u001b[0;34m\u001b[0m\u001b[0;34m\u001b[0m\u001b[0m\n\u001b[1;32m    776\u001b[0m         \u001b[0;32mif\u001b[0m \u001b[0mtyp\u001b[0m \u001b[0;34m==\u001b[0m \u001b[0;34m\"frame\"\u001b[0m\u001b[0;34m:\u001b[0m\u001b[0;34m\u001b[0m\u001b[0;34m\u001b[0m\u001b[0m\n\u001b[0;32m--> 777\u001b[0;31m             \u001b[0mobj\u001b[0m \u001b[0;34m=\u001b[0m \u001b[0mFrameParser\u001b[0m\u001b[0;34m(\u001b[0m\u001b[0mjson\u001b[0m\u001b[0;34m,\u001b[0m \u001b[0;34m**\u001b[0m\u001b[0mkwargs\u001b[0m\u001b[0;34m)\u001b[0m\u001b[0;34m.\u001b[0m\u001b[0mparse\u001b[0m\u001b[0;34m(\u001b[0m\u001b[0;34m)\u001b[0m\u001b[0;34m\u001b[0m\u001b[0;34m\u001b[0m\u001b[0m\n\u001b[0m\u001b[1;32m    778\u001b[0m \u001b[0;34m\u001b[0m\u001b[0m\n\u001b[1;32m    779\u001b[0m         \u001b[0;32mif\u001b[0m \u001b[0mtyp\u001b[0m \u001b[0;34m==\u001b[0m \u001b[0;34m\"series\"\u001b[0m \u001b[0;32mor\u001b[0m \u001b[0mobj\u001b[0m \u001b[0;32mis\u001b[0m \u001b[0;32mNone\u001b[0m\u001b[0;34m:\u001b[0m\u001b[0;34m\u001b[0m\u001b[0;34m\u001b[0m\u001b[0m\n",
      "\u001b[0;32m~/anaconda3/lib/python3.8/site-packages/pandas/io/json/_json.py\u001b[0m in \u001b[0;36mparse\u001b[0;34m(self)\u001b[0m\n\u001b[1;32m    884\u001b[0m \u001b[0;34m\u001b[0m\u001b[0m\n\u001b[1;32m    885\u001b[0m         \u001b[0;32melse\u001b[0m\u001b[0;34m:\u001b[0m\u001b[0;34m\u001b[0m\u001b[0;34m\u001b[0m\u001b[0m\n\u001b[0;32m--> 886\u001b[0;31m             \u001b[0mself\u001b[0m\u001b[0;34m.\u001b[0m\u001b[0m_parse_no_numpy\u001b[0m\u001b[0;34m(\u001b[0m\u001b[0;34m)\u001b[0m\u001b[0;34m\u001b[0m\u001b[0;34m\u001b[0m\u001b[0m\n\u001b[0m\u001b[1;32m    887\u001b[0m \u001b[0;34m\u001b[0m\u001b[0m\n\u001b[1;32m    888\u001b[0m         \u001b[0;32mif\u001b[0m \u001b[0mself\u001b[0m\u001b[0;34m.\u001b[0m\u001b[0mobj\u001b[0m \u001b[0;32mis\u001b[0m \u001b[0;32mNone\u001b[0m\u001b[0;34m:\u001b[0m\u001b[0;34m\u001b[0m\u001b[0;34m\u001b[0m\u001b[0m\n",
      "\u001b[0;32m~/anaconda3/lib/python3.8/site-packages/pandas/io/json/_json.py\u001b[0m in \u001b[0;36m_parse_no_numpy\u001b[0;34m(self)\u001b[0m\n\u001b[1;32m   1117\u001b[0m         \u001b[0;32mif\u001b[0m \u001b[0morient\u001b[0m \u001b[0;34m==\u001b[0m \u001b[0;34m\"columns\"\u001b[0m\u001b[0;34m:\u001b[0m\u001b[0;34m\u001b[0m\u001b[0;34m\u001b[0m\u001b[0m\n\u001b[1;32m   1118\u001b[0m             self.obj = DataFrame(\n\u001b[0;32m-> 1119\u001b[0;31m                 \u001b[0mloads\u001b[0m\u001b[0;34m(\u001b[0m\u001b[0mjson\u001b[0m\u001b[0;34m,\u001b[0m \u001b[0mprecise_float\u001b[0m\u001b[0;34m=\u001b[0m\u001b[0mself\u001b[0m\u001b[0;34m.\u001b[0m\u001b[0mprecise_float\u001b[0m\u001b[0;34m)\u001b[0m\u001b[0;34m,\u001b[0m \u001b[0mdtype\u001b[0m\u001b[0;34m=\u001b[0m\u001b[0;32mNone\u001b[0m\u001b[0;34m\u001b[0m\u001b[0;34m\u001b[0m\u001b[0m\n\u001b[0m\u001b[1;32m   1120\u001b[0m             )\n\u001b[1;32m   1121\u001b[0m         \u001b[0;32melif\u001b[0m \u001b[0morient\u001b[0m \u001b[0;34m==\u001b[0m \u001b[0;34m\"split\"\u001b[0m\u001b[0;34m:\u001b[0m\u001b[0;34m\u001b[0m\u001b[0;34m\u001b[0m\u001b[0m\n",
      "\u001b[0;31mValueError\u001b[0m: Expected object or value"
     ]
    }
   ],
   "source": [
    "train_df = pd.read_json(train_path)"
   ]
  },
  {
   "cell_type": "code",
   "execution_count": null,
   "metadata": {},
   "outputs": [
    {
     "data": {
      "text/html": [
       "<div>\n",
       "<style scoped>\n",
       "    .dataframe tbody tr th:only-of-type {\n",
       "        vertical-align: middle;\n",
       "    }\n",
       "\n",
       "    .dataframe tbody tr th {\n",
       "        vertical-align: top;\n",
       "    }\n",
       "\n",
       "    .dataframe thead th {\n",
       "        text-align: right;\n",
       "    }\n",
       "</style>\n",
       "<table border=\"1\" class=\"dataframe\">\n",
       "  <thead>\n",
       "    <tr style=\"text-align: right;\">\n",
       "      <th></th>\n",
       "      <th>original</th>\n",
       "      <th>summary</th>\n",
       "      <th>Meta</th>\n",
       "    </tr>\n",
       "  </thead>\n",
       "  <tbody>\n",
       "    <tr>\n",
       "      <th>0</th>\n",
       "      <td>만정헌은 약 500여년전 현감벼슬을 지냈던 김자간이 경주에서 울산 명촌리에 들어와 ...</td>\n",
       "      <td>만정헌은 약 500여년전 현감벼슬을 지냈던 김자간이 경주에서 울산 명촌리에 들어와 ...</td>\n",
       "      <td>{'passage_id': 'REPORT-cultural_assets-10670-0...</td>\n",
       "    </tr>\n",
       "    <tr>\n",
       "      <th>1</th>\n",
       "      <td>부여 관북리유적은 1983년 9월 충청남도 기념물 제43호 전백제왕궁지(傳百濟王宮址...</td>\n",
       "      <td>부여 관북리유적은 1983년 9월 충청남도 기념물 제43호 전백제왕궁지(傳百濟王宮址...</td>\n",
       "      <td>{'passage_id': 'REPORT-cultural_assets-03009-0...</td>\n",
       "    </tr>\n",
       "    <tr>\n",
       "      <th>2</th>\n",
       "      <td>『문정공 김상헌 진적』은 청음 김상헌 친필로 일부는 그의 손자인 곡운 김수증이 보필...</td>\n",
       "      <td>내용의 대부분이『청음집』에 수록 되어있으나, 본 자료에는 붉은색으로 교정을 가한 표...</td>\n",
       "      <td>{'passage_id': 'REPORT-cultural_assets-04844-0...</td>\n",
       "    </tr>\n",
       "    <tr>\n",
       "      <th>3</th>\n",
       "      <td>조선 후기 안동김씨 세도기 후반의 중심인물이었던 하옥 김좌근의 아들인 김병기(金炳冀...</td>\n",
       "      <td>조선 후기 안동김씨 세도기 후반의 중심인물이었던 하옥 김좌근의 아들인 김병기(金炳冀...</td>\n",
       "      <td>{'passage_id': 'REPORT-cultural_assets-10368-0...</td>\n",
       "    </tr>\n",
       "    <tr>\n",
       "      <th>4</th>\n",
       "      <td>외토리 마을에 있는 한 채의 비각 안에 나란히 서 있는 2기의 비이다. 앞에서 보아...</td>\n",
       "      <td>외토리 마을에 있는 한 채의 비각 안에 나란히 서 있는 2기의 비이다.  앞에서 보...</td>\n",
       "      <td>{'passage_id': 'REPORT-cultural_assets-06668-0...</td>\n",
       "    </tr>\n",
       "  </tbody>\n",
       "</table>\n",
       "</div>"
      ],
      "text/plain": [
       "                                            original  \\\n",
       "0  만정헌은 약 500여년전 현감벼슬을 지냈던 김자간이 경주에서 울산 명촌리에 들어와 ...   \n",
       "1  부여 관북리유적은 1983년 9월 충청남도 기념물 제43호 전백제왕궁지(傳百濟王宮址...   \n",
       "2  『문정공 김상헌 진적』은 청음 김상헌 친필로 일부는 그의 손자인 곡운 김수증이 보필...   \n",
       "3  조선 후기 안동김씨 세도기 후반의 중심인물이었던 하옥 김좌근의 아들인 김병기(金炳冀...   \n",
       "4  외토리 마을에 있는 한 채의 비각 안에 나란히 서 있는 2기의 비이다. 앞에서 보아...   \n",
       "\n",
       "                                             summary  \\\n",
       "0  만정헌은 약 500여년전 현감벼슬을 지냈던 김자간이 경주에서 울산 명촌리에 들어와 ...   \n",
       "1  부여 관북리유적은 1983년 9월 충청남도 기념물 제43호 전백제왕궁지(傳百濟王宮址...   \n",
       "2  내용의 대부분이『청음집』에 수록 되어있으나, 본 자료에는 붉은색으로 교정을 가한 표...   \n",
       "3  조선 후기 안동김씨 세도기 후반의 중심인물이었던 하옥 김좌근의 아들인 김병기(金炳冀...   \n",
       "4  외토리 마을에 있는 한 채의 비각 안에 나란히 서 있는 2기의 비이다.  앞에서 보...   \n",
       "\n",
       "                                                Meta  \n",
       "0  {'passage_id': 'REPORT-cultural_assets-10670-0...  \n",
       "1  {'passage_id': 'REPORT-cultural_assets-03009-0...  \n",
       "2  {'passage_id': 'REPORT-cultural_assets-04844-0...  \n",
       "3  {'passage_id': 'REPORT-cultural_assets-10368-0...  \n",
       "4  {'passage_id': 'REPORT-cultural_assets-06668-0...  "
      ]
     },
     "execution_count": 5,
     "metadata": {},
     "output_type": "execute_result"
    }
   ],
   "source": [
    "train_df.head()"
   ]
  },
  {
   "cell_type": "code",
   "execution_count": null,
   "metadata": {},
   "outputs": [],
   "source": []
  },
  {
   "cell_type": "code",
   "execution_count": 6,
   "metadata": {},
   "outputs": [
    {
     "data": {
      "text/plain": [
       "18548"
      ]
     },
     "execution_count": 6,
     "metadata": {},
     "output_type": "execute_result"
    }
   ],
   "source": [
    "len(train_df)"
   ]
  },
  {
   "cell_type": "code",
   "execution_count": null,
   "metadata": {},
   "outputs": [],
   "source": []
  }
 ],
 "metadata": {
  "interpreter": {
   "hash": "118dda7dd5b4f9ba402e4c816bdd6144d8c137eae9fb0dd2c8b169e7ca3dde8e"
  },
  "kernelspec": {
   "display_name": "Python 3.8.8 64-bit ('base': conda)",
   "language": "python",
   "name": "python3"
  },
  "language_info": {
   "codemirror_mode": {
    "name": "ipython",
    "version": 3
   },
   "file_extension": ".py",
   "mimetype": "text/x-python",
   "name": "python",
   "nbconvert_exporter": "python",
   "pygments_lexer": "ipython3",
   "version": "3.8.8"
  },
  "orig_nbformat": 4
 },
 "nbformat": 4,
 "nbformat_minor": 2
}
