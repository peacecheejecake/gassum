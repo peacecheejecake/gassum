{
 "cells": [
  {
   "cell_type": "code",
   "execution_count": 2,
   "metadata": {},
   "outputs": [],
   "source": [
    "import jsonlines\n",
    "import json\n",
    "import pandas as pd"
   ]
  },
  {
   "cell_type": "code",
   "execution_count": 1,
   "metadata": {},
   "outputs": [],
   "source": [
    "train_path = '/Volumes/GoogleDrive/My Drive/gassum/data/train_original.json'\n",
    "train_path_csv = '/Volumes/GoogleDrive/My Drive/gassum/data/train_original.csv'\n",
    "train_law_path = '/Volumes/GoogleDrive/My Drive/gassum/data/train_law_original.json'\n",
    "valid_path = '/Volumes/GoogleDrive/My Drive/gassum/data/valid_original.json'\n",
    "valid_law_path = '/Volumes/GoogleDrive/My Drive/gassum/data/valid_law_original.json'\n",
    "test_path = '/Volumes/GoogleDrive/My Drive/gassum/data/new_test.jsonl'\n",
    "out_sample_path = '/Volumes/GoogleDrive/My Drive/gassum/data/new_sample_submission.csv'"
   ]
  },
  {
   "cell_type": "code",
   "execution_count": 3,
   "metadata": {},
   "outputs": [],
   "source": [
    "train = pd.read_csv(train_path_csv)"
   ]
  },
  {
   "cell_type": "code",
   "execution_count": null,
   "metadata": {},
   "outputs": [],
   "source": []
  },
  {
   "cell_type": "code",
   "execution_count": 5,
   "metadata": {},
   "outputs": [
    {
     "data": {
      "text/plain": [
       "False"
      ]
     },
     "execution_count": 5,
     "metadata": {},
     "output_type": "execute_result"
    }
   ],
   "source": [
    "train['text'].map(lambda x: not x).any()"
   ]
  },
  {
   "cell_type": "code",
   "execution_count": 3,
   "metadata": {},
   "outputs": [],
   "source": [
    "table = {'id': [], 'article': [], 'media': []}\n",
    "with open(test_path) as f:\n",
    "    with jsonlines.Reader(f) as reader:\n",
    "        for obj in reader.iter():\n",
    "            table['id'].append(obj['id'])\n",
    "            table['article'].append(' '.join(obj['article_original']))\n",
    "            table['media'].append(obj['media'])\n",
    "table = pd.DataFrame(data=table)"
   ]
  },
  {
   "cell_type": "code",
   "execution_count": 4,
   "metadata": {},
   "outputs": [
    {
     "data": {
      "text/plain": [
       "\"본선에서 트럼프에 패할 수 있다는 우려 때문이다. 지지율 3위: 엘리자베스 워런 ◈강점◈ 워런은 지난해 하반기 최고 관심 후보였다. 지난해 10월 아이오와주와 뉴햄프셔주에서 여론조사 선두를 달렸다. 몇몇 전국 단위 여론조사에서는 바이든을 누르고 1위에 오르기도 했다. 같은 진보 노선을 걷는 샌더스가 심근경색으로 쓰러져 치료를 받은 영향이 컸다. 지난해 돌풍의 요인은 트럼프의 대척점에 선 정치적 입장과 정치인으로서 신선한 이미지였다. 트럼프식 정치에 지친 유권자들은 워런이 새로운 대안이 될 수 있을지 관심을 갖기 시작했다. 특히 고학력 백인의 지지가 컸다. 아이오와주에서 지지층이 두껍고 지지율도 높다. 여세를 몰아 뉴햄프셔주에서 좋은 성적을 거둔 뒤 '슈퍼 화요일' 경선 주이자 고향인 매사추세츠주에도 깃발을 꽂으면 대선을 향한 길이 활짝 열릴 수 있다. 화제성에서 2위를 달리고 있다. ◈약점◈ 일련의 정책 공약을 발표하면서 지나치게 왼쪽으로 치우쳤다는 평가를 받는다. 전 국민 의료보험 공약은 재원 마련 방법에 대한 비판이 쏟아지자 대통령 임기 3년 차 이전에는 추진하지 않겠다고 한발 물러서야 했다. 이 과정에서 일부 지지층이 부티지지 쪽으로 옮겨갔다는 분석이 있다. 부티지지와 고학력 백인 유권자를 놓고 경쟁하는 구도다. 샌더스와는 급진 좌파 성향 유권자를 놓고 다투고 있다. 지난해 7월 RCP 조사 1위에서 올해 3위로 내려앉았다. 두각을 나타내자 그에 대한 검증이 본격화했기 때문이다. 경쟁자의 공격도 거세졌다. 지지율 4위: 피트 부티지지 ◈강점◈좀처럼 흥행이 안 되는 이번 대선에서 '신선함'을 담당한 후보다. 올해 38세로 혁신적 이미지 구축에 성공했다. 미 중서부 인디애나주의 작은 도시인 사우스밴드 시장에서 일약 민주당 후보 빅4로 발돋움했다. 떠오르는 혜성이다. 언론을 통해 다방면의 깊은 조예와 풍부한 학식을 보여주며 고학력 백인 유권자의 지지를 확보했다. 하버드대와 옥스퍼드대를 졸업한 뒤 맥킨지에서 경영 컨설턴트로 일했다. 정치적 입장과 성향은 중도를 지향한다. 한마디로 '젊고 에너지 넘치는 바이든'이다. 29세에 사우스밴드 시장에 당선돼 33세에 재선됐다. 바이든의 약점인 '고령'은 극복했지만, 강점인 '경험'은 부족한 것으로 평가받는다. 미국 주요 정당 대선 후보 가운데 처음으로 커밍아웃한 후보다.\""
      ]
     },
     "execution_count": 4,
     "metadata": {},
     "output_type": "execute_result"
    }
   ],
   "source": [
    "table.iloc[1, 1].replace('/', '').replace('  ', ' ')"
   ]
  },
  {
   "cell_type": "code",
   "execution_count": 8,
   "metadata": {},
   "outputs": [
    {
     "data": {
      "text/html": [
       "<div>\n",
       "<style scoped>\n",
       "    .dataframe tbody tr th:only-of-type {\n",
       "        vertical-align: middle;\n",
       "    }\n",
       "\n",
       "    .dataframe tbody tr th {\n",
       "        vertical-align: top;\n",
       "    }\n",
       "\n",
       "    .dataframe thead th {\n",
       "        text-align: right;\n",
       "    }\n",
       "</style>\n",
       "<table border=\"1\" class=\"dataframe\">\n",
       "  <thead>\n",
       "    <tr style=\"text-align: right;\">\n",
       "      <th></th>\n",
       "      <th>id</th>\n",
       "      <th>article</th>\n",
       "      <th>media</th>\n",
       "    </tr>\n",
       "  </thead>\n",
       "  <tbody>\n",
       "    <tr>\n",
       "      <th>0</th>\n",
       "      <td>472779091</td>\n",
       "      <td>일본 사법당국의 출국금지 명령이 내려져 있던 카를로스 곤(65) 전 르노닛산 회장이...</td>\n",
       "      <td>중앙일보</td>\n",
       "    </tr>\n",
       "    <tr>\n",
       "      <th>1</th>\n",
       "      <td>472779092</td>\n",
       "      <td>본선에서 트럼프에 패할 수 있다는 우려 때문이다. 지지율 3위: 엘리자베스 워런 ◈...</td>\n",
       "      <td>중앙일보</td>\n",
       "    </tr>\n",
       "    <tr>\n",
       "      <th>2</th>\n",
       "      <td>472779093</td>\n",
       "      <td>1월 1일 새해 김정은 북한 국무위원장은 모습을 드러내지 않았다. 2012년 집권 ...</td>\n",
       "      <td>중앙일보</td>\n",
       "    </tr>\n",
       "    <tr>\n",
       "      <th>3</th>\n",
       "      <td>472779094</td>\n",
       "      <td>국내 이동통신 3사(KT·SK텔레콤·LG유플러스)는 산토끼(신규 고객)를 잡느라 집...</td>\n",
       "      <td>중앙일보</td>\n",
       "    </tr>\n",
       "    <tr>\n",
       "      <th>4</th>\n",
       "      <td>472779095</td>\n",
       "      <td>카를로스 곤(66)닛산자동차 전 회장의 ‘보석기간 중 탈출극’으로 인한 일본내 충격...</td>\n",
       "      <td>중앙일보</td>\n",
       "    </tr>\n",
       "    <tr>\n",
       "      <th>...</th>\n",
       "      <td>...</td>\n",
       "      <td>...</td>\n",
       "      <td>...</td>\n",
       "    </tr>\n",
       "    <tr>\n",
       "      <th>6591</th>\n",
       "      <td>472785682</td>\n",
       "      <td>제1조(목적)\" \"이 고시는 「온실가스 배출권의 할당 및 거래에 관한 법률」(이하 ...</td>\n",
       "      <td>환경부</td>\n",
       "    </tr>\n",
       "    <tr>\n",
       "      <th>6592</th>\n",
       "      <td>472785683</td>\n",
       "      <td>산업통상자원부와 한국가스안전공사는 겨울철 불법 가스용품 유통에 따른 가스사고 예방을...</td>\n",
       "      <td>헤럴드경제</td>\n",
       "    </tr>\n",
       "    <tr>\n",
       "      <th>6593</th>\n",
       "      <td>472785684</td>\n",
       "      <td>정부가 올해 안에 2050 탄소중립 시나리오와 2030년 국가 온실가스감축목표(ND...</td>\n",
       "      <td>머니투데이</td>\n",
       "    </tr>\n",
       "    <tr>\n",
       "      <th>6594</th>\n",
       "      <td>472785685</td>\n",
       "      <td>정부가 수소차 보급 활성화를 위해 수소 제조용 천연가스 요금을 한시적으로 낮춘다.\"...</td>\n",
       "      <td>경향신문</td>\n",
       "    </tr>\n",
       "    <tr>\n",
       "      <th>6595</th>\n",
       "      <td>472785686</td>\n",
       "      <td>한정애 환경부 장관이 3일(현지시간) 영국 글래스고에서 열린 제26차 유엔기후변화협...</td>\n",
       "      <td>세계일보</td>\n",
       "    </tr>\n",
       "  </tbody>\n",
       "</table>\n",
       "<p>6596 rows × 3 columns</p>\n",
       "</div>"
      ],
      "text/plain": [
       "             id                                            article  media\n",
       "0     472779091  일본 사법당국의 출국금지 명령이 내려져 있던 카를로스 곤(65) 전 르노닛산 회장이...   중앙일보\n",
       "1     472779092  본선에서 트럼프에 패할 수 있다는 우려 때문이다. 지지율 3위: 엘리자베스 워런 ◈...   중앙일보\n",
       "2     472779093  1월 1일 새해 김정은 북한 국무위원장은 모습을 드러내지 않았다. 2012년 집권 ...   중앙일보\n",
       "3     472779094  국내 이동통신 3사(KT·SK텔레콤·LG유플러스)는 산토끼(신규 고객)를 잡느라 집...   중앙일보\n",
       "4     472779095  카를로스 곤(66)닛산자동차 전 회장의 ‘보석기간 중 탈출극’으로 인한 일본내 충격...   중앙일보\n",
       "...         ...                                                ...    ...\n",
       "6591  472785682  제1조(목적)\" \"이 고시는 「온실가스 배출권의 할당 및 거래에 관한 법률」(이하 ...    환경부\n",
       "6592  472785683  산업통상자원부와 한국가스안전공사는 겨울철 불법 가스용품 유통에 따른 가스사고 예방을...  헤럴드경제\n",
       "6593  472785684  정부가 올해 안에 2050 탄소중립 시나리오와 2030년 국가 온실가스감축목표(ND...  머니투데이\n",
       "6594  472785685  정부가 수소차 보급 활성화를 위해 수소 제조용 천연가스 요금을 한시적으로 낮춘다.\"...   경향신문\n",
       "6595  472785686  한정애 환경부 장관이 3일(현지시간) 영국 글래스고에서 열린 제26차 유엔기후변화협...   세계일보\n",
       "\n",
       "[6596 rows x 3 columns]"
      ]
     },
     "execution_count": 8,
     "metadata": {},
     "output_type": "execute_result"
    }
   ],
   "source": [
    "table"
   ]
  },
  {
   "cell_type": "code",
   "execution_count": 7,
   "metadata": {},
   "outputs": [
    {
     "data": {
      "text/html": [
       "<div>\n",
       "<style scoped>\n",
       "    .dataframe tbody tr th:only-of-type {\n",
       "        vertical-align: middle;\n",
       "    }\n",
       "\n",
       "    .dataframe tbody tr th {\n",
       "        vertical-align: top;\n",
       "    }\n",
       "\n",
       "    .dataframe thead th {\n",
       "        text-align: right;\n",
       "    }\n",
       "</style>\n",
       "<table border=\"1\" class=\"dataframe\">\n",
       "  <thead>\n",
       "    <tr style=\"text-align: right;\">\n",
       "      <th></th>\n",
       "      <th>id</th>\n",
       "      <th>summary</th>\n",
       "    </tr>\n",
       "  </thead>\n",
       "  <tbody>\n",
       "    <tr>\n",
       "      <th>0</th>\n",
       "      <td>472779091</td>\n",
       "      <td>요약문</td>\n",
       "    </tr>\n",
       "    <tr>\n",
       "      <th>1</th>\n",
       "      <td>472779092</td>\n",
       "      <td>요약문</td>\n",
       "    </tr>\n",
       "    <tr>\n",
       "      <th>2</th>\n",
       "      <td>472779093</td>\n",
       "      <td>요약문</td>\n",
       "    </tr>\n",
       "    <tr>\n",
       "      <th>3</th>\n",
       "      <td>472779094</td>\n",
       "      <td>요약문</td>\n",
       "    </tr>\n",
       "    <tr>\n",
       "      <th>4</th>\n",
       "      <td>472779095</td>\n",
       "      <td>요약문</td>\n",
       "    </tr>\n",
       "    <tr>\n",
       "      <th>...</th>\n",
       "      <td>...</td>\n",
       "      <td>...</td>\n",
       "    </tr>\n",
       "    <tr>\n",
       "      <th>6591</th>\n",
       "      <td>472785682</td>\n",
       "      <td>요약문</td>\n",
       "    </tr>\n",
       "    <tr>\n",
       "      <th>6592</th>\n",
       "      <td>472785683</td>\n",
       "      <td>요약문</td>\n",
       "    </tr>\n",
       "    <tr>\n",
       "      <th>6593</th>\n",
       "      <td>472785684</td>\n",
       "      <td>요약문</td>\n",
       "    </tr>\n",
       "    <tr>\n",
       "      <th>6594</th>\n",
       "      <td>472785685</td>\n",
       "      <td>요약문</td>\n",
       "    </tr>\n",
       "    <tr>\n",
       "      <th>6595</th>\n",
       "      <td>472785686</td>\n",
       "      <td>요약문</td>\n",
       "    </tr>\n",
       "  </tbody>\n",
       "</table>\n",
       "<p>6596 rows × 2 columns</p>\n",
       "</div>"
      ],
      "text/plain": [
       "             id summary\n",
       "0     472779091     요약문\n",
       "1     472779092     요약문\n",
       "2     472779093     요약문\n",
       "3     472779094     요약문\n",
       "4     472779095     요약문\n",
       "...         ...     ...\n",
       "6591  472785682     요약문\n",
       "6592  472785683     요약문\n",
       "6593  472785684     요약문\n",
       "6594  472785685     요약문\n",
       "6595  472785686     요약문\n",
       "\n",
       "[6596 rows x 2 columns]"
      ]
     },
     "execution_count": 7,
     "metadata": {},
     "output_type": "execute_result"
    }
   ],
   "source": [
    "pd.read_csv(out_sample_path)"
   ]
  },
  {
   "cell_type": "code",
   "execution_count": 7,
   "metadata": {},
   "outputs": [],
   "source": [
    "import json\n",
    "with open('/Volumes/GoogleDrive/My Drive/gassum/data/valid_original.json') as f:\n",
    "    valid_raw = json.load(f)['documents']"
   ]
  },
  {
   "cell_type": "code",
   "execution_count": 8,
   "metadata": {},
   "outputs": [
    {
     "data": {
      "text/plain": [
       "{'id': '340626877',\n",
       " 'category': '정치',\n",
       " 'media_type': 'online',\n",
       " 'media_sub_type': '경제지',\n",
       " 'media_name': '한국경제',\n",
       " 'size': 'medium',\n",
       " 'char_count': '1111',\n",
       " 'publish_date': '2019-04-08 17:43:00',\n",
       " 'title': '文대통령 \"5G는 4차산업혁명 시대의 고속도로\"',\n",
       " 'text': [[{'index': 0,\n",
       "    'sentence': '[ 박재원 기자 ] \\'대한민국 5G 홍보대사\\'를 자처한 문재인 대통령은 \"넓고, 체증 없는 \\'통신 고속도로\\'가 5G\"라며 \"대한민국의 대전환이 이제 막 시작됐다\"고 기대감을 높였다.',\n",
       "    'highlight_indices': '80,82'}],\n",
       "  [{'index': 1,\n",
       "    'sentence': '문 대통령은 8일 서울 올림픽공원에서 열린 5G플러스 전략발표에 참석해 \"5G 시대는 우리가 생각하고, 만들면 그것이 세계 표준이 되는 시대\"라며 \"5G는 대한민국 혁신성장의 인프라\"라고 강조했다.',\n",
       "    'highlight_indices': ''},\n",
       "   {'index': 2,\n",
       "    'sentence': \"산업화 시대에 고속도로가 우리 경제의 '대동맥' 역할을 했듯, 5G가 4차 산업혁명 시대의 고속도로가 돼 새로운 기회를 열어 줄 것이란 설명이다.\",\n",
       "    'highlight_indices': ''}],\n",
       "  [{'index': 3,\n",
       "    'sentence': '문 대통령은 \"5G가 각 분야에 융합되면, 정보통신산업을 넘어 자동차, 드론(무인항공기), 로봇, 지능형 폐쇄회로TV(CCTV)를 비롯한 제조업과 벤처에 이르기까지 우리 산업 전체의 혁신을 통한 동반성장이 가능하다\"고 밝혔다.',\n",
       "    'highlight_indices': '12,13'},\n",
       "   {'index': 4,\n",
       "    'sentence': '세계 최초 상용화에 성공한 5G가 반도체를 이을 우리 경제의 새 먹거리가 될 것이란 관측이다.',\n",
       "    'highlight_indices': '34,35'},\n",
       "   {'index': 5,\n",
       "    'sentence': '정부는 2026년 세계 5G 시장 규모가 1161조원에 달할 것으로 보고 있다.',\n",
       "    'highlight_indices': ''},\n",
       "   {'index': 6,\n",
       "    'sentence': '작년 반도체 시장 규모가 529조원인 점을 고려하면 2배 이상 큰 미래 시장이 창출되는 셈이다.',\n",
       "    'highlight_indices': ''}],\n",
       "  [{'index': 7,\n",
       "    'sentence': '문 대통령은 아직은 국민에게 다소 낯선 5G 시대의 미래상을 친절히 설명해 눈길을 끌기도 했다.',\n",
       "    'highlight_indices': '7,9;16,18;34,37'},\n",
       "   {'index': 8,\n",
       "    'sentence': '문 대통령은 \"\\'지금 스마트폰으로 충분한데, 5G가 왜 필요하지?\\'라고 생각할 수 있다\"며 \"4세대 이동통신은 \\'아직은\\' 빠르지만 가까운 미래에는 결코 빠르지 않다\"고 했다.',\n",
       "    'highlight_indices': '9,11;29,30;63,65;82,84'},\n",
       "   {'index': 9,\n",
       "    'sentence': '그러면서 \"자동차가 많아질수록 더 넓은 길이 필요한 것처럼 사물과 사물을 연결하고, 데이터를 주고받는 이동통신망도 더 넓고 빠른 길이 필요하다\"고 덧붙였다.',\n",
       "    'highlight_indices': '17,18;64,65'}],\n",
       "  [{'index': 10,\n",
       "    'sentence': '문 대통령은 세계 최초 상용화에 성공한 우리 5G 기술을 널리 알리는 홍보대사를 자처하기도 했다.',\n",
       "    'highlight_indices': '32,34'},\n",
       "   {'index': 11,\n",
       "    'sentence': '5G 시장을 선점하기 위한 각국의 경쟁이 뜨겁게 달아오른 만큼 정부 차원에서 적극 지원하겠다는 방침이다.',\n",
       "    'highlight_indices': ''},\n",
       "   {'index': 12,\n",
       "    'sentence': '문 대통령은 \"평창동계올림픽 360도 중계, 작년 4·27 남북한 정상회담 때 프레스센터에서 사용된 스마트월처럼 기회가 생기면 대통령부터 나서서 우리의 앞선 기술을 홍보하겠다\"고 말했다.',\n",
       "    'highlight_indices': ''}]],\n",
       " 'annotator_id': 4209,\n",
       " 'document_quality_scores': {'readable': 5,\n",
       "  'accurate': 5,\n",
       "  'informative': 5,\n",
       "  'trustworthy': 5},\n",
       " 'extractive': [0, 1, 3],\n",
       " 'abstractive': ['8일 서울에서 열린 5G플러스 전략발표에 참석한 문재인 대통령은 5G는 대한민국 혁신성장의 인프라이자 \"넓고, 체증 없는 \\'통신 고속도로\\'\"라고 강조하며 5G가 각 분양에 융합되면 정보통신산업을 넘어 제조업과 벤처에 이르러 우리 산업 전체의 혁신을 통한 동반성장이 가능하다고 언급했다.']}"
      ]
     },
     "execution_count": 8,
     "metadata": {},
     "output_type": "execute_result"
    }
   ],
   "source": [
    "valid_raw[0]"
   ]
  },
  {
   "cell_type": "code",
   "execution_count": 6,
   "metadata": {},
   "outputs": [],
   "source": [
    "def load_data_from_json(file_path):\n",
    "    with open(file_path) as f:\n",
    "        json_raw = json.load(f)['documents']\n",
    "    keys = [\n",
    "        'id', 'title', 'text', 'summary', 'publish_date',\n",
    "        # 'size', 'char_count',\n",
    "        # 'category', 'media_type', 'media_sub_type', 'media_name',\n",
    "    ]\n",
    "    table = {key: [] for key in keys}\n",
    "    for sample in json_raw:\n",
    "        for key in keys:\n",
    "            if key == 'text':\n",
    "                chunks = []\n",
    "                for chunk in sample['text']:\n",
    "                    chunks.extend(s['sentence'] for s in chunk)\n",
    "                table[key].append(' '.join(chunks))\n",
    "            elif key == 'summary':\n",
    "                table[key].append(' '.join(sample['abstractive']))\n",
    "            elif sample.get(key) is not None:\n",
    "                table[key].append(sample[key])\n",
    "    return pd.DataFrame(table, index=table['id'])"
   ]
  },
  {
   "cell_type": "code",
   "execution_count": 9,
   "metadata": {},
   "outputs": [],
   "source": [
    "valid_law = load_data_from_json('/Volumes/GoogleDrive/My Drive/gassum/data/valid_law_original.json')"
   ]
  },
  {
   "cell_type": "code",
   "execution_count": 11,
   "metadata": {},
   "outputs": [],
   "source": [
    "valid_law.to_csv('/Volumes/GoogleDrive/My Drive/gassum/data/valid_law_original.csv', index=False)"
   ]
  },
  {
   "cell_type": "code",
   "execution_count": 12,
   "metadata": {},
   "outputs": [],
   "source": [
    "train_law = load_data_from_json(train_law_path)"
   ]
  },
  {
   "cell_type": "code",
   "execution_count": 14,
   "metadata": {},
   "outputs": [],
   "source": [
    "train_law.to_csv('/Volumes/GoogleDrive/My Drive/gassum/data/train_law_original.csv', index=False)"
   ]
  },
  {
   "cell_type": "code",
   "execution_count": 10,
   "metadata": {},
   "outputs": [],
   "source": [
    "train = load_data_from_json(train_path)"
   ]
  },
  {
   "cell_type": "code",
   "execution_count": 15,
   "metadata": {},
   "outputs": [],
   "source": [
    "valid = load_data_from_json(valid_path)"
   ]
  },
  {
   "cell_type": "code",
   "execution_count": 18,
   "metadata": {},
   "outputs": [],
   "source": [
    "valid.sample(10000).to_csv('/Volumes/GoogleDrive/My Drive/gassum/data/valid_sampled.csv')"
   ]
  },
  {
   "cell_type": "code",
   "execution_count": 12,
   "metadata": {},
   "outputs": [],
   "source": [
    "expanded = pd.concat([train, valid])"
   ]
  },
  {
   "cell_type": "code",
   "execution_count": 15,
   "metadata": {},
   "outputs": [],
   "source": [
    "if len(train) + len(valid) == len(expanded):\n",
    "    expanded.to_csv('/Volumes/GoogleDrive/My Drive/gassum/data/train+valid_original.csv')"
   ]
  },
  {
   "cell_type": "code",
   "execution_count": 24,
   "metadata": {},
   "outputs": [
    {
     "data": {
      "text/plain": [
       "'8일 서울에서 열린 5G플러스 전략발표에 참석한 문재인 대통령은 5G는 대한민국 혁신성장의 인프라이자 \"넓고, 체증 없는 \\'통신 고속도로\\'\"라고 강조하며 5G가 각 분양에 융합되면 정보통신산업을 넘어 제조업과 벤처에 이르러 우리 산업 전체의 혁신을 통한 동반성장이 가능하다고 언급했다.'"
      ]
     },
     "execution_count": 24,
     "metadata": {},
     "output_type": "execute_result"
    }
   ],
   "source": [
    "valid.iloc[0, 3]"
   ]
  },
  {
   "cell_type": "code",
   "execution_count": 4,
   "metadata": {},
   "outputs": [],
   "source": [
    "from transformers import AutoTokenizer\n",
    "tokenizer = AutoTokenizer.from_pretrained('hyunwoongko/kobart')"
   ]
  },
  {
   "cell_type": "code",
   "execution_count": 5,
   "metadata": {},
   "outputs": [
    {
     "data": {
      "text/plain": [
       "['가스', '▁에너지', '분야', '▁문서', '요', '약']"
      ]
     },
     "execution_count": 5,
     "metadata": {},
     "output_type": "execute_result"
    }
   ],
   "source": [
    "tokenizer.tokenize('가스 에너지분야 문서요약')"
   ]
  },
  {
   "cell_type": "code",
   "execution_count": 6,
   "metadata": {},
   "outputs": [
    {
     "ename": "NameError",
     "evalue": "name 'train' is not defined",
     "output_type": "error",
     "traceback": [
      "\u001b[0;31m---------------------------------------------------------------------------\u001b[0m",
      "\u001b[0;31mNameError\u001b[0m                                 Traceback (most recent call last)",
      "\u001b[0;32m<ipython-input-6-48e256b0039f>\u001b[0m in \u001b[0;36m<module>\u001b[0;34m\u001b[0m\n\u001b[0;32m----> 1\u001b[0;31m \u001b[0mtokenizer\u001b[0m\u001b[0;34m.\u001b[0m\u001b[0mtokenize\u001b[0m\u001b[0;34m(\u001b[0m\u001b[0mtrain\u001b[0m\u001b[0;34m[\u001b[0m\u001b[0;34m'text'\u001b[0m\u001b[0;34m]\u001b[0m\u001b[0;34m[\u001b[0m\u001b[0;34m:\u001b[0m\u001b[0;36m3\u001b[0m\u001b[0;34m]\u001b[0m\u001b[0;34m)\u001b[0m\u001b[0;34m\u001b[0m\u001b[0;34m\u001b[0m\u001b[0m\n\u001b[0m",
      "\u001b[0;31mNameError\u001b[0m: name 'train' is not defined"
     ]
    }
   ],
   "source": [
    "tokenizer.tokenize(train['text'][:3])"
   ]
  },
  {
   "cell_type": "code",
   "execution_count": null,
   "metadata": {},
   "outputs": [],
   "source": [
    "train_num_tokens = map(len, tokenizer.tokenize(list(train['text'])))"
   ]
  },
  {
   "cell_type": "code",
   "execution_count": 18,
   "metadata": {},
   "outputs": [],
   "source": [
    "train.to_csv('/Volumes/GoogleDrive/My Drive/gassum/data/train_original.csva')\n",
    "valid.to_csv('/Volumes/GoogleDrive/My Drive/gassum/data/valid_original.csv')"
   ]
  },
  {
   "cell_type": "code",
   "execution_count": 4,
   "metadata": {},
   "outputs": [
    {
     "ename": "FileNotFoundError",
     "evalue": "[Errno 2] No such file or directory: 'Volumes/GoogleDrive/My Drive/gassum/data/train_original.csv'",
     "output_type": "error",
     "traceback": [
      "\u001b[0;31m---------------------------------------------------------------------------\u001b[0m",
      "\u001b[0;31mFileNotFoundError\u001b[0m                         Traceback (most recent call last)",
      "\u001b[0;32m<ipython-input-4-72cb3be3774b>\u001b[0m in \u001b[0;36m<module>\u001b[0;34m\u001b[0m\n\u001b[0;32m----> 1\u001b[0;31m \u001b[0mtrain\u001b[0m \u001b[0;34m=\u001b[0m \u001b[0mpd\u001b[0m\u001b[0;34m.\u001b[0m\u001b[0mread_csv\u001b[0m\u001b[0;34m(\u001b[0m\u001b[0;34m'Volumes/GoogleDrive/My Drive/gassum/data/train_original.csv'\u001b[0m\u001b[0;34m)\u001b[0m\u001b[0;34m\u001b[0m\u001b[0;34m\u001b[0m\u001b[0m\n\u001b[0m",
      "\u001b[0;32m~/anaconda3/lib/python3.8/site-packages/pandas/io/parsers.py\u001b[0m in \u001b[0;36mread_csv\u001b[0;34m(filepath_or_buffer, sep, delimiter, header, names, index_col, usecols, squeeze, prefix, mangle_dupe_cols, dtype, engine, converters, true_values, false_values, skipinitialspace, skiprows, skipfooter, nrows, na_values, keep_default_na, na_filter, verbose, skip_blank_lines, parse_dates, infer_datetime_format, keep_date_col, date_parser, dayfirst, cache_dates, iterator, chunksize, compression, thousands, decimal, lineterminator, quotechar, quoting, doublequote, escapechar, comment, encoding, dialect, error_bad_lines, warn_bad_lines, delim_whitespace, low_memory, memory_map, float_precision)\u001b[0m\n\u001b[1;32m    684\u001b[0m     )\n\u001b[1;32m    685\u001b[0m \u001b[0;34m\u001b[0m\u001b[0m\n\u001b[0;32m--> 686\u001b[0;31m     \u001b[0;32mreturn\u001b[0m \u001b[0m_read\u001b[0m\u001b[0;34m(\u001b[0m\u001b[0mfilepath_or_buffer\u001b[0m\u001b[0;34m,\u001b[0m \u001b[0mkwds\u001b[0m\u001b[0;34m)\u001b[0m\u001b[0;34m\u001b[0m\u001b[0;34m\u001b[0m\u001b[0m\n\u001b[0m\u001b[1;32m    687\u001b[0m \u001b[0;34m\u001b[0m\u001b[0m\n\u001b[1;32m    688\u001b[0m \u001b[0;34m\u001b[0m\u001b[0m\n",
      "\u001b[0;32m~/anaconda3/lib/python3.8/site-packages/pandas/io/parsers.py\u001b[0m in \u001b[0;36m_read\u001b[0;34m(filepath_or_buffer, kwds)\u001b[0m\n\u001b[1;32m    450\u001b[0m \u001b[0;34m\u001b[0m\u001b[0m\n\u001b[1;32m    451\u001b[0m     \u001b[0;31m# Create the parser.\u001b[0m\u001b[0;34m\u001b[0m\u001b[0;34m\u001b[0m\u001b[0;34m\u001b[0m\u001b[0m\n\u001b[0;32m--> 452\u001b[0;31m     \u001b[0mparser\u001b[0m \u001b[0;34m=\u001b[0m \u001b[0mTextFileReader\u001b[0m\u001b[0;34m(\u001b[0m\u001b[0mfp_or_buf\u001b[0m\u001b[0;34m,\u001b[0m \u001b[0;34m**\u001b[0m\u001b[0mkwds\u001b[0m\u001b[0;34m)\u001b[0m\u001b[0;34m\u001b[0m\u001b[0;34m\u001b[0m\u001b[0m\n\u001b[0m\u001b[1;32m    453\u001b[0m \u001b[0;34m\u001b[0m\u001b[0m\n\u001b[1;32m    454\u001b[0m     \u001b[0;32mif\u001b[0m \u001b[0mchunksize\u001b[0m \u001b[0;32mor\u001b[0m \u001b[0miterator\u001b[0m\u001b[0;34m:\u001b[0m\u001b[0;34m\u001b[0m\u001b[0;34m\u001b[0m\u001b[0m\n",
      "\u001b[0;32m~/anaconda3/lib/python3.8/site-packages/pandas/io/parsers.py\u001b[0m in \u001b[0;36m__init__\u001b[0;34m(self, f, engine, **kwds)\u001b[0m\n\u001b[1;32m    944\u001b[0m             \u001b[0mself\u001b[0m\u001b[0;34m.\u001b[0m\u001b[0moptions\u001b[0m\u001b[0;34m[\u001b[0m\u001b[0;34m\"has_index_names\"\u001b[0m\u001b[0;34m]\u001b[0m \u001b[0;34m=\u001b[0m \u001b[0mkwds\u001b[0m\u001b[0;34m[\u001b[0m\u001b[0;34m\"has_index_names\"\u001b[0m\u001b[0;34m]\u001b[0m\u001b[0;34m\u001b[0m\u001b[0;34m\u001b[0m\u001b[0m\n\u001b[1;32m    945\u001b[0m \u001b[0;34m\u001b[0m\u001b[0m\n\u001b[0;32m--> 946\u001b[0;31m         \u001b[0mself\u001b[0m\u001b[0;34m.\u001b[0m\u001b[0m_make_engine\u001b[0m\u001b[0;34m(\u001b[0m\u001b[0mself\u001b[0m\u001b[0;34m.\u001b[0m\u001b[0mengine\u001b[0m\u001b[0;34m)\u001b[0m\u001b[0;34m\u001b[0m\u001b[0;34m\u001b[0m\u001b[0m\n\u001b[0m\u001b[1;32m    947\u001b[0m \u001b[0;34m\u001b[0m\u001b[0m\n\u001b[1;32m    948\u001b[0m     \u001b[0;32mdef\u001b[0m \u001b[0mclose\u001b[0m\u001b[0;34m(\u001b[0m\u001b[0mself\u001b[0m\u001b[0;34m)\u001b[0m\u001b[0;34m:\u001b[0m\u001b[0;34m\u001b[0m\u001b[0;34m\u001b[0m\u001b[0m\n",
      "\u001b[0;32m~/anaconda3/lib/python3.8/site-packages/pandas/io/parsers.py\u001b[0m in \u001b[0;36m_make_engine\u001b[0;34m(self, engine)\u001b[0m\n\u001b[1;32m   1176\u001b[0m     \u001b[0;32mdef\u001b[0m \u001b[0m_make_engine\u001b[0m\u001b[0;34m(\u001b[0m\u001b[0mself\u001b[0m\u001b[0;34m,\u001b[0m \u001b[0mengine\u001b[0m\u001b[0;34m=\u001b[0m\u001b[0;34m\"c\"\u001b[0m\u001b[0;34m)\u001b[0m\u001b[0;34m:\u001b[0m\u001b[0;34m\u001b[0m\u001b[0;34m\u001b[0m\u001b[0m\n\u001b[1;32m   1177\u001b[0m         \u001b[0;32mif\u001b[0m \u001b[0mengine\u001b[0m \u001b[0;34m==\u001b[0m \u001b[0;34m\"c\"\u001b[0m\u001b[0;34m:\u001b[0m\u001b[0;34m\u001b[0m\u001b[0;34m\u001b[0m\u001b[0m\n\u001b[0;32m-> 1178\u001b[0;31m             \u001b[0mself\u001b[0m\u001b[0;34m.\u001b[0m\u001b[0m_engine\u001b[0m \u001b[0;34m=\u001b[0m \u001b[0mCParserWrapper\u001b[0m\u001b[0;34m(\u001b[0m\u001b[0mself\u001b[0m\u001b[0;34m.\u001b[0m\u001b[0mf\u001b[0m\u001b[0;34m,\u001b[0m \u001b[0;34m**\u001b[0m\u001b[0mself\u001b[0m\u001b[0;34m.\u001b[0m\u001b[0moptions\u001b[0m\u001b[0;34m)\u001b[0m\u001b[0;34m\u001b[0m\u001b[0;34m\u001b[0m\u001b[0m\n\u001b[0m\u001b[1;32m   1179\u001b[0m         \u001b[0;32melse\u001b[0m\u001b[0;34m:\u001b[0m\u001b[0;34m\u001b[0m\u001b[0;34m\u001b[0m\u001b[0m\n\u001b[1;32m   1180\u001b[0m             \u001b[0;32mif\u001b[0m \u001b[0mengine\u001b[0m \u001b[0;34m==\u001b[0m \u001b[0;34m\"python\"\u001b[0m\u001b[0;34m:\u001b[0m\u001b[0;34m\u001b[0m\u001b[0;34m\u001b[0m\u001b[0m\n",
      "\u001b[0;32m~/anaconda3/lib/python3.8/site-packages/pandas/io/parsers.py\u001b[0m in \u001b[0;36m__init__\u001b[0;34m(self, src, **kwds)\u001b[0m\n\u001b[1;32m   2006\u001b[0m         \u001b[0mkwds\u001b[0m\u001b[0;34m[\u001b[0m\u001b[0;34m\"usecols\"\u001b[0m\u001b[0;34m]\u001b[0m \u001b[0;34m=\u001b[0m \u001b[0mself\u001b[0m\u001b[0;34m.\u001b[0m\u001b[0musecols\u001b[0m\u001b[0;34m\u001b[0m\u001b[0;34m\u001b[0m\u001b[0m\n\u001b[1;32m   2007\u001b[0m \u001b[0;34m\u001b[0m\u001b[0m\n\u001b[0;32m-> 2008\u001b[0;31m         \u001b[0mself\u001b[0m\u001b[0;34m.\u001b[0m\u001b[0m_reader\u001b[0m \u001b[0;34m=\u001b[0m \u001b[0mparsers\u001b[0m\u001b[0;34m.\u001b[0m\u001b[0mTextReader\u001b[0m\u001b[0;34m(\u001b[0m\u001b[0msrc\u001b[0m\u001b[0;34m,\u001b[0m \u001b[0;34m**\u001b[0m\u001b[0mkwds\u001b[0m\u001b[0;34m)\u001b[0m\u001b[0;34m\u001b[0m\u001b[0;34m\u001b[0m\u001b[0m\n\u001b[0m\u001b[1;32m   2009\u001b[0m         \u001b[0mself\u001b[0m\u001b[0;34m.\u001b[0m\u001b[0munnamed_cols\u001b[0m \u001b[0;34m=\u001b[0m \u001b[0mself\u001b[0m\u001b[0;34m.\u001b[0m\u001b[0m_reader\u001b[0m\u001b[0;34m.\u001b[0m\u001b[0munnamed_cols\u001b[0m\u001b[0;34m\u001b[0m\u001b[0;34m\u001b[0m\u001b[0m\n\u001b[1;32m   2010\u001b[0m \u001b[0;34m\u001b[0m\u001b[0m\n",
      "\u001b[0;32mpandas/_libs/parsers.pyx\u001b[0m in \u001b[0;36mpandas._libs.parsers.TextReader.__cinit__\u001b[0;34m()\u001b[0m\n",
      "\u001b[0;32mpandas/_libs/parsers.pyx\u001b[0m in \u001b[0;36mpandas._libs.parsers.TextReader._setup_parser_source\u001b[0;34m()\u001b[0m\n",
      "\u001b[0;31mFileNotFoundError\u001b[0m: [Errno 2] No such file or directory: 'Volumes/GoogleDrive/My Drive/gassum/data/train_original.csv'"
     ]
    }
   ],
   "source": [
    "train = pd.read_csv('/Volumes/GoogleDrive/My Drive/gassum/data/train_original.csv')"
   ]
  },
  {
   "cell_type": "code",
   "execution_count": null,
   "metadata": {},
   "outputs": [],
   "source": [
    "train.loc[train['text'].map(lambda x: not x)]"
   ]
  },
  {
   "cell_type": "code",
   "execution_count": 39,
   "metadata": {},
   "outputs": [],
   "source": [
    "valid = pd.read_csv('/Volumes/GoogleDrive/My Drive/gassum/data/valid_original.csv')"
   ]
  },
  {
   "cell_type": "code",
   "execution_count": null,
   "metadata": {},
   "outputs": [],
   "source": [
    "len(train) / 2176 * 274 / 3600"
   ]
  },
  {
   "cell_type": "code",
   "execution_count": 15,
   "metadata": {},
   "outputs": [
    {
     "data": {
      "text/plain": [
       "5.588939887152778"
      ]
     },
     "execution_count": 15,
     "metadata": {},
     "output_type": "execute_result"
    }
   ],
   "source": [
    "len(train) / 512 * 38 / 3600"
   ]
  },
  {
   "cell_type": "code",
   "execution_count": 23,
   "metadata": {},
   "outputs": [
    {
     "data": {
      "text/html": [
       "<div>\n",
       "<style scoped>\n",
       "    .dataframe tbody tr th:only-of-type {\n",
       "        vertical-align: middle;\n",
       "    }\n",
       "\n",
       "    .dataframe tbody tr th {\n",
       "        vertical-align: top;\n",
       "    }\n",
       "\n",
       "    .dataframe thead th {\n",
       "        text-align: right;\n",
       "    }\n",
       "</style>\n",
       "<table border=\"1\" class=\"dataframe\">\n",
       "  <thead>\n",
       "    <tr style=\"text-align: right;\">\n",
       "      <th></th>\n",
       "      <th>Unnamed: 0</th>\n",
       "      <th>id</th>\n",
       "      <th>title</th>\n",
       "      <th>text</th>\n",
       "      <th>summary</th>\n",
       "      <th>publish_date</th>\n",
       "      <th>size</th>\n",
       "      <th>char_count</th>\n",
       "      <th>category</th>\n",
       "      <th>media_type</th>\n",
       "      <th>media_sub_type</th>\n",
       "      <th>media_name</th>\n",
       "    </tr>\n",
       "  </thead>\n",
       "  <tbody>\n",
       "    <tr>\n",
       "      <th>3</th>\n",
       "      <td>290741794</td>\n",
       "      <td>290741794</td>\n",
       "      <td>농업인 역량 강화, 새해 실용교육 실시</td>\n",
       "      <td>11~24일, 매실·감·참다래 등 지역특화작목 이성훈 sinawi@hanmail.n...</td>\n",
       "      <td>광양시는 농업인들의 경쟁력을 높이고, 소득안정을 위해 매실·감·참다래 등 지역특화작...</td>\n",
       "      <td>2018-01-05 18:50:17</td>\n",
       "      <td>small</td>\n",
       "      <td>746</td>\n",
       "      <td>정치</td>\n",
       "      <td>online</td>\n",
       "      <td>지역지</td>\n",
       "      <td>광양신문</td>\n",
       "    </tr>\n",
       "    <tr>\n",
       "      <th>1</th>\n",
       "      <td>290741792</td>\n",
       "      <td>290741792</td>\n",
       "      <td>여수시, 컬러빌리지 마무리...‘색채와 빛’도시 완성</td>\n",
       "      <td>8억 투입, 고소천사벽화·자산마을에 색채 입혀 이성훈 sinawi@hanmail.n...</td>\n",
       "      <td>여수시는 컬러빌리지 사업에 8억원을 투입하여 ‘색채와 빛’ 도시를 완성하여 고소천사...</td>\n",
       "      <td>2018-01-05 18:53:20</td>\n",
       "      <td>small</td>\n",
       "      <td>764</td>\n",
       "      <td>종합</td>\n",
       "      <td>online</td>\n",
       "      <td>지역지</td>\n",
       "      <td>광양신문</td>\n",
       "    </tr>\n",
       "    <tr>\n",
       "      <th>2</th>\n",
       "      <td>290741793</td>\n",
       "      <td>290741793</td>\n",
       "      <td>“새해 정기 받고 올해는 반드시 일내자!”</td>\n",
       "      <td>전남드래곤즈 해맞이 다짐…선수 영입 활발 이성훈 sinawi@hanmail.net ...</td>\n",
       "      <td>전남드래곤즈 임직원과 선수단이 4일 구봉산 정상에 올라 일출을 보며 2018년 구단...</td>\n",
       "      <td>2018-01-05 18:52:15</td>\n",
       "      <td>medium</td>\n",
       "      <td>1066</td>\n",
       "      <td>스포츠</td>\n",
       "      <td>online</td>\n",
       "      <td>지역지</td>\n",
       "      <td>광양신문</td>\n",
       "    </tr>\n",
       "  </tbody>\n",
       "</table>\n",
       "</div>"
      ],
      "text/plain": [
       "   Unnamed: 0         id                          title  \\\n",
       "3   290741794  290741794          농업인 역량 강화, 새해 실용교육 실시   \n",
       "1   290741792  290741792  여수시, 컬러빌리지 마무리...‘색채와 빛’도시 완성   \n",
       "2   290741793  290741793        “새해 정기 받고 올해는 반드시 일내자!”   \n",
       "\n",
       "                                                text  \\\n",
       "3  11~24일, 매실·감·참다래 등 지역특화작목 이성훈 sinawi@hanmail.n...   \n",
       "1  8억 투입, 고소천사벽화·자산마을에 색채 입혀 이성훈 sinawi@hanmail.n...   \n",
       "2  전남드래곤즈 해맞이 다짐…선수 영입 활발 이성훈 sinawi@hanmail.net ...   \n",
       "\n",
       "                                             summary         publish_date  \\\n",
       "3  광양시는 농업인들의 경쟁력을 높이고, 소득안정을 위해 매실·감·참다래 등 지역특화작...  2018-01-05 18:50:17   \n",
       "1  여수시는 컬러빌리지 사업에 8억원을 투입하여 ‘색채와 빛’ 도시를 완성하여 고소천사...  2018-01-05 18:53:20   \n",
       "2  전남드래곤즈 임직원과 선수단이 4일 구봉산 정상에 올라 일출을 보며 2018년 구단...  2018-01-05 18:52:15   \n",
       "\n",
       "     size  char_count category media_type media_sub_type media_name  \n",
       "3   small         746       정치     online            지역지       광양신문  \n",
       "1   small         764       종합     online            지역지       광양신문  \n",
       "2  medium        1066      스포츠     online            지역지       광양신문  "
      ]
     },
     "execution_count": 23,
     "metadata": {},
     "output_type": "execute_result"
    }
   ],
   "source": [
    "train.iloc[[3,1,2]]"
   ]
  },
  {
   "cell_type": "code",
   "execution_count": 24,
   "metadata": {},
   "outputs": [
    {
     "data": {
      "text/plain": [
       "3    11~24일, 매실·감·참다래 등 지역특화작목 이성훈 sinawi@hanmail.n...\n",
       "4    홍콩 크루즈선사‘아쿠아리우스’ 4, 6월 여수항 입항 이성훈 sinawi@hanma...\n",
       "5    30인 미만 중소기업 등 사업주에 월 13만원 지급 이성훈 sinawi@hanmai...\n",
       "6    일방적인 시내버스 감차, 시민들 분노 김영신 기자 yskim0966@naver.co...\n",
       "7    교육지원청 Wee센터, 겨울방학 카운슬링 운영 김영신 기자 yskim0966@nav...\n",
       "8    서양화가 강홍순 전, 정인수 화가‘通통通통한 산수화’전 김영신 기자 yskim096...\n",
       "9    4개 과정, 38과목 선발…반려동물 관리사 신설 이성훈 sinawi@hanmail....\n",
       "Name: text, dtype: object"
      ]
     },
     "execution_count": 24,
     "metadata": {},
     "output_type": "execute_result"
    }
   ],
   "source": [
    "train['text'].iloc[3:10]"
   ]
  },
  {
   "cell_type": "code",
   "execution_count": 36,
   "metadata": {},
   "outputs": [],
   "source": [
    "import pandas as pd\n",
    "train_law = load_data_from_json(train_law_path)\n",
    "valid_law = load_data_from_json(valid_law_path)"
   ]
  },
  {
   "cell_type": "code",
   "execution_count": 37,
   "metadata": {},
   "outputs": [
    {
     "data": {
      "text/html": [
       "<div>\n",
       "<style scoped>\n",
       "    .dataframe tbody tr th:only-of-type {\n",
       "        vertical-align: middle;\n",
       "    }\n",
       "\n",
       "    .dataframe tbody tr th {\n",
       "        vertical-align: top;\n",
       "    }\n",
       "\n",
       "    .dataframe thead th {\n",
       "        text-align: right;\n",
       "    }\n",
       "</style>\n",
       "<table border=\"1\" class=\"dataframe\">\n",
       "  <thead>\n",
       "    <tr style=\"text-align: right;\">\n",
       "      <th></th>\n",
       "      <th>id</th>\n",
       "      <th>title</th>\n",
       "      <th>text</th>\n",
       "      <th>summary</th>\n",
       "      <th>publish_date</th>\n",
       "    </tr>\n",
       "  </thead>\n",
       "  <tbody>\n",
       "    <tr>\n",
       "      <th>100004</th>\n",
       "      <td>100004</td>\n",
       "      <td>부당노동행위구제재심판정취소</td>\n",
       "      <td>원고가 소속회사의 노동조합에서 분규가 발생하자 노조활동을 구실로 정상적인 근무를 해...</td>\n",
       "      <td>원고가  주동하여 회사업무능률을 저해하고 회사업무상의 지휘명령에 위반하였다면 이에 ...</td>\n",
       "      <td>19841226</td>\n",
       "    </tr>\n",
       "    <tr>\n",
       "      <th>100005</th>\n",
       "      <td>100005</td>\n",
       "      <td>법인세부과처분취소</td>\n",
       "      <td>수출입업체인 원고가 의류제품을 제조ㆍ수출함에 있어 같은 그룹내 종합무역상사인 소외 ...</td>\n",
       "      <td>수출입업체인 원고가 의류제품을 제조ㆍ수출함에 있어 소외 회사의 직수출실적을 지원하기...</td>\n",
       "      <td>19841226</td>\n",
       "    </tr>\n",
       "    <tr>\n",
       "      <th>100006</th>\n",
       "      <td>100006</td>\n",
       "      <td>양도소득세부과처분취소</td>\n",
       "      <td>가등기담보권자가 제소전 화해조항에 따라 자기 명의로 소유권이전의 본등기를 경료한 후...</td>\n",
       "      <td>가등기담보권자가 제소전 화해조항에 의해 자기 명의로 소유권이전의 본등기를 경료하고 ...</td>\n",
       "      <td>19841226</td>\n",
       "    </tr>\n",
       "    <tr>\n",
       "      <th>100008</th>\n",
       "      <td>100008</td>\n",
       "      <td>부가가치세부과처분취소</td>\n",
       "      <td>가. 부가가치세법 제22조 제3항 단서에 제1호와 제2호가 동시에 해당한다는 뜻은 ...</td>\n",
       "      <td>부가가치세법 제22조 제3항 단서에 제1호와 제2호가 동시에 해당한다는 의미는 제1...</td>\n",
       "      <td>19841226</td>\n",
       "    </tr>\n",
       "    <tr>\n",
       "      <th>100014</th>\n",
       "      <td>100014</td>\n",
       "      <td>양도소득세부과처분취소</td>\n",
       "      <td>소득세법 제116조 제1항의 규정에 의하면 정부는 과세표준확정신고를 하여야 할 자에...</td>\n",
       "      <td>소득세법 제116조 제1항에 따르면 정부는 과세표준확정신고를 해야 할 자에 대해 당...</td>\n",
       "      <td>19841226</td>\n",
       "    </tr>\n",
       "    <tr>\n",
       "      <th>...</th>\n",
       "      <td>...</td>\n",
       "      <td>...</td>\n",
       "      <td>...</td>\n",
       "      <td>...</td>\n",
       "      <td>...</td>\n",
       "    </tr>\n",
       "    <tr>\n",
       "      <th>83579</th>\n",
       "      <td>83579</td>\n",
       "      <td>손해배상(기)</td>\n",
       "      <td>[1] 공해로 인한 손해배상청구소송에 있어서는 가해행위와 손해발생 사이의 인과관계의...</td>\n",
       "      <td>공해로 인한 손해배상청구소송에 있어 가해기업은 피해자보다 원인조사에 유리할 뿐 아니...</td>\n",
       "      <td>20041126</td>\n",
       "    </tr>\n",
       "    <tr>\n",
       "      <th>83581</th>\n",
       "      <td>83581</td>\n",
       "      <td>추심금</td>\n",
       "      <td>[1] 구 민사소송법(2002. 1. 26. 법률 제6626호로 전문 개정되기 전의...</td>\n",
       "      <td>구 민사소송법에서 보충송달은 송달장소에서 수령대행권이 있는 자에게만 할 수 있다고 ...</td>\n",
       "      <td>20041126</td>\n",
       "    </tr>\n",
       "    <tr>\n",
       "      <th>83583</th>\n",
       "      <td>83583</td>\n",
       "      <td>구상금</td>\n",
       "      <td>[1] 구 신기술사업금융지원에관한법률(2002. 8. 26. 법률 제6705호 기술...</td>\n",
       "      <td>구 신기술사업금융법에서는 보증채무를 이행하지 못한 기업으로부터 기술보증기금이 추가보...</td>\n",
       "      <td>20041126</td>\n",
       "    </tr>\n",
       "    <tr>\n",
       "      <th>83585</th>\n",
       "      <td>83585</td>\n",
       "      <td>가압류이의</td>\n",
       "      <td>구 주택건설촉진법(2003. 5. 29. 법률 제6916호 주택법으로 전문 개정되기...</td>\n",
       "      <td>구 주택건설촉진법 취지는 입주자모집공고승인 이후 공급받는 이들을 보호하기 위함으로 ...</td>\n",
       "      <td>20041126</td>\n",
       "    </tr>\n",
       "    <tr>\n",
       "      <th>83586</th>\n",
       "      <td>83586</td>\n",
       "      <td>손해배상(자)</td>\n",
       "      <td>[1] 교통사고 피해자의 기왕증이 그 사고와 경합하여 악화됨으로써 피해자에게 특정 ...</td>\n",
       "      <td>교통사고 피해자의 기왕증이 그 사고와 합쳐져 악화됨으로써 피해자에게 특정 상해의 발...</td>\n",
       "      <td>20041126</td>\n",
       "    </tr>\n",
       "  </tbody>\n",
       "</table>\n",
       "<p>27033 rows × 5 columns</p>\n",
       "</div>"
      ],
      "text/plain": [
       "            id           title  \\\n",
       "100004  100004  부당노동행위구제재심판정취소   \n",
       "100005  100005       법인세부과처분취소   \n",
       "100006  100006     양도소득세부과처분취소   \n",
       "100008  100008     부가가치세부과처분취소   \n",
       "100014  100014     양도소득세부과처분취소   \n",
       "...        ...             ...   \n",
       "83579    83579         손해배상(기)   \n",
       "83581    83581             추심금   \n",
       "83583    83583             구상금   \n",
       "83585    83585           가압류이의   \n",
       "83586    83586         손해배상(자)   \n",
       "\n",
       "                                                     text  \\\n",
       "100004  원고가 소속회사의 노동조합에서 분규가 발생하자 노조활동을 구실로 정상적인 근무를 해...   \n",
       "100005  수출입업체인 원고가 의류제품을 제조ㆍ수출함에 있어 같은 그룹내 종합무역상사인 소외 ...   \n",
       "100006  가등기담보권자가 제소전 화해조항에 따라 자기 명의로 소유권이전의 본등기를 경료한 후...   \n",
       "100008  가. 부가가치세법 제22조 제3항 단서에 제1호와 제2호가 동시에 해당한다는 뜻은 ...   \n",
       "100014  소득세법 제116조 제1항의 규정에 의하면 정부는 과세표준확정신고를 하여야 할 자에...   \n",
       "...                                                   ...   \n",
       "83579   [1] 공해로 인한 손해배상청구소송에 있어서는 가해행위와 손해발생 사이의 인과관계의...   \n",
       "83581   [1] 구 민사소송법(2002. 1. 26. 법률 제6626호로 전문 개정되기 전의...   \n",
       "83583   [1] 구 신기술사업금융지원에관한법률(2002. 8. 26. 법률 제6705호 기술...   \n",
       "83585   구 주택건설촉진법(2003. 5. 29. 법률 제6916호 주택법으로 전문 개정되기...   \n",
       "83586   [1] 교통사고 피해자의 기왕증이 그 사고와 경합하여 악화됨으로써 피해자에게 특정 ...   \n",
       "\n",
       "                                                  summary publish_date  \n",
       "100004  원고가  주동하여 회사업무능률을 저해하고 회사업무상의 지휘명령에 위반하였다면 이에 ...     19841226  \n",
       "100005  수출입업체인 원고가 의류제품을 제조ㆍ수출함에 있어 소외 회사의 직수출실적을 지원하기...     19841226  \n",
       "100006  가등기담보권자가 제소전 화해조항에 의해 자기 명의로 소유권이전의 본등기를 경료하고 ...     19841226  \n",
       "100008  부가가치세법 제22조 제3항 단서에 제1호와 제2호가 동시에 해당한다는 의미는 제1...     19841226  \n",
       "100014  소득세법 제116조 제1항에 따르면 정부는 과세표준확정신고를 해야 할 자에 대해 당...     19841226  \n",
       "...                                                   ...          ...  \n",
       "83579   공해로 인한 손해배상청구소송에 있어 가해기업은 피해자보다 원인조사에 유리할 뿐 아니...     20041126  \n",
       "83581   구 민사소송법에서 보충송달은 송달장소에서 수령대행권이 있는 자에게만 할 수 있다고 ...     20041126  \n",
       "83583   구 신기술사업금융법에서는 보증채무를 이행하지 못한 기업으로부터 기술보증기금이 추가보...     20041126  \n",
       "83585   구 주택건설촉진법 취지는 입주자모집공고승인 이후 공급받는 이들을 보호하기 위함으로 ...     20041126  \n",
       "83586   교통사고 피해자의 기왕증이 그 사고와 합쳐져 악화됨으로써 피해자에게 특정 상해의 발...     20041126  \n",
       "\n",
       "[27033 rows x 5 columns]"
      ]
     },
     "execution_count": 37,
     "metadata": {},
     "output_type": "execute_result"
    }
   ],
   "source": [
    "train_law"
   ]
  },
  {
   "cell_type": "code",
   "execution_count": 40,
   "metadata": {},
   "outputs": [],
   "source": [
    "train_news_law = pd.concat([train, train_law])"
   ]
  },
  {
   "cell_type": "code",
   "execution_count": 43,
   "metadata": {},
   "outputs": [],
   "source": [
    "train_news_law = train_news_law.iloc[:, 1:]"
   ]
  },
  {
   "cell_type": "code",
   "execution_count": 48,
   "metadata": {},
   "outputs": [],
   "source": [
    "valid_news_law = pd.concat([valid, valid_law])"
   ]
  },
  {
   "cell_type": "code",
   "execution_count": 51,
   "metadata": {},
   "outputs": [],
   "source": [
    "valid_news_law = valid_news_law.iloc[:, :5]"
   ]
  },
  {
   "cell_type": "code",
   "execution_count": null,
   "metadata": {},
   "outputs": [],
   "source": [
    "import pandas as pd\n",
    "train = pd.read_csv('/Volumes/GoogleDrive/My Drive/gassum/data/train_original.csv')"
   ]
  },
  {
   "cell_type": "code",
   "execution_count": null,
   "metadata": {},
   "outputs": [],
   "source": []
  },
  {
   "cell_type": "code",
   "execution_count": 53,
   "metadata": {},
   "outputs": [],
   "source": [
    "train_news_law.to_csv('/Volumes/GoogleDrive/My Drive/gassum/data/train_news+law_original.csv', index=False)\n",
    "valid_news_law.to_csv('/Volumes/GoogleDrive/My Drive/gassum/data/valid_news+law_original.csv', index=False)"
   ]
  },
  {
   "cell_type": "code",
   "execution_count": 54,
   "metadata": {},
   "outputs": [
    {
     "data": {
      "text/plain": [
       "27033"
      ]
     },
     "execution_count": 54,
     "metadata": {},
     "output_type": "execute_result"
    }
   ],
   "source": [
    "len(train_law)"
   ]
  },
  {
   "cell_type": "code",
   "execution_count": 56,
   "metadata": {},
   "outputs": [],
   "source": [
    "valid_news_laws_sampled = valid_news_law.sample(10000)"
   ]
  },
  {
   "cell_type": "code",
   "execution_count": 57,
   "metadata": {},
   "outputs": [
    {
     "data": {
      "text/html": [
       "<div>\n",
       "<style scoped>\n",
       "    .dataframe tbody tr th:only-of-type {\n",
       "        vertical-align: middle;\n",
       "    }\n",
       "\n",
       "    .dataframe tbody tr th {\n",
       "        vertical-align: top;\n",
       "    }\n",
       "\n",
       "    .dataframe thead th {\n",
       "        text-align: right;\n",
       "    }\n",
       "</style>\n",
       "<table border=\"1\" class=\"dataframe\">\n",
       "  <thead>\n",
       "    <tr style=\"text-align: right;\">\n",
       "      <th></th>\n",
       "      <th>id</th>\n",
       "      <th>title</th>\n",
       "      <th>text</th>\n",
       "      <th>summary</th>\n",
       "      <th>publish_date</th>\n",
       "    </tr>\n",
       "  </thead>\n",
       "  <tbody>\n",
       "    <tr>\n",
       "      <th>26874</th>\n",
       "      <td>347828703</td>\n",
       "      <td>新북방정책...하나금융, 금융협력 폭 넓힌다</td>\n",
       "      <td>하나금융그룹이 러시아 블라디보스토크에 영업점 개설을 추진한다. 정부의 신(新)북방정...</td>\n",
       "      <td>하나금융은 지난 3일 블라디보스토크에서 영업점 개설을 추진하고, 신북방정책에 부응해...</td>\n",
       "      <td>2019-06-05 11:34:00</td>\n",
       "    </tr>\n",
       "    <tr>\n",
       "      <th>4769</th>\n",
       "      <td>353905433</td>\n",
       "      <td>강원도는 원격의료, 부산은 블록체인...세계 최초 규제자유특구 7곳 출범</td>\n",
       "      <td>강원도가 도민에게 원격의료를 시행하고, 부산은 블록체인 기반 금융·행정서비스를 제공...</td>\n",
       "      <td>문재인 대통령은 24일 부산에서 시.도지사 간담회를 갖고 정부는 세계 최초로 7개 ...</td>\n",
       "      <td>2019-07-24 14:13:00</td>\n",
       "    </tr>\n",
       "    <tr>\n",
       "      <th>28799</th>\n",
       "      <td>349627869</td>\n",
       "      <td>저금리속 현금 따박따박...인컴펀드 눈길</td>\n",
       "      <td>미국이 통화정책 기조를 금리 정상화에서 인하로 틀겠다는 신호를 보내면서 투자전략에도...</td>\n",
       "      <td>지난 19일 미국 연방준비제도(FED)가 연방공개시장위원회(FOMC) 종료 직후 공...</td>\n",
       "      <td>2019-06-20 11:31:00</td>\n",
       "    </tr>\n",
       "    <tr>\n",
       "      <th>29878</th>\n",
       "      <td>350570026</td>\n",
       "      <td>‘송송 커플’ 이혼이 장악한 연예계 이슈, 누가 울고 웃었나?</td>\n",
       "      <td>송중기, 송혜교의 이혼이 연예계 각종 이슈들을 집어삼켰다. 각종 행사들은 주목을 받...</td>\n",
       "      <td>지난 26일 송중기와 송혜교의 이혼이 큰 화제가 되면서 이전의 다른 연예인들의 논란...</td>\n",
       "      <td>2019-06-27 16:57:00</td>\n",
       "    </tr>\n",
       "    <tr>\n",
       "      <th>16435</th>\n",
       "      <td>344261823</td>\n",
       "      <td>LPG운반선 운임 4개월 만에 6배</td>\n",
       "      <td>미국산 동남아 수출 증가 초대형 액화석유가스(LPG) 운반선 운임료가 올해들어 6배...</td>\n",
       "      <td>초대형 액화석유가스(LPG) 운반선 운임료가 올들어 6배 증가한 원인으로 봄철 북미...</td>\n",
       "      <td>2019-05-08 10:58:02</td>\n",
       "    </tr>\n",
       "    <tr>\n",
       "      <th>...</th>\n",
       "      <td>...</td>\n",
       "      <td>...</td>\n",
       "      <td>...</td>\n",
       "      <td>...</td>\n",
       "      <td>...</td>\n",
       "    </tr>\n",
       "    <tr>\n",
       "      <th>2633</th>\n",
       "      <td>343304806</td>\n",
       "      <td>'어린 의뢰인' 이동휘, \"시나리오 보고 먹먹했다...가볍게 표현될까 두려웠다\"</td>\n",
       "      <td>영화 '어린 의뢰인'이 5월 22일 개봉을 확정하고 '메시지 #키워드 영상' 공개와...</td>\n",
       "      <td>영화 '어린 의뢰인'이 5월 22일 개봉을 확정하고 이동휘 배우는 \"시나리오를 처음...</td>\n",
       "      <td>2019-04-29 18:51:00</td>\n",
       "    </tr>\n",
       "    <tr>\n",
       "      <th>7347</th>\n",
       "      <td>358415429</td>\n",
       "      <td>전남정보문화산업진흥원, 중소기업 제품 페스티벌 성황리 개최</td>\n",
       "      <td>전남정보문화산업진흥원(원장 이준근)은 지난달 31일부터 1일까지 이틀간 롯데아울렛 ...</td>\n",
       "      <td>전남정보문화산업진흥원은 2일 지난달 31일부터 1일까지 롯데아울렛 남악점에서 콘텐츠...</td>\n",
       "      <td>2019-09-02 16:09:15</td>\n",
       "    </tr>\n",
       "    <tr>\n",
       "      <th>2479</th>\n",
       "      <td>343188339</td>\n",
       "      <td>'어벤져스: 엔드게임' 관객수 600만명 돌파 '흥행 역사 새로 쓴다'</td>\n",
       "      <td>할리우드 블록버스터 '어벤져스: 엔드게임'이 개봉 5일 만에 600만 관객 고지를 ...</td>\n",
       "      <td>29일 기준 할리우드 블록버스터 '어벤져스:엔드게임'은 개봉 5일만에 전국 2833...</td>\n",
       "      <td>2019-04-29 08:19:00</td>\n",
       "    </tr>\n",
       "    <tr>\n",
       "      <th>3045</th>\n",
       "      <td>351119364</td>\n",
       "      <td>LG유플러스, 세계 최초 '클라우드 VR게임'으로 5G콘텐츠 선점</td>\n",
       "      <td>LG유플러스가 5G 기반 클라우드 VR게임을 하반기 세계최초 출시할 계획이다. LG...</td>\n",
       "      <td>LG유플러스는 VR이 세계 최초로 대용량 데이터트래픽을 발생시키는 동시에 가입자에게...</td>\n",
       "      <td>2019-07-02 14:54:00</td>\n",
       "    </tr>\n",
       "    <tr>\n",
       "      <th>22560</th>\n",
       "      <td>343907309</td>\n",
       "      <td>방방 뛰는 아이 혼내시나요?...‘점프’는 성장에 도움</td>\n",
       "      <td>7살과 5살 남자 아이를 둔 주부 박모(41)씨는 지난 달 이사를 했다. 이사를 하...</td>\n",
       "      <td>지난 달 두 어린 아들을 키우는 주부 박모(41)씨는 이사를 하면서 층간소음에 대한...</td>\n",
       "      <td>2019-05-04 07:56:00</td>\n",
       "    </tr>\n",
       "  </tbody>\n",
       "</table>\n",
       "<p>10000 rows × 5 columns</p>\n",
       "</div>"
      ],
      "text/plain": [
       "              id                                         title  \\\n",
       "26874  347828703                      新북방정책...하나금융, 금융협력 폭 넓힌다   \n",
       "4769   353905433      강원도는 원격의료, 부산은 블록체인...세계 최초 규제자유특구 7곳 출범   \n",
       "28799  349627869                        저금리속 현금 따박따박...인컴펀드 눈길   \n",
       "29878  350570026            ‘송송 커플’ 이혼이 장악한 연예계 이슈, 누가 울고 웃었나?   \n",
       "16435  344261823                           LPG운반선 운임 4개월 만에 6배   \n",
       "...          ...                                           ...   \n",
       "2633   343304806  '어린 의뢰인' 이동휘, \"시나리오 보고 먹먹했다...가볍게 표현될까 두려웠다\"   \n",
       "7347   358415429              전남정보문화산업진흥원, 중소기업 제품 페스티벌 성황리 개최   \n",
       "2479   343188339       '어벤져스: 엔드게임' 관객수 600만명 돌파 '흥행 역사 새로 쓴다'   \n",
       "3045   351119364          LG유플러스, 세계 최초 '클라우드 VR게임'으로 5G콘텐츠 선점   \n",
       "22560  343907309                방방 뛰는 아이 혼내시나요?...‘점프’는 성장에 도움   \n",
       "\n",
       "                                                    text  \\\n",
       "26874  하나금융그룹이 러시아 블라디보스토크에 영업점 개설을 추진한다. 정부의 신(新)북방정...   \n",
       "4769   강원도가 도민에게 원격의료를 시행하고, 부산은 블록체인 기반 금융·행정서비스를 제공...   \n",
       "28799  미국이 통화정책 기조를 금리 정상화에서 인하로 틀겠다는 신호를 보내면서 투자전략에도...   \n",
       "29878  송중기, 송혜교의 이혼이 연예계 각종 이슈들을 집어삼켰다. 각종 행사들은 주목을 받...   \n",
       "16435  미국산 동남아 수출 증가 초대형 액화석유가스(LPG) 운반선 운임료가 올해들어 6배...   \n",
       "...                                                  ...   \n",
       "2633   영화 '어린 의뢰인'이 5월 22일 개봉을 확정하고 '메시지 #키워드 영상' 공개와...   \n",
       "7347   전남정보문화산업진흥원(원장 이준근)은 지난달 31일부터 1일까지 이틀간 롯데아울렛 ...   \n",
       "2479   할리우드 블록버스터 '어벤져스: 엔드게임'이 개봉 5일 만에 600만 관객 고지를 ...   \n",
       "3045   LG유플러스가 5G 기반 클라우드 VR게임을 하반기 세계최초 출시할 계획이다. LG...   \n",
       "22560  7살과 5살 남자 아이를 둔 주부 박모(41)씨는 지난 달 이사를 했다. 이사를 하...   \n",
       "\n",
       "                                                 summary         publish_date  \n",
       "26874  하나금융은 지난 3일 블라디보스토크에서 영업점 개설을 추진하고, 신북방정책에 부응해...  2019-06-05 11:34:00  \n",
       "4769   문재인 대통령은 24일 부산에서 시.도지사 간담회를 갖고 정부는 세계 최초로 7개 ...  2019-07-24 14:13:00  \n",
       "28799  지난 19일 미국 연방준비제도(FED)가 연방공개시장위원회(FOMC) 종료 직후 공...  2019-06-20 11:31:00  \n",
       "29878  지난 26일 송중기와 송혜교의 이혼이 큰 화제가 되면서 이전의 다른 연예인들의 논란...  2019-06-27 16:57:00  \n",
       "16435  초대형 액화석유가스(LPG) 운반선 운임료가 올들어 6배 증가한 원인으로 봄철 북미...  2019-05-08 10:58:02  \n",
       "...                                                  ...                  ...  \n",
       "2633   영화 '어린 의뢰인'이 5월 22일 개봉을 확정하고 이동휘 배우는 \"시나리오를 처음...  2019-04-29 18:51:00  \n",
       "7347   전남정보문화산업진흥원은 2일 지난달 31일부터 1일까지 롯데아울렛 남악점에서 콘텐츠...  2019-09-02 16:09:15  \n",
       "2479   29일 기준 할리우드 블록버스터 '어벤져스:엔드게임'은 개봉 5일만에 전국 2833...  2019-04-29 08:19:00  \n",
       "3045   LG유플러스는 VR이 세계 최초로 대용량 데이터트래픽을 발생시키는 동시에 가입자에게...  2019-07-02 14:54:00  \n",
       "22560  지난 달 두 어린 아들을 키우는 주부 박모(41)씨는 이사를 하면서 층간소음에 대한...  2019-05-04 07:56:00  \n",
       "\n",
       "[10000 rows x 5 columns]"
      ]
     },
     "execution_count": 57,
     "metadata": {},
     "output_type": "execute_result"
    }
   ],
   "source": [
    "valid_news_laws_sampled"
   ]
  },
  {
   "cell_type": "code",
   "execution_count": 58,
   "metadata": {},
   "outputs": [],
   "source": [
    "valid_news_laws_sampled.to_csv('/Volumes/GoogleDrive/My Drive/gassum/data/valid_news+law_sampled.csv', index=False)"
   ]
  },
  {
   "cell_type": "code",
   "execution_count": null,
   "metadata": {},
   "outputs": [],
   "source": []
  }
 ],
 "metadata": {
  "interpreter": {
   "hash": "118dda7dd5b4f9ba402e4c816bdd6144d8c137eae9fb0dd2c8b169e7ca3dde8e"
  },
  "kernelspec": {
   "display_name": "Python 3.8.5 64-bit ('base': conda)",
   "language": "python",
   "name": "python3"
  },
  "language_info": {
   "codemirror_mode": {
    "name": "ipython",
    "version": 3
   },
   "file_extension": ".py",
   "mimetype": "text/x-python",
   "name": "python",
   "nbconvert_exporter": "python",
   "pygments_lexer": "ipython3",
   "version": "3.8.8"
  },
  "orig_nbformat": 4
 },
 "nbformat": 4,
 "nbformat_minor": 2
}
