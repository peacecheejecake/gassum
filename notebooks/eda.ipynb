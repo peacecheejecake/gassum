{
 "cells": [
  {
   "cell_type": "code",
   "execution_count": 2,
   "metadata": {},
   "outputs": [],
   "source": [
    "import pandas as pd"
   ]
  },
  {
   "cell_type": "code",
   "execution_count": 3,
   "metadata": {},
   "outputs": [],
   "source": [
    "train_path = '/Users/jiwonmin/wisenet_summary_comp/data/text_summary_dataset_1125/train_summary.json'\n",
    "test_report_path = '/Users/jiwonmin/wisenet_summary_comp/data/text_summary_dataset_1125/test_summary.json'\n",
    "test_broadcast_path = '/Users/jiwonmin/wisenet_summary_comp/data/text_summary_dataset_1125/train_summary_broadcast.json'"
   ]
  },
  {
   "cell_type": "code",
   "execution_count": 4,
   "metadata": {},
   "outputs": [],
   "source": [
    "train_df = pd.read_json(train_path)"
   ]
  },
  {
   "cell_type": "code",
   "execution_count": 5,
   "metadata": {},
   "outputs": [
    {
     "data": {
      "text/html": [
       "<div>\n",
       "<style scoped>\n",
       "    .dataframe tbody tr th:only-of-type {\n",
       "        vertical-align: middle;\n",
       "    }\n",
       "\n",
       "    .dataframe tbody tr th {\n",
       "        vertical-align: top;\n",
       "    }\n",
       "\n",
       "    .dataframe thead th {\n",
       "        text-align: right;\n",
       "    }\n",
       "</style>\n",
       "<table border=\"1\" class=\"dataframe\">\n",
       "  <thead>\n",
       "    <tr style=\"text-align: right;\">\n",
       "      <th></th>\n",
       "      <th>original</th>\n",
       "      <th>summary</th>\n",
       "      <th>Meta</th>\n",
       "    </tr>\n",
       "  </thead>\n",
       "  <tbody>\n",
       "    <tr>\n",
       "      <th>0</th>\n",
       "      <td>만정헌은 약 500여년전 현감벼슬을 지냈던 김자간이 경주에서 울산 명촌리에 들어와 ...</td>\n",
       "      <td>만정헌은 약 500여년전 현감벼슬을 지냈던 김자간이 경주에서 울산 명촌리에 들어와 ...</td>\n",
       "      <td>{'passage_id': 'REPORT-cultural_assets-10670-0...</td>\n",
       "    </tr>\n",
       "    <tr>\n",
       "      <th>1</th>\n",
       "      <td>부여 관북리유적은 1983년 9월 충청남도 기념물 제43호 전백제왕궁지(傳百濟王宮址...</td>\n",
       "      <td>부여 관북리유적은 1983년 9월 충청남도 기념물 제43호 전백제왕궁지(傳百濟王宮址...</td>\n",
       "      <td>{'passage_id': 'REPORT-cultural_assets-03009-0...</td>\n",
       "    </tr>\n",
       "    <tr>\n",
       "      <th>2</th>\n",
       "      <td>『문정공 김상헌 진적』은 청음 김상헌 친필로 일부는 그의 손자인 곡운 김수증이 보필...</td>\n",
       "      <td>내용의 대부분이『청음집』에 수록 되어있으나, 본 자료에는 붉은색으로 교정을 가한 표...</td>\n",
       "      <td>{'passage_id': 'REPORT-cultural_assets-04844-0...</td>\n",
       "    </tr>\n",
       "    <tr>\n",
       "      <th>3</th>\n",
       "      <td>조선 후기 안동김씨 세도기 후반의 중심인물이었던 하옥 김좌근의 아들인 김병기(金炳冀...</td>\n",
       "      <td>조선 후기 안동김씨 세도기 후반의 중심인물이었던 하옥 김좌근의 아들인 김병기(金炳冀...</td>\n",
       "      <td>{'passage_id': 'REPORT-cultural_assets-10368-0...</td>\n",
       "    </tr>\n",
       "    <tr>\n",
       "      <th>4</th>\n",
       "      <td>외토리 마을에 있는 한 채의 비각 안에 나란히 서 있는 2기의 비이다. 앞에서 보아...</td>\n",
       "      <td>외토리 마을에 있는 한 채의 비각 안에 나란히 서 있는 2기의 비이다.  앞에서 보...</td>\n",
       "      <td>{'passage_id': 'REPORT-cultural_assets-06668-0...</td>\n",
       "    </tr>\n",
       "  </tbody>\n",
       "</table>\n",
       "</div>"
      ],
      "text/plain": [
       "                                            original  \\\n",
       "0  만정헌은 약 500여년전 현감벼슬을 지냈던 김자간이 경주에서 울산 명촌리에 들어와 ...   \n",
       "1  부여 관북리유적은 1983년 9월 충청남도 기념물 제43호 전백제왕궁지(傳百濟王宮址...   \n",
       "2  『문정공 김상헌 진적』은 청음 김상헌 친필로 일부는 그의 손자인 곡운 김수증이 보필...   \n",
       "3  조선 후기 안동김씨 세도기 후반의 중심인물이었던 하옥 김좌근의 아들인 김병기(金炳冀...   \n",
       "4  외토리 마을에 있는 한 채의 비각 안에 나란히 서 있는 2기의 비이다. 앞에서 보아...   \n",
       "\n",
       "                                             summary  \\\n",
       "0  만정헌은 약 500여년전 현감벼슬을 지냈던 김자간이 경주에서 울산 명촌리에 들어와 ...   \n",
       "1  부여 관북리유적은 1983년 9월 충청남도 기념물 제43호 전백제왕궁지(傳百濟王宮址...   \n",
       "2  내용의 대부분이『청음집』에 수록 되어있으나, 본 자료에는 붉은색으로 교정을 가한 표...   \n",
       "3  조선 후기 안동김씨 세도기 후반의 중심인물이었던 하옥 김좌근의 아들인 김병기(金炳冀...   \n",
       "4  외토리 마을에 있는 한 채의 비각 안에 나란히 서 있는 2기의 비이다.  앞에서 보...   \n",
       "\n",
       "                                                Meta  \n",
       "0  {'passage_id': 'REPORT-cultural_assets-10670-0...  \n",
       "1  {'passage_id': 'REPORT-cultural_assets-03009-0...  \n",
       "2  {'passage_id': 'REPORT-cultural_assets-04844-0...  \n",
       "3  {'passage_id': 'REPORT-cultural_assets-10368-0...  \n",
       "4  {'passage_id': 'REPORT-cultural_assets-06668-0...  "
      ]
     },
     "execution_count": 5,
     "metadata": {},
     "output_type": "execute_result"
    }
   ],
   "source": [
    "train_df.head()"
   ]
  },
  {
   "cell_type": "code",
   "execution_count": 6,
   "metadata": {},
   "outputs": [
    {
     "data": {
      "text/plain": [
       "18548"
      ]
     },
     "execution_count": 6,
     "metadata": {},
     "output_type": "execute_result"
    }
   ],
   "source": [
    "len(train_df)"
   ]
  },
  {
   "cell_type": "code",
   "execution_count": null,
   "metadata": {},
   "outputs": [],
   "source": []
  }
 ],
 "metadata": {
  "interpreter": {
   "hash": "118dda7dd5b4f9ba402e4c816bdd6144d8c137eae9fb0dd2c8b169e7ca3dde8e"
  },
  "kernelspec": {
   "display_name": "Python 3.8.8 64-bit ('base': conda)",
   "language": "python",
   "name": "python3"
  },
  "language_info": {
   "codemirror_mode": {
    "name": "ipython",
    "version": 3
   },
   "file_extension": ".py",
   "mimetype": "text/x-python",
   "name": "python",
   "nbconvert_exporter": "python",
   "pygments_lexer": "ipython3",
   "version": "3.8.8"
  },
  "orig_nbformat": 4
 },
 "nbformat": 4,
 "nbformat_minor": 2
}
